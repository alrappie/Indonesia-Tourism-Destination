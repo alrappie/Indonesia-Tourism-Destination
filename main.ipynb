{
 "cells": [
  {
   "cell_type": "markdown",
   "metadata": {},
   "source": [
    "Import Relevant Libraries"
   ]
  },
  {
   "cell_type": "code",
   "execution_count": 1,
   "metadata": {},
   "outputs": [],
   "source": [
    "import pandas as pd\n",
    "import numpy as np\n",
    "import seaborn as sns\n",
    "import matplotlib.pyplot as plt\n",
    "import warnings\n",
    "import geopandas as gpd\n",
    "import plotly.express as px\n",
    "warnings.filterwarnings( \"ignore\", module = \"matplotlib\\..*\" )\n",
    "sns.set_style('darkgrid')"
   ]
  },
  {
   "cell_type": "markdown",
   "metadata": {},
   "source": [
    "Import Files"
   ]
  },
  {
   "cell_type": "code",
   "execution_count": 2,
   "metadata": {},
   "outputs": [
    {
     "name": "stdout",
     "output_type": "stream",
     "text": [
      "(100, 7)\n"
     ]
    },
    {
     "data": {
      "text/html": [
       "<div>\n",
       "<style scoped>\n",
       "    .dataframe tbody tr th:only-of-type {\n",
       "        vertical-align: middle;\n",
       "    }\n",
       "\n",
       "    .dataframe tbody tr th {\n",
       "        vertical-align: top;\n",
       "    }\n",
       "\n",
       "    .dataframe thead th {\n",
       "        text-align: right;\n",
       "    }\n",
       "</style>\n",
       "<table border=\"1\" class=\"dataframe\">\n",
       "  <thead>\n",
       "    <tr style=\"text-align: right;\">\n",
       "      <th></th>\n",
       "      <th>Package</th>\n",
       "      <th>City</th>\n",
       "      <th>Place_Tourism1</th>\n",
       "      <th>Place_Tourism2</th>\n",
       "      <th>Place_Tourism3</th>\n",
       "      <th>Place_Tourism4</th>\n",
       "      <th>Place_Tourism5</th>\n",
       "    </tr>\n",
       "  </thead>\n",
       "  <tbody>\n",
       "    <tr>\n",
       "      <th>0</th>\n",
       "      <td>1</td>\n",
       "      <td>Jakarta</td>\n",
       "      <td>Pasar Tanah Abang</td>\n",
       "      <td>Taman Ayodya</td>\n",
       "      <td>Museum Tekstil</td>\n",
       "      <td>NaN</td>\n",
       "      <td>NaN</td>\n",
       "    </tr>\n",
       "    <tr>\n",
       "      <th>1</th>\n",
       "      <td>2</td>\n",
       "      <td>Jakarta</td>\n",
       "      <td>Pasar Tanah Abang</td>\n",
       "      <td>Pasar Taman Puring</td>\n",
       "      <td>Pasar Petak Sembilan</td>\n",
       "      <td>NaN</td>\n",
       "      <td>NaN</td>\n",
       "    </tr>\n",
       "    <tr>\n",
       "      <th>2</th>\n",
       "      <td>3</td>\n",
       "      <td>Jakarta</td>\n",
       "      <td>Perpustakaan Nasional</td>\n",
       "      <td>Monas</td>\n",
       "      <td>Masjid Istiqlal</td>\n",
       "      <td>NaN</td>\n",
       "      <td>NaN</td>\n",
       "    </tr>\n",
       "    <tr>\n",
       "      <th>3</th>\n",
       "      <td>4</td>\n",
       "      <td>Jakarta</td>\n",
       "      <td>Pulau Tidung</td>\n",
       "      <td>Pulau Bidadari</td>\n",
       "      <td>Pulau Pari</td>\n",
       "      <td>Pulau Pramuka</td>\n",
       "      <td>Pulau Pelangi</td>\n",
       "    </tr>\n",
       "    <tr>\n",
       "      <th>4</th>\n",
       "      <td>5</td>\n",
       "      <td>Jakarta</td>\n",
       "      <td>Museum Satria Mandala</td>\n",
       "      <td>Museum Wayang</td>\n",
       "      <td>Museum Bahari Jakarta</td>\n",
       "      <td>Museum Macan (Modern and Contemporary Art in N...</td>\n",
       "      <td>NaN</td>\n",
       "    </tr>\n",
       "  </tbody>\n",
       "</table>\n",
       "</div>"
      ],
      "text/plain": [
       "   Package     City         Place_Tourism1      Place_Tourism2  \\\n",
       "0        1  Jakarta      Pasar Tanah Abang        Taman Ayodya   \n",
       "1        2  Jakarta      Pasar Tanah Abang  Pasar Taman Puring   \n",
       "2        3  Jakarta  Perpustakaan Nasional               Monas   \n",
       "3        4  Jakarta           Pulau Tidung      Pulau Bidadari   \n",
       "4        5  Jakarta  Museum Satria Mandala       Museum Wayang   \n",
       "\n",
       "          Place_Tourism3                                     Place_Tourism4  \\\n",
       "0         Museum Tekstil                                                NaN   \n",
       "1   Pasar Petak Sembilan                                                NaN   \n",
       "2        Masjid Istiqlal                                                NaN   \n",
       "3             Pulau Pari                                      Pulau Pramuka   \n",
       "4  Museum Bahari Jakarta  Museum Macan (Modern and Contemporary Art in N...   \n",
       "\n",
       "  Place_Tourism5  \n",
       "0            NaN  \n",
       "1            NaN  \n",
       "2            NaN  \n",
       "3  Pulau Pelangi  \n",
       "4            NaN  "
      ]
     },
     "execution_count": 2,
     "metadata": {},
     "output_type": "execute_result"
    }
   ],
   "source": [
    "# package_tourism files\n",
    "package_tourism = pd.read_csv('package_tourism.csv',delimiter=',')\n",
    "print(package_tourism.shape)\n",
    "package_tourism.head()"
   ]
  },
  {
   "cell_type": "code",
   "execution_count": 3,
   "metadata": {},
   "outputs": [
    {
     "name": "stdout",
     "output_type": "stream",
     "text": [
      "(10000, 3)\n"
     ]
    },
    {
     "data": {
      "text/html": [
       "<div>\n",
       "<style scoped>\n",
       "    .dataframe tbody tr th:only-of-type {\n",
       "        vertical-align: middle;\n",
       "    }\n",
       "\n",
       "    .dataframe tbody tr th {\n",
       "        vertical-align: top;\n",
       "    }\n",
       "\n",
       "    .dataframe thead th {\n",
       "        text-align: right;\n",
       "    }\n",
       "</style>\n",
       "<table border=\"1\" class=\"dataframe\">\n",
       "  <thead>\n",
       "    <tr style=\"text-align: right;\">\n",
       "      <th></th>\n",
       "      <th>User_Id</th>\n",
       "      <th>Place_Id</th>\n",
       "      <th>Place_Ratings</th>\n",
       "    </tr>\n",
       "  </thead>\n",
       "  <tbody>\n",
       "    <tr>\n",
       "      <th>0</th>\n",
       "      <td>1</td>\n",
       "      <td>179</td>\n",
       "      <td>3</td>\n",
       "    </tr>\n",
       "    <tr>\n",
       "      <th>1</th>\n",
       "      <td>1</td>\n",
       "      <td>344</td>\n",
       "      <td>2</td>\n",
       "    </tr>\n",
       "    <tr>\n",
       "      <th>2</th>\n",
       "      <td>1</td>\n",
       "      <td>5</td>\n",
       "      <td>5</td>\n",
       "    </tr>\n",
       "    <tr>\n",
       "      <th>3</th>\n",
       "      <td>1</td>\n",
       "      <td>373</td>\n",
       "      <td>3</td>\n",
       "    </tr>\n",
       "    <tr>\n",
       "      <th>4</th>\n",
       "      <td>1</td>\n",
       "      <td>101</td>\n",
       "      <td>4</td>\n",
       "    </tr>\n",
       "  </tbody>\n",
       "</table>\n",
       "</div>"
      ],
      "text/plain": [
       "   User_Id  Place_Id  Place_Ratings\n",
       "0        1       179              3\n",
       "1        1       344              2\n",
       "2        1         5              5\n",
       "3        1       373              3\n",
       "4        1       101              4"
      ]
     },
     "execution_count": 3,
     "metadata": {},
     "output_type": "execute_result"
    }
   ],
   "source": [
    "# tourism_rating files\n",
    "tourism_rating = pd.read_csv('tourism_rating.csv',delimiter=',')\n",
    "print(tourism_rating.shape)\n",
    "tourism_rating.head()"
   ]
  },
  {
   "cell_type": "code",
   "execution_count": 4,
   "metadata": {},
   "outputs": [
    {
     "name": "stdout",
     "output_type": "stream",
     "text": [
      "(437, 13)\n"
     ]
    },
    {
     "data": {
      "text/html": [
       "<div>\n",
       "<style scoped>\n",
       "    .dataframe tbody tr th:only-of-type {\n",
       "        vertical-align: middle;\n",
       "    }\n",
       "\n",
       "    .dataframe tbody tr th {\n",
       "        vertical-align: top;\n",
       "    }\n",
       "\n",
       "    .dataframe thead th {\n",
       "        text-align: right;\n",
       "    }\n",
       "</style>\n",
       "<table border=\"1\" class=\"dataframe\">\n",
       "  <thead>\n",
       "    <tr style=\"text-align: right;\">\n",
       "      <th></th>\n",
       "      <th>Place_Id</th>\n",
       "      <th>Place_Name</th>\n",
       "      <th>Description</th>\n",
       "      <th>Category</th>\n",
       "      <th>City</th>\n",
       "      <th>Price</th>\n",
       "      <th>Rating</th>\n",
       "      <th>Time_Minutes</th>\n",
       "      <th>Coordinate</th>\n",
       "      <th>Lat</th>\n",
       "      <th>Long</th>\n",
       "      <th>Unnamed: 11</th>\n",
       "      <th>Unnamed: 12</th>\n",
       "    </tr>\n",
       "  </thead>\n",
       "  <tbody>\n",
       "    <tr>\n",
       "      <th>0</th>\n",
       "      <td>1</td>\n",
       "      <td>Monumen Nasional</td>\n",
       "      <td>Monumen Nasional atau yang populer disingkat d...</td>\n",
       "      <td>Budaya</td>\n",
       "      <td>Jakarta</td>\n",
       "      <td>20000</td>\n",
       "      <td>4.6</td>\n",
       "      <td>15.0</td>\n",
       "      <td>{'lat': -6.1753924, 'lng': 106.8271528}</td>\n",
       "      <td>-6.175392</td>\n",
       "      <td>106.827153</td>\n",
       "      <td>NaN</td>\n",
       "      <td>1</td>\n",
       "    </tr>\n",
       "    <tr>\n",
       "      <th>1</th>\n",
       "      <td>2</td>\n",
       "      <td>Kota Tua</td>\n",
       "      <td>Kota tua di Jakarta, yang juga bernama Kota Tu...</td>\n",
       "      <td>Budaya</td>\n",
       "      <td>Jakarta</td>\n",
       "      <td>0</td>\n",
       "      <td>4.6</td>\n",
       "      <td>90.0</td>\n",
       "      <td>{'lat': -6.137644799999999, 'lng': 106.8171245}</td>\n",
       "      <td>-6.137645</td>\n",
       "      <td>106.817125</td>\n",
       "      <td>NaN</td>\n",
       "      <td>2</td>\n",
       "    </tr>\n",
       "    <tr>\n",
       "      <th>2</th>\n",
       "      <td>3</td>\n",
       "      <td>Dunia Fantasi</td>\n",
       "      <td>Dunia Fantasi atau disebut juga Dufan adalah t...</td>\n",
       "      <td>Taman Hiburan</td>\n",
       "      <td>Jakarta</td>\n",
       "      <td>270000</td>\n",
       "      <td>4.6</td>\n",
       "      <td>360.0</td>\n",
       "      <td>{'lat': -6.125312399999999, 'lng': 106.8335377}</td>\n",
       "      <td>-6.125312</td>\n",
       "      <td>106.833538</td>\n",
       "      <td>NaN</td>\n",
       "      <td>3</td>\n",
       "    </tr>\n",
       "  </tbody>\n",
       "</table>\n",
       "</div>"
      ],
      "text/plain": [
       "   Place_Id        Place_Name  \\\n",
       "0         1  Monumen Nasional   \n",
       "1         2          Kota Tua   \n",
       "2         3     Dunia Fantasi   \n",
       "\n",
       "                                         Description       Category     City  \\\n",
       "0  Monumen Nasional atau yang populer disingkat d...         Budaya  Jakarta   \n",
       "1  Kota tua di Jakarta, yang juga bernama Kota Tu...         Budaya  Jakarta   \n",
       "2  Dunia Fantasi atau disebut juga Dufan adalah t...  Taman Hiburan  Jakarta   \n",
       "\n",
       "    Price  Rating  Time_Minutes  \\\n",
       "0   20000     4.6          15.0   \n",
       "1       0     4.6          90.0   \n",
       "2  270000     4.6         360.0   \n",
       "\n",
       "                                        Coordinate       Lat        Long  \\\n",
       "0          {'lat': -6.1753924, 'lng': 106.8271528} -6.175392  106.827153   \n",
       "1  {'lat': -6.137644799999999, 'lng': 106.8171245} -6.137645  106.817125   \n",
       "2  {'lat': -6.125312399999999, 'lng': 106.8335377} -6.125312  106.833538   \n",
       "\n",
       "   Unnamed: 11  Unnamed: 12  \n",
       "0          NaN            1  \n",
       "1          NaN            2  \n",
       "2          NaN            3  "
      ]
     },
     "execution_count": 4,
     "metadata": {},
     "output_type": "execute_result"
    }
   ],
   "source": [
    "# tourism_with_id files\n",
    "tourism_with_id = pd.read_csv('tourism_with_id.csv',delimiter=',')\n",
    "print(tourism_with_id.shape)\n",
    "tourism_with_id.head(3)"
   ]
  },
  {
   "cell_type": "code",
   "execution_count": 5,
   "metadata": {},
   "outputs": [
    {
     "name": "stdout",
     "output_type": "stream",
     "text": [
      "(300, 3)\n"
     ]
    },
    {
     "data": {
      "text/html": [
       "<div>\n",
       "<style scoped>\n",
       "    .dataframe tbody tr th:only-of-type {\n",
       "        vertical-align: middle;\n",
       "    }\n",
       "\n",
       "    .dataframe tbody tr th {\n",
       "        vertical-align: top;\n",
       "    }\n",
       "\n",
       "    .dataframe thead th {\n",
       "        text-align: right;\n",
       "    }\n",
       "</style>\n",
       "<table border=\"1\" class=\"dataframe\">\n",
       "  <thead>\n",
       "    <tr style=\"text-align: right;\">\n",
       "      <th></th>\n",
       "      <th>User_Id</th>\n",
       "      <th>Location</th>\n",
       "      <th>Age</th>\n",
       "    </tr>\n",
       "  </thead>\n",
       "  <tbody>\n",
       "    <tr>\n",
       "      <th>0</th>\n",
       "      <td>1</td>\n",
       "      <td>Semarang, Jawa Tengah</td>\n",
       "      <td>20</td>\n",
       "    </tr>\n",
       "    <tr>\n",
       "      <th>1</th>\n",
       "      <td>2</td>\n",
       "      <td>Bekasi, Jawa Barat</td>\n",
       "      <td>21</td>\n",
       "    </tr>\n",
       "    <tr>\n",
       "      <th>2</th>\n",
       "      <td>3</td>\n",
       "      <td>Cirebon, Jawa Barat</td>\n",
       "      <td>23</td>\n",
       "    </tr>\n",
       "    <tr>\n",
       "      <th>3</th>\n",
       "      <td>4</td>\n",
       "      <td>Bekasi, Jawa Barat</td>\n",
       "      <td>21</td>\n",
       "    </tr>\n",
       "    <tr>\n",
       "      <th>4</th>\n",
       "      <td>5</td>\n",
       "      <td>Lampung, Sumatera Selatan</td>\n",
       "      <td>20</td>\n",
       "    </tr>\n",
       "  </tbody>\n",
       "</table>\n",
       "</div>"
      ],
      "text/plain": [
       "   User_Id                   Location  Age\n",
       "0        1      Semarang, Jawa Tengah   20\n",
       "1        2         Bekasi, Jawa Barat   21\n",
       "2        3        Cirebon, Jawa Barat   23\n",
       "3        4         Bekasi, Jawa Barat   21\n",
       "4        5  Lampung, Sumatera Selatan   20"
      ]
     },
     "execution_count": 5,
     "metadata": {},
     "output_type": "execute_result"
    }
   ],
   "source": [
    "# user files\n",
    "user = pd.read_csv('user.csv',delimiter=',')\n",
    "print(user.shape)\n",
    "user.head()"
   ]
  },
  {
   "cell_type": "code",
   "execution_count": 6,
   "metadata": {},
   "outputs": [
    {
     "data": {
      "text/html": [
       "<div>\n",
       "<style scoped>\n",
       "    .dataframe tbody tr th:only-of-type {\n",
       "        vertical-align: middle;\n",
       "    }\n",
       "\n",
       "    .dataframe tbody tr th {\n",
       "        vertical-align: top;\n",
       "    }\n",
       "\n",
       "    .dataframe thead th {\n",
       "        text-align: right;\n",
       "    }\n",
       "</style>\n",
       "<table border=\"1\" class=\"dataframe\">\n",
       "  <thead>\n",
       "    <tr style=\"text-align: right;\">\n",
       "      <th></th>\n",
       "      <th>GID_0</th>\n",
       "      <th>NAME_0</th>\n",
       "      <th>GID_1</th>\n",
       "      <th>NAME_1</th>\n",
       "      <th>VARNAME_1</th>\n",
       "      <th>NL_NAME_1</th>\n",
       "      <th>TYPE_1</th>\n",
       "      <th>ENGTYPE_1</th>\n",
       "      <th>CC_1</th>\n",
       "      <th>HASC_1</th>\n",
       "      <th>geometry</th>\n",
       "    </tr>\n",
       "  </thead>\n",
       "  <tbody>\n",
       "    <tr>\n",
       "      <th>0</th>\n",
       "      <td>IDN</td>\n",
       "      <td>Indonesia</td>\n",
       "      <td>IDN.1_1</td>\n",
       "      <td>Aceh</td>\n",
       "      <td></td>\n",
       "      <td></td>\n",
       "      <td>Propinisi</td>\n",
       "      <td>Province</td>\n",
       "      <td>11</td>\n",
       "      <td>ID.AC</td>\n",
       "      <td>MULTIPOLYGON (((96.66509 2.12018, 96.66271 2.1...</td>\n",
       "    </tr>\n",
       "    <tr>\n",
       "      <th>1</th>\n",
       "      <td>IDN</td>\n",
       "      <td>Indonesia</td>\n",
       "      <td>IDN.2_1</td>\n",
       "      <td>Bali</td>\n",
       "      <td></td>\n",
       "      <td></td>\n",
       "      <td>Propinisi</td>\n",
       "      <td>Province</td>\n",
       "      <td>51</td>\n",
       "      <td>ID.BA</td>\n",
       "      <td>MULTIPOLYGON (((115.59464 -8.81672, 115.59473 ...</td>\n",
       "    </tr>\n",
       "    <tr>\n",
       "      <th>2</th>\n",
       "      <td>IDN</td>\n",
       "      <td>Indonesia</td>\n",
       "      <td>IDN.3_1</td>\n",
       "      <td>Bangka Belitung</td>\n",
       "      <td></td>\n",
       "      <td></td>\n",
       "      <td>Propinisi</td>\n",
       "      <td>Province</td>\n",
       "      <td>19</td>\n",
       "      <td>ID.BB</td>\n",
       "      <td>MULTIPOLYGON (((107.96173 -3.41100, 107.96080 ...</td>\n",
       "    </tr>\n",
       "  </tbody>\n",
       "</table>\n",
       "</div>"
      ],
      "text/plain": [
       "  GID_0     NAME_0    GID_1           NAME_1 VARNAME_1 NL_NAME_1     TYPE_1  \\\n",
       "0   IDN  Indonesia  IDN.1_1             Aceh                      Propinisi   \n",
       "1   IDN  Indonesia  IDN.2_1             Bali                      Propinisi   \n",
       "2   IDN  Indonesia  IDN.3_1  Bangka Belitung                      Propinisi   \n",
       "\n",
       "  ENGTYPE_1 CC_1 HASC_1                                           geometry  \n",
       "0  Province   11  ID.AC  MULTIPOLYGON (((96.66509 2.12018, 96.66271 2.1...  \n",
       "1  Province   51  ID.BA  MULTIPOLYGON (((115.59464 -8.81672, 115.59473 ...  \n",
       "2  Province   19  ID.BB  MULTIPOLYGON (((107.96173 -3.41100, 107.96080 ...  "
      ]
     },
     "execution_count": 6,
     "metadata": {},
     "output_type": "execute_result"
    }
   ],
   "source": [
    "# Import GeoJSON Data\n",
    "file_geo = 'gadm36_IDN_1.json'\n",
    "df_geo = gpd.read_file(file_geo)\n",
    "df_geo.head(3)"
   ]
  },
  {
   "cell_type": "markdown",
   "metadata": {},
   "source": [
    "Data Cleaning"
   ]
  },
  {
   "cell_type": "code",
   "execution_count": 7,
   "metadata": {},
   "outputs": [
    {
     "name": "stdout",
     "output_type": "stream",
     "text": [
      "<class 'pandas.core.frame.DataFrame'>\n",
      "RangeIndex: 100 entries, 0 to 99\n",
      "Data columns (total 7 columns):\n",
      " #   Column          Non-Null Count  Dtype \n",
      "---  ------          --------------  ----- \n",
      " 0   Package         100 non-null    int64 \n",
      " 1   City            100 non-null    object\n",
      " 2   Place_Tourism1  100 non-null    object\n",
      " 3   Place_Tourism2  100 non-null    object\n",
      " 4   Place_Tourism3  100 non-null    object\n",
      " 5   Place_Tourism4  66 non-null     object\n",
      " 6   Place_Tourism5  39 non-null     object\n",
      "dtypes: int64(1), object(6)\n",
      "memory usage: 5.6+ KB\n"
     ]
    }
   ],
   "source": [
    "package_tourism.info()"
   ]
  },
  {
   "cell_type": "code",
   "execution_count": 8,
   "metadata": {},
   "outputs": [
    {
     "name": "stdout",
     "output_type": "stream",
     "text": [
      "<class 'pandas.core.frame.DataFrame'>\n",
      "RangeIndex: 10000 entries, 0 to 9999\n",
      "Data columns (total 3 columns):\n",
      " #   Column         Non-Null Count  Dtype\n",
      "---  ------         --------------  -----\n",
      " 0   User_Id        10000 non-null  int64\n",
      " 1   Place_Id       10000 non-null  int64\n",
      " 2   Place_Ratings  10000 non-null  int64\n",
      "dtypes: int64(3)\n",
      "memory usage: 234.5 KB\n"
     ]
    }
   ],
   "source": [
    "tourism_rating.info()"
   ]
  },
  {
   "cell_type": "code",
   "execution_count": 9,
   "metadata": {},
   "outputs": [
    {
     "name": "stdout",
     "output_type": "stream",
     "text": [
      "<class 'pandas.core.frame.DataFrame'>\n",
      "RangeIndex: 437 entries, 0 to 436\n",
      "Data columns (total 13 columns):\n",
      " #   Column        Non-Null Count  Dtype  \n",
      "---  ------        --------------  -----  \n",
      " 0   Place_Id      437 non-null    int64  \n",
      " 1   Place_Name    437 non-null    object \n",
      " 2   Description   437 non-null    object \n",
      " 3   Category      437 non-null    object \n",
      " 4   City          437 non-null    object \n",
      " 5   Price         437 non-null    int64  \n",
      " 6   Rating        437 non-null    float64\n",
      " 7   Time_Minutes  205 non-null    float64\n",
      " 8   Coordinate    437 non-null    object \n",
      " 9   Lat           437 non-null    float64\n",
      " 10  Long          437 non-null    float64\n",
      " 11  Unnamed: 11   0 non-null      float64\n",
      " 12  Unnamed: 12   437 non-null    int64  \n",
      "dtypes: float64(5), int64(3), object(5)\n",
      "memory usage: 44.5+ KB\n"
     ]
    }
   ],
   "source": [
    "tourism_with_id.info()"
   ]
  },
  {
   "cell_type": "markdown",
   "metadata": {},
   "source": [
    "drop 'Unnamed: 11','Unnamed: 12','Coordinate' columns because they not needed"
   ]
  },
  {
   "cell_type": "code",
   "execution_count": 10,
   "metadata": {},
   "outputs": [],
   "source": [
    "tourism_with_id = tourism_with_id.drop(['Unnamed: 11','Unnamed: 12','Coordinate'],axis=1)"
   ]
  },
  {
   "cell_type": "markdown",
   "metadata": {},
   "source": [
    "check for category column"
   ]
  },
  {
   "cell_type": "code",
   "execution_count": 11,
   "metadata": {},
   "outputs": [
    {
     "data": {
      "text/plain": [
       "Category\n",
       "Bahari                 47\n",
       "Budaya                117\n",
       "Cagar Alam            106\n",
       "Pusat Perbelanjaan     15\n",
       "Taman Hiburan         135\n",
       "Tempat Ibadah          17\n",
       "dtype: int64"
      ]
     },
     "execution_count": 11,
     "metadata": {},
     "output_type": "execute_result"
    }
   ],
   "source": [
    "tourism_with_id.groupby('Category').size() #size of each category"
   ]
  },
  {
   "cell_type": "code",
   "execution_count": 12,
   "metadata": {},
   "outputs": [
    {
     "data": {
      "text/plain": [
       "Taman Hiburan         63\n",
       "Budaya                56\n",
       "Cagar Alam            52\n",
       "Bahari                39\n",
       "Tempat Ibadah         17\n",
       "Pusat Perbelanjaan     5\n",
       "Name: Category, dtype: int64"
      ]
     },
     "execution_count": 12,
     "metadata": {},
     "output_type": "execute_result"
    }
   ],
   "source": [
    "tourism_with_id.loc[tourism_with_id['Time_Minutes'].isna(),'Category'].value_counts()\n",
    "#total null of each category"
   ]
  },
  {
   "cell_type": "code",
   "execution_count": 13,
   "metadata": {},
   "outputs": [],
   "source": [
    "tourism_with_id = tourism_with_id.drop('Time_Minutes',axis=1) # too many missing data on this column"
   ]
  },
  {
   "cell_type": "code",
   "execution_count": 14,
   "metadata": {},
   "outputs": [
    {
     "name": "stdout",
     "output_type": "stream",
     "text": [
      "<class 'pandas.core.frame.DataFrame'>\n",
      "RangeIndex: 300 entries, 0 to 299\n",
      "Data columns (total 3 columns):\n",
      " #   Column    Non-Null Count  Dtype \n",
      "---  ------    --------------  ----- \n",
      " 0   User_Id   300 non-null    int64 \n",
      " 1   Location  300 non-null    object\n",
      " 2   Age       300 non-null    int64 \n",
      "dtypes: int64(2), object(1)\n",
      "memory usage: 7.2+ KB\n"
     ]
    }
   ],
   "source": [
    "user.info()"
   ]
  },
  {
   "cell_type": "markdown",
   "metadata": {},
   "source": [
    "Merge user and tourism_rating\n"
   ]
  },
  {
   "cell_type": "code",
   "execution_count": 15,
   "metadata": {},
   "outputs": [
    {
     "data": {
      "text/html": [
       "<div>\n",
       "<style scoped>\n",
       "    .dataframe tbody tr th:only-of-type {\n",
       "        vertical-align: middle;\n",
       "    }\n",
       "\n",
       "    .dataframe tbody tr th {\n",
       "        vertical-align: top;\n",
       "    }\n",
       "\n",
       "    .dataframe thead th {\n",
       "        text-align: right;\n",
       "    }\n",
       "</style>\n",
       "<table border=\"1\" class=\"dataframe\">\n",
       "  <thead>\n",
       "    <tr style=\"text-align: right;\">\n",
       "      <th></th>\n",
       "      <th>User_Id</th>\n",
       "      <th>Place_Id</th>\n",
       "      <th>Place_Ratings</th>\n",
       "      <th>Location</th>\n",
       "      <th>Age</th>\n",
       "    </tr>\n",
       "  </thead>\n",
       "  <tbody>\n",
       "    <tr>\n",
       "      <th>0</th>\n",
       "      <td>1</td>\n",
       "      <td>179</td>\n",
       "      <td>3</td>\n",
       "      <td>Semarang, Jawa Tengah</td>\n",
       "      <td>20</td>\n",
       "    </tr>\n",
       "    <tr>\n",
       "      <th>1</th>\n",
       "      <td>1</td>\n",
       "      <td>344</td>\n",
       "      <td>2</td>\n",
       "      <td>Semarang, Jawa Tengah</td>\n",
       "      <td>20</td>\n",
       "    </tr>\n",
       "    <tr>\n",
       "      <th>2</th>\n",
       "      <td>1</td>\n",
       "      <td>5</td>\n",
       "      <td>5</td>\n",
       "      <td>Semarang, Jawa Tengah</td>\n",
       "      <td>20</td>\n",
       "    </tr>\n",
       "    <tr>\n",
       "      <th>3</th>\n",
       "      <td>1</td>\n",
       "      <td>373</td>\n",
       "      <td>3</td>\n",
       "      <td>Semarang, Jawa Tengah</td>\n",
       "      <td>20</td>\n",
       "    </tr>\n",
       "    <tr>\n",
       "      <th>4</th>\n",
       "      <td>1</td>\n",
       "      <td>101</td>\n",
       "      <td>4</td>\n",
       "      <td>Semarang, Jawa Tengah</td>\n",
       "      <td>20</td>\n",
       "    </tr>\n",
       "    <tr>\n",
       "      <th>...</th>\n",
       "      <td>...</td>\n",
       "      <td>...</td>\n",
       "      <td>...</td>\n",
       "      <td>...</td>\n",
       "      <td>...</td>\n",
       "    </tr>\n",
       "    <tr>\n",
       "      <th>9995</th>\n",
       "      <td>300</td>\n",
       "      <td>425</td>\n",
       "      <td>2</td>\n",
       "      <td>Ponorogo, Jawa Timur</td>\n",
       "      <td>26</td>\n",
       "    </tr>\n",
       "    <tr>\n",
       "      <th>9996</th>\n",
       "      <td>300</td>\n",
       "      <td>64</td>\n",
       "      <td>4</td>\n",
       "      <td>Ponorogo, Jawa Timur</td>\n",
       "      <td>26</td>\n",
       "    </tr>\n",
       "    <tr>\n",
       "      <th>9997</th>\n",
       "      <td>300</td>\n",
       "      <td>311</td>\n",
       "      <td>3</td>\n",
       "      <td>Ponorogo, Jawa Timur</td>\n",
       "      <td>26</td>\n",
       "    </tr>\n",
       "    <tr>\n",
       "      <th>9998</th>\n",
       "      <td>300</td>\n",
       "      <td>279</td>\n",
       "      <td>4</td>\n",
       "      <td>Ponorogo, Jawa Timur</td>\n",
       "      <td>26</td>\n",
       "    </tr>\n",
       "    <tr>\n",
       "      <th>9999</th>\n",
       "      <td>300</td>\n",
       "      <td>163</td>\n",
       "      <td>2</td>\n",
       "      <td>Ponorogo, Jawa Timur</td>\n",
       "      <td>26</td>\n",
       "    </tr>\n",
       "  </tbody>\n",
       "</table>\n",
       "<p>10000 rows × 5 columns</p>\n",
       "</div>"
      ],
      "text/plain": [
       "      User_Id  Place_Id  Place_Ratings               Location  Age\n",
       "0           1       179              3  Semarang, Jawa Tengah   20\n",
       "1           1       344              2  Semarang, Jawa Tengah   20\n",
       "2           1         5              5  Semarang, Jawa Tengah   20\n",
       "3           1       373              3  Semarang, Jawa Tengah   20\n",
       "4           1       101              4  Semarang, Jawa Tengah   20\n",
       "...       ...       ...            ...                    ...  ...\n",
       "9995      300       425              2   Ponorogo, Jawa Timur   26\n",
       "9996      300        64              4   Ponorogo, Jawa Timur   26\n",
       "9997      300       311              3   Ponorogo, Jawa Timur   26\n",
       "9998      300       279              4   Ponorogo, Jawa Timur   26\n",
       "9999      300       163              2   Ponorogo, Jawa Timur   26\n",
       "\n",
       "[10000 rows x 5 columns]"
      ]
     },
     "execution_count": 15,
     "metadata": {},
     "output_type": "execute_result"
    }
   ],
   "source": [
    "user_tourism_rating = pd.merge(left=tourism_rating,right=user,on='User_Id')\n",
    "user_tourism_rating"
   ]
  },
  {
   "cell_type": "markdown",
   "metadata": {},
   "source": [
    "Data Engineering"
   ]
  },
  {
   "cell_type": "code",
   "execution_count": 16,
   "metadata": {},
   "outputs": [
    {
     "data": {
      "text/plain": [
       "(10000, 6)"
      ]
     },
     "execution_count": 16,
     "metadata": {},
     "output_type": "execute_result"
    }
   ],
   "source": [
    "user_tourism_rating['City'] = user_tourism_rating['Location'].apply(lambda x:x.split(',')[0])\n",
    "user_tourism_rating['Province'] = user_tourism_rating['Location'].apply(lambda x:x.split(',')[1].strip())\n",
    "user_tourism_rating = user_tourism_rating.drop('Location',axis=1)\n",
    "user_tourism_rating.loc[user_tourism_rating.Province == 'DKI Jakarta','Province'] = 'Jakarta Raya'\n",
    "user_tourism_rating.loc[user_tourism_rating.Province == 'DIY','Province'] = 'Yogyakarta'\n",
    "user_tourism_rating.shape"
   ]
  },
  {
   "cell_type": "markdown",
   "metadata": {},
   "source": [
    "Data Explanatory"
   ]
  },
  {
   "cell_type": "markdown",
   "metadata": {},
   "source": [
    "Tourism's Ages"
   ]
  },
  {
   "cell_type": "code",
   "execution_count": 21,
   "metadata": {},
   "outputs": [
    {
     "data": {
      "image/png": "[encoded data removed]",
      "text/plain": [
       "<Figure size 576x288 with 1 Axes>"
      ]
     },
     "metadata": {},
     "output_type": "display_data"
    }
   ],
   "source": [
    "fig, ax = plt.subplots(figsize = (8, 4))\n",
    "fig.tight_layout(pad = 5)\n",
    "sns.histplot(ax=ax,x = user_tourism_rating['Age'].dropna(),stat='density',kde=True,label = \"Skewness : %.2f\"%(user_tourism_rating['Age'].skew()))\n",
    "ax.set_title('Age', fontsize = 18)\n",
    "ax.legend(loc = 'best')\n",
    "plt.show()"
   ]
  },
  {
   "cell_type": "code",
   "execution_count": null,
   "metadata": {},
   "outputs": [],
   "source": [
    "tourism_with_id.head(3)"
   ]
  },
  {
   "cell_type": "code",
   "execution_count": null,
   "metadata": {},
   "outputs": [],
   "source": [
    "user_tourism_rating.head(3)"
   ]
  },
  {
   "cell_type": "code",
   "execution_count": 22,
   "metadata": {},
   "outputs": [
    {
     "data": {
      "text/html": [
       "<div>\n",
       "<style scoped>\n",
       "    .dataframe tbody tr th:only-of-type {\n",
       "        vertical-align: middle;\n",
       "    }\n",
       "\n",
       "    .dataframe tbody tr th {\n",
       "        vertical-align: top;\n",
       "    }\n",
       "\n",
       "    .dataframe thead th {\n",
       "        text-align: right;\n",
       "    }\n",
       "</style>\n",
       "<table border=\"1\" class=\"dataframe\">\n",
       "  <thead>\n",
       "    <tr style=\"text-align: right;\">\n",
       "      <th></th>\n",
       "      <th>GID_0</th>\n",
       "      <th>NAME_0</th>\n",
       "      <th>GID_1</th>\n",
       "      <th>NAME_1</th>\n",
       "      <th>VARNAME_1</th>\n",
       "      <th>NL_NAME_1</th>\n",
       "      <th>TYPE_1</th>\n",
       "      <th>ENGTYPE_1</th>\n",
       "      <th>CC_1</th>\n",
       "      <th>HASC_1</th>\n",
       "      <th>geometry</th>\n",
       "    </tr>\n",
       "  </thead>\n",
       "  <tbody>\n",
       "    <tr>\n",
       "      <th>3</th>\n",
       "      <td>IDN</td>\n",
       "      <td>Indonesia</td>\n",
       "      <td>IDN.4_1</td>\n",
       "      <td>Banten</td>\n",
       "      <td></td>\n",
       "      <td></td>\n",
       "      <td>Propinisi</td>\n",
       "      <td>Province</td>\n",
       "      <td>36</td>\n",
       "      <td>ID.BT</td>\n",
       "      <td>MULTIPOLYGON (((105.54977 -6.99566, 105.54920 ...</td>\n",
       "    </tr>\n",
       "    <tr>\n",
       "      <th>6</th>\n",
       "      <td>IDN</td>\n",
       "      <td>Indonesia</td>\n",
       "      <td>IDN.7_1</td>\n",
       "      <td>Jakarta Raya</td>\n",
       "      <td></td>\n",
       "      <td></td>\n",
       "      <td>Propinisi</td>\n",
       "      <td>Province</td>\n",
       "      <td>31</td>\n",
       "      <td>ID.JK</td>\n",
       "      <td>MULTIPOLYGON (((106.73563 -6.04014, 106.73592 ...</td>\n",
       "    </tr>\n",
       "    <tr>\n",
       "      <th>8</th>\n",
       "      <td>IDN</td>\n",
       "      <td>Indonesia</td>\n",
       "      <td>IDN.9_1</td>\n",
       "      <td>Jawa Barat</td>\n",
       "      <td></td>\n",
       "      <td></td>\n",
       "      <td>Propinisi</td>\n",
       "      <td>Province</td>\n",
       "      <td>32</td>\n",
       "      <td>ID.JR</td>\n",
       "      <td>MULTIPOLYGON (((108.68501 -6.76990, 108.68548 ...</td>\n",
       "    </tr>\n",
       "    <tr>\n",
       "      <th>9</th>\n",
       "      <td>IDN</td>\n",
       "      <td>Indonesia</td>\n",
       "      <td>IDN.10_1</td>\n",
       "      <td>Jawa Tengah</td>\n",
       "      <td></td>\n",
       "      <td></td>\n",
       "      <td>Propinisi</td>\n",
       "      <td>Province</td>\n",
       "      <td>33</td>\n",
       "      <td>ID.JT</td>\n",
       "      <td>MULTIPOLYGON (((108.88353 -7.74846, 108.88357 ...</td>\n",
       "    </tr>\n",
       "    <tr>\n",
       "      <th>10</th>\n",
       "      <td>IDN</td>\n",
       "      <td>Indonesia</td>\n",
       "      <td>IDN.11_1</td>\n",
       "      <td>Jawa Timur</td>\n",
       "      <td></td>\n",
       "      <td></td>\n",
       "      <td>Propinisi</td>\n",
       "      <td>Province</td>\n",
       "      <td>35</td>\n",
       "      <td>ID.JI</td>\n",
       "      <td>MULTIPOLYGON (((114.11237 -8.62003, 114.11242 ...</td>\n",
       "    </tr>\n",
       "    <tr>\n",
       "      <th>30</th>\n",
       "      <td>IDN</td>\n",
       "      <td>Indonesia</td>\n",
       "      <td>IDN.31_1</td>\n",
       "      <td>Sumatera Selatan</td>\n",
       "      <td></td>\n",
       "      <td></td>\n",
       "      <td>Propinisi</td>\n",
       "      <td>Province</td>\n",
       "      <td>16</td>\n",
       "      <td>ID.SL</td>\n",
       "      <td>MULTIPOLYGON (((106.16177 -3.29708, 106.16173 ...</td>\n",
       "    </tr>\n",
       "    <tr>\n",
       "      <th>32</th>\n",
       "      <td>IDN</td>\n",
       "      <td>Indonesia</td>\n",
       "      <td>IDN.33_1</td>\n",
       "      <td>Yogyakarta</td>\n",
       "      <td></td>\n",
       "      <td></td>\n",
       "      <td>Propinisi</td>\n",
       "      <td>Province</td>\n",
       "      <td>34</td>\n",
       "      <td>ID.YO</td>\n",
       "      <td>MULTIPOLYGON (((110.66244 -8.17778, 110.66256 ...</td>\n",
       "    </tr>\n",
       "  </tbody>\n",
       "</table>\n",
       "</div>"
      ],
      "text/plain": [
       "   GID_0     NAME_0     GID_1            NAME_1 VARNAME_1 NL_NAME_1  \\\n",
       "3    IDN  Indonesia   IDN.4_1            Banten                       \n",
       "6    IDN  Indonesia   IDN.7_1      Jakarta Raya                       \n",
       "8    IDN  Indonesia   IDN.9_1        Jawa Barat                       \n",
       "9    IDN  Indonesia  IDN.10_1       Jawa Tengah                       \n",
       "10   IDN  Indonesia  IDN.11_1        Jawa Timur                       \n",
       "30   IDN  Indonesia  IDN.31_1  Sumatera Selatan                       \n",
       "32   IDN  Indonesia  IDN.33_1        Yogyakarta                       \n",
       "\n",
       "       TYPE_1 ENGTYPE_1 CC_1 HASC_1  \\\n",
       "3   Propinisi  Province   36  ID.BT   \n",
       "6   Propinisi  Province   31  ID.JK   \n",
       "8   Propinisi  Province   32  ID.JR   \n",
       "9   Propinisi  Province   33  ID.JT   \n",
       "10  Propinisi  Province   35  ID.JI   \n",
       "30  Propinisi  Province   16  ID.SL   \n",
       "32  Propinisi  Province   34  ID.YO   \n",
       "\n",
       "                                             geometry  \n",
       "3   MULTIPOLYGON (((105.54977 -6.99566, 105.54920 ...  \n",
       "6   MULTIPOLYGON (((106.73563 -6.04014, 106.73592 ...  \n",
       "8   MULTIPOLYGON (((108.68501 -6.76990, 108.68548 ...  \n",
       "9   MULTIPOLYGON (((108.88353 -7.74846, 108.88357 ...  \n",
       "10  MULTIPOLYGON (((114.11237 -8.62003, 114.11242 ...  \n",
       "30  MULTIPOLYGON (((106.16177 -3.29708, 106.16173 ...  \n",
       "32  MULTIPOLYGON (((110.66244 -8.17778, 110.66256 ...  "
      ]
     },
     "execution_count": 22,
     "metadata": {},
     "output_type": "execute_result"
    }
   ],
   "source": [
    "province_tourism = df_geo.copy()\n",
    "province_tourism = province_tourism.loc[province_tourism['NAME_1'].isin(user_tourism_rating.Province.unique())]\n",
    "province_tourism"
   ]
  },
  {
   "cell_type": "code",
   "execution_count": 23,
   "metadata": {},
   "outputs": [],
   "source": [
    "value = user_tourism_rating.groupby('Province').size().values\n",
    "province_tourism['Visitors'] = value"
   ]
  },
  {
   "cell_type": "code",
   "execution_count": 33,
   "metadata": {},
   "outputs": [
    {
     "data": {
      "text/plain": [
       "{'Banten': 583,\n",
       " 'Jakarta Raya': 1511,\n",
       " 'Jawa Barat': 3845,\n",
       " 'Jawa Tengah': 1444,\n",
       " 'Jawa Timur': 822,\n",
       " 'Sumatera Selatan': 848,\n",
       " 'Yogyakarta': 947}"
      ]
     },
     "execution_count": 33,
     "metadata": {},
     "output_type": "execute_result"
    }
   ],
   "source": [
    "value = dict(user_tourism_rating.groupby('Province').size())\n",
    "value "
   ]
  },
  {
   "cell_type": "code",
   "execution_count": 30,
   "metadata": {},
   "outputs": [],
   "source": [
    "df_geo['Visitors'] = df_geo['NAME_1'].apply(lambda x: int(value[x]) if x in value.keys() else 0)"
   ]
  },
  {
   "cell_type": "code",
   "execution_count": 34,
   "metadata": {},
   "outputs": [
    {
     "data": {
      "text/html": [
       "<div>\n",
       "<style scoped>\n",
       "    .dataframe tbody tr th:only-of-type {\n",
       "        vertical-align: middle;\n",
       "    }\n",
       "\n",
       "    .dataframe tbody tr th {\n",
       "        vertical-align: top;\n",
       "    }\n",
       "\n",
       "    .dataframe thead th {\n",
       "        text-align: right;\n",
       "    }\n",
       "</style>\n",
       "<table border=\"1\" class=\"dataframe\">\n",
       "  <thead>\n",
       "    <tr style=\"text-align: right;\">\n",
       "      <th></th>\n",
       "      <th>GID_0</th>\n",
       "      <th>NAME_0</th>\n",
       "      <th>GID_1</th>\n",
       "      <th>NAME_1</th>\n",
       "      <th>VARNAME_1</th>\n",
       "      <th>NL_NAME_1</th>\n",
       "      <th>TYPE_1</th>\n",
       "      <th>ENGTYPE_1</th>\n",
       "      <th>CC_1</th>\n",
       "      <th>HASC_1</th>\n",
       "      <th>geometry</th>\n",
       "      <th>Visitors</th>\n",
       "      <th>coords</th>\n",
       "    </tr>\n",
       "  </thead>\n",
       "  <tbody>\n",
       "    <tr>\n",
       "      <th>0</th>\n",
       "      <td>IDN</td>\n",
       "      <td>Indonesia</td>\n",
       "      <td>IDN.1_1</td>\n",
       "      <td>Aceh</td>\n",
       "      <td></td>\n",
       "      <td></td>\n",
       "      <td>Propinisi</td>\n",
       "      <td>Province</td>\n",
       "      <td>11</td>\n",
       "      <td>ID.AC</td>\n",
       "      <td>MULTIPOLYGON (((96.66509 2.12018, 96.66271 2.1...</td>\n",
       "      <td>0</td>\n",
       "      <td>(97.12648970170963, 3.91033447)</td>\n",
       "    </tr>\n",
       "    <tr>\n",
       "      <th>1</th>\n",
       "      <td>IDN</td>\n",
       "      <td>Indonesia</td>\n",
       "      <td>IDN.2_1</td>\n",
       "      <td>Bali</td>\n",
       "      <td></td>\n",
       "      <td></td>\n",
       "      <td>Propinisi</td>\n",
       "      <td>Province</td>\n",
       "      <td>51</td>\n",
       "      <td>ID.BA</td>\n",
       "      <td>MULTIPOLYGON (((115.59464 -8.81672, 115.59473 ...</td>\n",
       "      <td>0</td>\n",
       "      <td>(115.27006232908559, -8.45560598)</td>\n",
       "    </tr>\n",
       "    <tr>\n",
       "      <th>2</th>\n",
       "      <td>IDN</td>\n",
       "      <td>Indonesia</td>\n",
       "      <td>IDN.3_1</td>\n",
       "      <td>Bangka Belitung</td>\n",
       "      <td></td>\n",
       "      <td></td>\n",
       "      <td>Propinisi</td>\n",
       "      <td>Province</td>\n",
       "      <td>19</td>\n",
       "      <td>ID.BB</td>\n",
       "      <td>MULTIPOLYGON (((107.96173 -3.41100, 107.96080 ...</td>\n",
       "      <td>0</td>\n",
       "      <td>(107.9055363040837, -2.899278405)</td>\n",
       "    </tr>\n",
       "    <tr>\n",
       "      <th>3</th>\n",
       "      <td>IDN</td>\n",
       "      <td>Indonesia</td>\n",
       "      <td>IDN.4_1</td>\n",
       "      <td>Banten</td>\n",
       "      <td></td>\n",
       "      <td></td>\n",
       "      <td>Propinisi</td>\n",
       "      <td>Province</td>\n",
       "      <td>36</td>\n",
       "      <td>ID.BT</td>\n",
       "      <td>MULTIPOLYGON (((105.54977 -6.99566, 105.54920 ...</td>\n",
       "      <td>583</td>\n",
       "      <td>(106.13333644092032, -6.4376955)</td>\n",
       "    </tr>\n",
       "    <tr>\n",
       "      <th>4</th>\n",
       "      <td>IDN</td>\n",
       "      <td>Indonesia</td>\n",
       "      <td>IDN.5_1</td>\n",
       "      <td>Bengkulu</td>\n",
       "      <td></td>\n",
       "      <td></td>\n",
       "      <td>Propinisi</td>\n",
       "      <td>Province</td>\n",
       "      <td>17</td>\n",
       "      <td>ID.BE</td>\n",
       "      <td>MULTIPOLYGON (((102.37586 -5.36968, 102.35450 ...</td>\n",
       "      <td>0</td>\n",
       "      <td>(102.47267181978891, -3.60203612)</td>\n",
       "    </tr>\n",
       "    <tr>\n",
       "      <th>5</th>\n",
       "      <td>IDN</td>\n",
       "      <td>Indonesia</td>\n",
       "      <td>IDN.6_1</td>\n",
       "      <td>Gorontalo</td>\n",
       "      <td></td>\n",
       "      <td></td>\n",
       "      <td>Propinisi</td>\n",
       "      <td>Province</td>\n",
       "      <td>75</td>\n",
       "      <td>ID.GO</td>\n",
       "      <td>MULTIPOLYGON (((121.41933 0.41357, 121.42094 0...</td>\n",
       "      <td>0</td>\n",
       "      <td>(122.25433534226451, 0.673525955)</td>\n",
       "    </tr>\n",
       "    <tr>\n",
       "      <th>6</th>\n",
       "      <td>IDN</td>\n",
       "      <td>Indonesia</td>\n",
       "      <td>IDN.7_1</td>\n",
       "      <td>Jakarta Raya</td>\n",
       "      <td></td>\n",
       "      <td></td>\n",
       "      <td>Propinisi</td>\n",
       "      <td>Province</td>\n",
       "      <td>31</td>\n",
       "      <td>ID.JK</td>\n",
       "      <td>MULTIPOLYGON (((106.73563 -6.04014, 106.73592 ...</td>\n",
       "      <td>1511</td>\n",
       "      <td>(106.84552654878168, -6.230001209999999)</td>\n",
       "    </tr>\n",
       "    <tr>\n",
       "      <th>7</th>\n",
       "      <td>IDN</td>\n",
       "      <td>Indonesia</td>\n",
       "      <td>IDN.8_1</td>\n",
       "      <td>Jambi</td>\n",
       "      <td></td>\n",
       "      <td></td>\n",
       "      <td>Propinisi</td>\n",
       "      <td>Province</td>\n",
       "      <td>15</td>\n",
       "      <td>ID.JA</td>\n",
       "      <td>MULTIPOLYGON (((104.40900 -0.85951, 104.40394 ...</td>\n",
       "      <td>0</td>\n",
       "      <td>(102.58109682510255, -1.7523194549999999)</td>\n",
       "    </tr>\n",
       "    <tr>\n",
       "      <th>8</th>\n",
       "      <td>IDN</td>\n",
       "      <td>Indonesia</td>\n",
       "      <td>IDN.9_1</td>\n",
       "      <td>Jawa Barat</td>\n",
       "      <td></td>\n",
       "      <td></td>\n",
       "      <td>Propinisi</td>\n",
       "      <td>Province</td>\n",
       "      <td>32</td>\n",
       "      <td>ID.JR</td>\n",
       "      <td>MULTIPOLYGON (((108.68501 -6.76990, 108.68548 ...</td>\n",
       "      <td>3845</td>\n",
       "      <td>(107.61163104775629, -6.868591785)</td>\n",
       "    </tr>\n",
       "    <tr>\n",
       "      <th>9</th>\n",
       "      <td>IDN</td>\n",
       "      <td>Indonesia</td>\n",
       "      <td>IDN.10_1</td>\n",
       "      <td>Jawa Tengah</td>\n",
       "      <td></td>\n",
       "      <td></td>\n",
       "      <td>Propinisi</td>\n",
       "      <td>Province</td>\n",
       "      <td>33</td>\n",
       "      <td>ID.JT</td>\n",
       "      <td>MULTIPOLYGON (((108.88353 -7.74846, 108.88357 ...</td>\n",
       "      <td>1444</td>\n",
       "      <td>(109.85052163283187, -7.30723238)</td>\n",
       "    </tr>\n",
       "  </tbody>\n",
       "</table>\n",
       "</div>"
      ],
      "text/plain": [
       "  GID_0     NAME_0     GID_1           NAME_1 VARNAME_1 NL_NAME_1     TYPE_1  \\\n",
       "0   IDN  Indonesia   IDN.1_1             Aceh                      Propinisi   \n",
       "1   IDN  Indonesia   IDN.2_1             Bali                      Propinisi   \n",
       "2   IDN  Indonesia   IDN.3_1  Bangka Belitung                      Propinisi   \n",
       "3   IDN  Indonesia   IDN.4_1           Banten                      Propinisi   \n",
       "4   IDN  Indonesia   IDN.5_1         Bengkulu                      Propinisi   \n",
       "5   IDN  Indonesia   IDN.6_1        Gorontalo                      Propinisi   \n",
       "6   IDN  Indonesia   IDN.7_1     Jakarta Raya                      Propinisi   \n",
       "7   IDN  Indonesia   IDN.8_1            Jambi                      Propinisi   \n",
       "8   IDN  Indonesia   IDN.9_1       Jawa Barat                      Propinisi   \n",
       "9   IDN  Indonesia  IDN.10_1      Jawa Tengah                      Propinisi   \n",
       "\n",
       "  ENGTYPE_1 CC_1 HASC_1                                           geometry  \\\n",
       "0  Province   11  ID.AC  MULTIPOLYGON (((96.66509 2.12018, 96.66271 2.1...   \n",
       "1  Province   51  ID.BA  MULTIPOLYGON (((115.59464 -8.81672, 115.59473 ...   \n",
       "2  Province   19  ID.BB  MULTIPOLYGON (((107.96173 -3.41100, 107.96080 ...   \n",
       "3  Province   36  ID.BT  MULTIPOLYGON (((105.54977 -6.99566, 105.54920 ...   \n",
       "4  Province   17  ID.BE  MULTIPOLYGON (((102.37586 -5.36968, 102.35450 ...   \n",
       "5  Province   75  ID.GO  MULTIPOLYGON (((121.41933 0.41357, 121.42094 0...   \n",
       "6  Province   31  ID.JK  MULTIPOLYGON (((106.73563 -6.04014, 106.73592 ...   \n",
       "7  Province   15  ID.JA  MULTIPOLYGON (((104.40900 -0.85951, 104.40394 ...   \n",
       "8  Province   32  ID.JR  MULTIPOLYGON (((108.68501 -6.76990, 108.68548 ...   \n",
       "9  Province   33  ID.JT  MULTIPOLYGON (((108.88353 -7.74846, 108.88357 ...   \n",
       "\n",
       "   Visitors                                     coords  \n",
       "0         0            (97.12648970170963, 3.91033447)  \n",
       "1         0          (115.27006232908559, -8.45560598)  \n",
       "2         0          (107.9055363040837, -2.899278405)  \n",
       "3       583           (106.13333644092032, -6.4376955)  \n",
       "4         0          (102.47267181978891, -3.60203612)  \n",
       "5         0          (122.25433534226451, 0.673525955)  \n",
       "6      1511   (106.84552654878168, -6.230001209999999)  \n",
       "7         0  (102.58109682510255, -1.7523194549999999)  \n",
       "8      3845         (107.61163104775629, -6.868591785)  \n",
       "9      1444          (109.85052163283187, -7.30723238)  "
      ]
     },
     "execution_count": 34,
     "metadata": {},
     "output_type": "execute_result"
    }
   ],
   "source": [
    "df_geo.head(10)"
   ]
  },
  {
   "cell_type": "markdown",
   "metadata": {},
   "source": [
    "Visualization"
   ]
  },
  {
   "cell_type": "code",
   "execution_count": 32,
   "metadata": {},
   "outputs": [
    {
     "data": {
      "text/plain": [
       "<AxesSubplot:title={'center':'Indonesia Tourism Count'}>"
      ]
     },
     "execution_count": 32,
     "metadata": {},
     "output_type": "execute_result"
    },
    {
     "data": {
      "image/png": "[encoded data removed]",
      "text/plain": [
       "<Figure size 2160x720 with 2 Axes>"
      ]
     },
     "metadata": {},
     "output_type": "display_data"
    }
   ],
   "source": [
    "# Create variables that will be used in some parameters later \n",
    "values = 'Visitors'\n",
    "values2 = \"Indonesia Tourism Count\"\n",
    "# Create figure and axes for Matplotlib\n",
    "fig, ax = plt.subplots(1, figsize=(30, 10))\n",
    "# Set the value range for the choropleth map\n",
    "vmin, vmax = df_geo[values].min(), df_geo[values].max()\n",
    "# Remove the axis as we do not need it\n",
    "ax.axis('off')\n",
    "# Add a map title\n",
    "title = '{}'.format(values2)\n",
    "ax.set_title(title, fontdict={'fontsize':'20', 'fontweight':'10'})\n",
    "# Create an annotation for the data source\n",
    "ax.annotate('Source: Badan Pusat Statistik Indonesia', xy=(0.1, .08),  xycoords='figure fraction', horizontalalignment='left', verticalalignment='top', fontsize=12, fontweight='bold', color='k')\n",
    "# Add labels\n",
    "df_geo['coords'] = df_geo['geometry'].apply(lambda x: x.representative_point().coords[:])\n",
    "df_geo['coords'] = [coords[0] for coords in df_geo['coords']]\n",
    "for idx, row in df_geo.iterrows():\n",
    "  # ann = row['HASC_1']\n",
    "  # ann += '\\n'\n",
    "  ann = str(row[values])\n",
    "  # ann += '\\n'\n",
    "  plt.annotate(text=ann, xy=row['coords'],horizontalalignment='center',color='black',fontsize=12)\n",
    "# Generate the map\n",
    "df_geo.plot(column='Visitors', cmap='Set3_r', linewidth=0.5, ax=ax, edgecolor='0.5', norm=plt.Normalize(vmin=vmin, vmax=vmax), legend=True)"
   ]
  }
 ],
 "metadata": {
  "interpreter": {
   "hash": "fadd12deb669ed8a1e500b85b650f6b7c52912287fdd991d1d178b5f322ba022"
  },
  "kernelspec": {
   "display_name": "Python 3.9.7 ('base')",
   "language": "python",
   "name": "python3"
  },
  "language_info": {
   "codemirror_mode": {
    "name": "ipython",
    "version": 3
   },
   "file_extension": ".py",
   "mimetype": "text/x-python",
   "name": "python",
   "nbconvert_exporter": "python",
   "pygments_lexer": "ipython3",
   "version": "3.9.7"
  },
  "orig_nbformat": 4
 },
 "nbformat": 4,
 "nbformat_minor": 2
}
