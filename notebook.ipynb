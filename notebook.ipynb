{
 "cells": [
  {
   "cell_type": "markdown",
   "metadata": {},
   "source": [
    "### Import libraries yang digunakan\n",
    "melakukan import terhadap library yang digunakan"
   ]
  },
  {
   "cell_type": "code",
   "execution_count": 16,
   "metadata": {},
   "outputs": [],
   "source": [
    "import pandas as pd \n",
    "import numpy as np \n",
    "import matplotlib.pyplot as plt \n",
    "import seaborn as sns \n",
    "import plotly.express as px "
   ]
  },
  {
   "cell_type": "markdown",
   "metadata": {},
   "source": [
    "### Read file\n",
    "membaca file pada data sekaligus melakukan cek terhadap kolom dan baris dan juga isi dari file"
   ]
  },
  {
   "cell_type": "code",
   "execution_count": 17,
   "metadata": {},
   "outputs": [
    {
     "data": {
      "text/html": [
       "<div>\n",
       "<style scoped>\n",
       "    .dataframe tbody tr th:only-of-type {\n",
       "        vertical-align: middle;\n",
       "    }\n",
       "\n",
       "    .dataframe tbody tr th {\n",
       "        vertical-align: top;\n",
       "    }\n",
       "\n",
       "    .dataframe thead th {\n",
       "        text-align: right;\n",
       "    }\n",
       "</style>\n",
       "<table border=\"1\" class=\"dataframe\">\n",
       "  <thead>\n",
       "    <tr style=\"text-align: right;\">\n",
       "      <th></th>\n",
       "      <th>User_Id</th>\n",
       "      <th>Place_Id</th>\n",
       "      <th>Place_Ratings</th>\n",
       "    </tr>\n",
       "  </thead>\n",
       "  <tbody>\n",
       "    <tr>\n",
       "      <th>0</th>\n",
       "      <td>1</td>\n",
       "      <td>179</td>\n",
       "      <td>3</td>\n",
       "    </tr>\n",
       "    <tr>\n",
       "      <th>1</th>\n",
       "      <td>1</td>\n",
       "      <td>344</td>\n",
       "      <td>2</td>\n",
       "    </tr>\n",
       "    <tr>\n",
       "      <th>2</th>\n",
       "      <td>1</td>\n",
       "      <td>5</td>\n",
       "      <td>5</td>\n",
       "    </tr>\n",
       "    <tr>\n",
       "      <th>3</th>\n",
       "      <td>1</td>\n",
       "      <td>373</td>\n",
       "      <td>3</td>\n",
       "    </tr>\n",
       "    <tr>\n",
       "      <th>4</th>\n",
       "      <td>1</td>\n",
       "      <td>101</td>\n",
       "      <td>4</td>\n",
       "    </tr>\n",
       "    <tr>\n",
       "      <th>...</th>\n",
       "      <td>...</td>\n",
       "      <td>...</td>\n",
       "      <td>...</td>\n",
       "    </tr>\n",
       "    <tr>\n",
       "      <th>9995</th>\n",
       "      <td>300</td>\n",
       "      <td>425</td>\n",
       "      <td>2</td>\n",
       "    </tr>\n",
       "    <tr>\n",
       "      <th>9996</th>\n",
       "      <td>300</td>\n",
       "      <td>64</td>\n",
       "      <td>4</td>\n",
       "    </tr>\n",
       "    <tr>\n",
       "      <th>9997</th>\n",
       "      <td>300</td>\n",
       "      <td>311</td>\n",
       "      <td>3</td>\n",
       "    </tr>\n",
       "    <tr>\n",
       "      <th>9998</th>\n",
       "      <td>300</td>\n",
       "      <td>279</td>\n",
       "      <td>4</td>\n",
       "    </tr>\n",
       "    <tr>\n",
       "      <th>9999</th>\n",
       "      <td>300</td>\n",
       "      <td>163</td>\n",
       "      <td>2</td>\n",
       "    </tr>\n",
       "  </tbody>\n",
       "</table>\n",
       "<p>10000 rows × 3 columns</p>\n",
       "</div>"
      ],
      "text/plain": [
       "      User_Id  Place_Id  Place_Ratings\n",
       "0           1       179              3\n",
       "1           1       344              2\n",
       "2           1         5              5\n",
       "3           1       373              3\n",
       "4           1       101              4\n",
       "...       ...       ...            ...\n",
       "9995      300       425              2\n",
       "9996      300        64              4\n",
       "9997      300       311              3\n",
       "9998      300       279              4\n",
       "9999      300       163              2\n",
       "\n",
       "[10000 rows x 3 columns]"
      ]
     },
     "execution_count": 17,
     "metadata": {},
     "output_type": "execute_result"
    }
   ],
   "source": [
    "data_tourism_rating = pd.read_csv('tourism_rating.csv')\n",
    "data_tourism_rating"
   ]
  },
  {
   "cell_type": "code",
   "execution_count": 18,
   "metadata": {},
   "outputs": [
    {
     "data": {
      "text/html": [
       "<div>\n",
       "<style scoped>\n",
       "    .dataframe tbody tr th:only-of-type {\n",
       "        vertical-align: middle;\n",
       "    }\n",
       "\n",
       "    .dataframe tbody tr th {\n",
       "        vertical-align: top;\n",
       "    }\n",
       "\n",
       "    .dataframe thead th {\n",
       "        text-align: right;\n",
       "    }\n",
       "</style>\n",
       "<table border=\"1\" class=\"dataframe\">\n",
       "  <thead>\n",
       "    <tr style=\"text-align: right;\">\n",
       "      <th></th>\n",
       "      <th>Place_Id</th>\n",
       "      <th>Place_Name</th>\n",
       "      <th>Description</th>\n",
       "      <th>Category</th>\n",
       "      <th>City</th>\n",
       "      <th>Price</th>\n",
       "      <th>Rating</th>\n",
       "      <th>Time_Minutes</th>\n",
       "      <th>Coordinate</th>\n",
       "      <th>Lat</th>\n",
       "      <th>Long</th>\n",
       "      <th>Unnamed: 11</th>\n",
       "      <th>Unnamed: 12</th>\n",
       "    </tr>\n",
       "  </thead>\n",
       "  <tbody>\n",
       "    <tr>\n",
       "      <th>0</th>\n",
       "      <td>1</td>\n",
       "      <td>Monumen Nasional</td>\n",
       "      <td>Monumen Nasional atau yang populer disingkat d...</td>\n",
       "      <td>Budaya</td>\n",
       "      <td>Jakarta</td>\n",
       "      <td>20000</td>\n",
       "      <td>4.6</td>\n",
       "      <td>15.0</td>\n",
       "      <td>{'lat': -6.1753924, 'lng': 106.8271528}</td>\n",
       "      <td>-6.175392</td>\n",
       "      <td>106.827153</td>\n",
       "      <td>NaN</td>\n",
       "      <td>1</td>\n",
       "    </tr>\n",
       "    <tr>\n",
       "      <th>1</th>\n",
       "      <td>2</td>\n",
       "      <td>Kota Tua</td>\n",
       "      <td>Kota tua di Jakarta, yang juga bernama Kota Tu...</td>\n",
       "      <td>Budaya</td>\n",
       "      <td>Jakarta</td>\n",
       "      <td>0</td>\n",
       "      <td>4.6</td>\n",
       "      <td>90.0</td>\n",
       "      <td>{'lat': -6.137644799999999, 'lng': 106.8171245}</td>\n",
       "      <td>-6.137645</td>\n",
       "      <td>106.817125</td>\n",
       "      <td>NaN</td>\n",
       "      <td>2</td>\n",
       "    </tr>\n",
       "    <tr>\n",
       "      <th>2</th>\n",
       "      <td>3</td>\n",
       "      <td>Dunia Fantasi</td>\n",
       "      <td>Dunia Fantasi atau disebut juga Dufan adalah t...</td>\n",
       "      <td>Taman Hiburan</td>\n",
       "      <td>Jakarta</td>\n",
       "      <td>270000</td>\n",
       "      <td>4.6</td>\n",
       "      <td>360.0</td>\n",
       "      <td>{'lat': -6.125312399999999, 'lng': 106.8335377}</td>\n",
       "      <td>-6.125312</td>\n",
       "      <td>106.833538</td>\n",
       "      <td>NaN</td>\n",
       "      <td>3</td>\n",
       "    </tr>\n",
       "    <tr>\n",
       "      <th>3</th>\n",
       "      <td>4</td>\n",
       "      <td>Taman Mini Indonesia Indah (TMII)</td>\n",
       "      <td>Taman Mini Indonesia Indah merupakan suatu kaw...</td>\n",
       "      <td>Taman Hiburan</td>\n",
       "      <td>Jakarta</td>\n",
       "      <td>10000</td>\n",
       "      <td>4.5</td>\n",
       "      <td>NaN</td>\n",
       "      <td>{'lat': -6.302445899999999, 'lng': 106.8951559}</td>\n",
       "      <td>-6.302446</td>\n",
       "      <td>106.895156</td>\n",
       "      <td>NaN</td>\n",
       "      <td>4</td>\n",
       "    </tr>\n",
       "    <tr>\n",
       "      <th>4</th>\n",
       "      <td>5</td>\n",
       "      <td>Atlantis Water Adventure</td>\n",
       "      <td>Atlantis Water Adventure atau dikenal dengan A...</td>\n",
       "      <td>Taman Hiburan</td>\n",
       "      <td>Jakarta</td>\n",
       "      <td>94000</td>\n",
       "      <td>4.5</td>\n",
       "      <td>60.0</td>\n",
       "      <td>{'lat': -6.12419, 'lng': 106.839134}</td>\n",
       "      <td>-6.124190</td>\n",
       "      <td>106.839134</td>\n",
       "      <td>NaN</td>\n",
       "      <td>5</td>\n",
       "    </tr>\n",
       "    <tr>\n",
       "      <th>...</th>\n",
       "      <td>...</td>\n",
       "      <td>...</td>\n",
       "      <td>...</td>\n",
       "      <td>...</td>\n",
       "      <td>...</td>\n",
       "      <td>...</td>\n",
       "      <td>...</td>\n",
       "      <td>...</td>\n",
       "      <td>...</td>\n",
       "      <td>...</td>\n",
       "      <td>...</td>\n",
       "      <td>...</td>\n",
       "      <td>...</td>\n",
       "    </tr>\n",
       "    <tr>\n",
       "      <th>432</th>\n",
       "      <td>433</td>\n",
       "      <td>Museum Mpu Tantular</td>\n",
       "      <td>Museum Negeri Mpu Tantular adalah sebuah museu...</td>\n",
       "      <td>Budaya</td>\n",
       "      <td>Surabaya</td>\n",
       "      <td>2000</td>\n",
       "      <td>4.4</td>\n",
       "      <td>45.0</td>\n",
       "      <td>{'lat': -7.4338593, 'lng': 112.7199058}</td>\n",
       "      <td>-7.433859</td>\n",
       "      <td>112.719906</td>\n",
       "      <td>NaN</td>\n",
       "      <td>433</td>\n",
       "    </tr>\n",
       "    <tr>\n",
       "      <th>433</th>\n",
       "      <td>434</td>\n",
       "      <td>Taman Bungkul</td>\n",
       "      <td>Taman Bungkul adalah taman wisata kota yang te...</td>\n",
       "      <td>Taman Hiburan</td>\n",
       "      <td>Surabaya</td>\n",
       "      <td>0</td>\n",
       "      <td>4.6</td>\n",
       "      <td>NaN</td>\n",
       "      <td>{'lat': -7.291346799999999, 'lng': 112.7398218}</td>\n",
       "      <td>-7.291347</td>\n",
       "      <td>112.739822</td>\n",
       "      <td>NaN</td>\n",
       "      <td>434</td>\n",
       "    </tr>\n",
       "    <tr>\n",
       "      <th>434</th>\n",
       "      <td>435</td>\n",
       "      <td>Taman Air Mancur Menari Kenjeran</td>\n",
       "      <td>Air mancur menari atau dancing fountain juga a...</td>\n",
       "      <td>Taman Hiburan</td>\n",
       "      <td>Surabaya</td>\n",
       "      <td>0</td>\n",
       "      <td>4.4</td>\n",
       "      <td>45.0</td>\n",
       "      <td>{'lat': -7.2752955, 'lng': 112.7549381}</td>\n",
       "      <td>-7.275296</td>\n",
       "      <td>112.754938</td>\n",
       "      <td>NaN</td>\n",
       "      <td>435</td>\n",
       "    </tr>\n",
       "    <tr>\n",
       "      <th>435</th>\n",
       "      <td>436</td>\n",
       "      <td>Taman Flora Bratang Surabaya</td>\n",
       "      <td>Taman Flora adalah salah satu taman kota di Su...</td>\n",
       "      <td>Taman Hiburan</td>\n",
       "      <td>Surabaya</td>\n",
       "      <td>0</td>\n",
       "      <td>4.6</td>\n",
       "      <td>NaN</td>\n",
       "      <td>{'lat': -7.294330299999999, 'lng': 112.7617534}</td>\n",
       "      <td>-7.294330</td>\n",
       "      <td>112.761753</td>\n",
       "      <td>NaN</td>\n",
       "      <td>436</td>\n",
       "    </tr>\n",
       "    <tr>\n",
       "      <th>436</th>\n",
       "      <td>437</td>\n",
       "      <td>Gereja Perawan Maria Tak Berdosa Surabaya</td>\n",
       "      <td>Gereja Katolik Kelahiran Santa Perawan Maria m...</td>\n",
       "      <td>Tempat Ibadah</td>\n",
       "      <td>Surabaya</td>\n",
       "      <td>10000</td>\n",
       "      <td>4.8</td>\n",
       "      <td>NaN</td>\n",
       "      <td>{'lat': -7.2420758, 'lng': 112.7368158}</td>\n",
       "      <td>-7.242076</td>\n",
       "      <td>112.736816</td>\n",
       "      <td>NaN</td>\n",
       "      <td>437</td>\n",
       "    </tr>\n",
       "  </tbody>\n",
       "</table>\n",
       "<p>437 rows × 13 columns</p>\n",
       "</div>"
      ],
      "text/plain": [
       "     Place_Id                                 Place_Name  \\\n",
       "0           1                           Monumen Nasional   \n",
       "1           2                                   Kota Tua   \n",
       "2           3                              Dunia Fantasi   \n",
       "3           4          Taman Mini Indonesia Indah (TMII)   \n",
       "4           5                   Atlantis Water Adventure   \n",
       "..        ...                                        ...   \n",
       "432       433                        Museum Mpu Tantular   \n",
       "433       434                              Taman Bungkul   \n",
       "434       435           Taman Air Mancur Menari Kenjeran   \n",
       "435       436               Taman Flora Bratang Surabaya   \n",
       "436       437  Gereja Perawan Maria Tak Berdosa Surabaya   \n",
       "\n",
       "                                           Description       Category  \\\n",
       "0    Monumen Nasional atau yang populer disingkat d...         Budaya   \n",
       "1    Kota tua di Jakarta, yang juga bernama Kota Tu...         Budaya   \n",
       "2    Dunia Fantasi atau disebut juga Dufan adalah t...  Taman Hiburan   \n",
       "3    Taman Mini Indonesia Indah merupakan suatu kaw...  Taman Hiburan   \n",
       "4    Atlantis Water Adventure atau dikenal dengan A...  Taman Hiburan   \n",
       "..                                                 ...            ...   \n",
       "432  Museum Negeri Mpu Tantular adalah sebuah museu...         Budaya   \n",
       "433  Taman Bungkul adalah taman wisata kota yang te...  Taman Hiburan   \n",
       "434  Air mancur menari atau dancing fountain juga a...  Taman Hiburan   \n",
       "435  Taman Flora adalah salah satu taman kota di Su...  Taman Hiburan   \n",
       "436  Gereja Katolik Kelahiran Santa Perawan Maria m...  Tempat Ibadah   \n",
       "\n",
       "         City   Price  Rating  Time_Minutes  \\\n",
       "0     Jakarta   20000     4.6          15.0   \n",
       "1     Jakarta       0     4.6          90.0   \n",
       "2     Jakarta  270000     4.6         360.0   \n",
       "3     Jakarta   10000     4.5           NaN   \n",
       "4     Jakarta   94000     4.5          60.0   \n",
       "..        ...     ...     ...           ...   \n",
       "432  Surabaya    2000     4.4          45.0   \n",
       "433  Surabaya       0     4.6           NaN   \n",
       "434  Surabaya       0     4.4          45.0   \n",
       "435  Surabaya       0     4.6           NaN   \n",
       "436  Surabaya   10000     4.8           NaN   \n",
       "\n",
       "                                          Coordinate       Lat        Long  \\\n",
       "0            {'lat': -6.1753924, 'lng': 106.8271528} -6.175392  106.827153   \n",
       "1    {'lat': -6.137644799999999, 'lng': 106.8171245} -6.137645  106.817125   \n",
       "2    {'lat': -6.125312399999999, 'lng': 106.8335377} -6.125312  106.833538   \n",
       "3    {'lat': -6.302445899999999, 'lng': 106.8951559} -6.302446  106.895156   \n",
       "4               {'lat': -6.12419, 'lng': 106.839134} -6.124190  106.839134   \n",
       "..                                               ...       ...         ...   \n",
       "432          {'lat': -7.4338593, 'lng': 112.7199058} -7.433859  112.719906   \n",
       "433  {'lat': -7.291346799999999, 'lng': 112.7398218} -7.291347  112.739822   \n",
       "434          {'lat': -7.2752955, 'lng': 112.7549381} -7.275296  112.754938   \n",
       "435  {'lat': -7.294330299999999, 'lng': 112.7617534} -7.294330  112.761753   \n",
       "436          {'lat': -7.2420758, 'lng': 112.7368158} -7.242076  112.736816   \n",
       "\n",
       "     Unnamed: 11  Unnamed: 12  \n",
       "0            NaN            1  \n",
       "1            NaN            2  \n",
       "2            NaN            3  \n",
       "3            NaN            4  \n",
       "4            NaN            5  \n",
       "..           ...          ...  \n",
       "432          NaN          433  \n",
       "433          NaN          434  \n",
       "434          NaN          435  \n",
       "435          NaN          436  \n",
       "436          NaN          437  \n",
       "\n",
       "[437 rows x 13 columns]"
      ]
     },
     "execution_count": 18,
     "metadata": {},
     "output_type": "execute_result"
    }
   ],
   "source": [
    "data_tourism_with_id = pd.read_csv('tourism_with_id.csv')\n",
    "data_tourism_with_id"
   ]
  },
  {
   "cell_type": "code",
   "execution_count": 19,
   "metadata": {},
   "outputs": [
    {
     "data": {
      "text/html": [
       "<div>\n",
       "<style scoped>\n",
       "    .dataframe tbody tr th:only-of-type {\n",
       "        vertical-align: middle;\n",
       "    }\n",
       "\n",
       "    .dataframe tbody tr th {\n",
       "        vertical-align: top;\n",
       "    }\n",
       "\n",
       "    .dataframe thead th {\n",
       "        text-align: right;\n",
       "    }\n",
       "</style>\n",
       "<table border=\"1\" class=\"dataframe\">\n",
       "  <thead>\n",
       "    <tr style=\"text-align: right;\">\n",
       "      <th></th>\n",
       "      <th>User_Id</th>\n",
       "      <th>Location</th>\n",
       "      <th>Age</th>\n",
       "    </tr>\n",
       "  </thead>\n",
       "  <tbody>\n",
       "    <tr>\n",
       "      <th>0</th>\n",
       "      <td>1</td>\n",
       "      <td>Semarang, Jawa Tengah</td>\n",
       "      <td>20</td>\n",
       "    </tr>\n",
       "    <tr>\n",
       "      <th>1</th>\n",
       "      <td>2</td>\n",
       "      <td>Bekasi, Jawa Barat</td>\n",
       "      <td>21</td>\n",
       "    </tr>\n",
       "    <tr>\n",
       "      <th>2</th>\n",
       "      <td>3</td>\n",
       "      <td>Cirebon, Jawa Barat</td>\n",
       "      <td>23</td>\n",
       "    </tr>\n",
       "    <tr>\n",
       "      <th>3</th>\n",
       "      <td>4</td>\n",
       "      <td>Bekasi, Jawa Barat</td>\n",
       "      <td>21</td>\n",
       "    </tr>\n",
       "    <tr>\n",
       "      <th>4</th>\n",
       "      <td>5</td>\n",
       "      <td>Lampung, Sumatera Selatan</td>\n",
       "      <td>20</td>\n",
       "    </tr>\n",
       "    <tr>\n",
       "      <th>...</th>\n",
       "      <td>...</td>\n",
       "      <td>...</td>\n",
       "      <td>...</td>\n",
       "    </tr>\n",
       "    <tr>\n",
       "      <th>295</th>\n",
       "      <td>296</td>\n",
       "      <td>Lampung, Sumatera Selatan</td>\n",
       "      <td>31</td>\n",
       "    </tr>\n",
       "    <tr>\n",
       "      <th>296</th>\n",
       "      <td>297</td>\n",
       "      <td>Palembang, Sumatera Selatan</td>\n",
       "      <td>39</td>\n",
       "    </tr>\n",
       "    <tr>\n",
       "      <th>297</th>\n",
       "      <td>298</td>\n",
       "      <td>Bogor, Jawa Barat</td>\n",
       "      <td>38</td>\n",
       "    </tr>\n",
       "    <tr>\n",
       "      <th>298</th>\n",
       "      <td>299</td>\n",
       "      <td>Sragen, Jawa Tengah</td>\n",
       "      <td>27</td>\n",
       "    </tr>\n",
       "    <tr>\n",
       "      <th>299</th>\n",
       "      <td>300</td>\n",
       "      <td>Ponorogo, Jawa Timur</td>\n",
       "      <td>26</td>\n",
       "    </tr>\n",
       "  </tbody>\n",
       "</table>\n",
       "<p>300 rows × 3 columns</p>\n",
       "</div>"
      ],
      "text/plain": [
       "     User_Id                     Location  Age\n",
       "0          1        Semarang, Jawa Tengah   20\n",
       "1          2           Bekasi, Jawa Barat   21\n",
       "2          3          Cirebon, Jawa Barat   23\n",
       "3          4           Bekasi, Jawa Barat   21\n",
       "4          5    Lampung, Sumatera Selatan   20\n",
       "..       ...                          ...  ...\n",
       "295      296    Lampung, Sumatera Selatan   31\n",
       "296      297  Palembang, Sumatera Selatan   39\n",
       "297      298            Bogor, Jawa Barat   38\n",
       "298      299          Sragen, Jawa Tengah   27\n",
       "299      300         Ponorogo, Jawa Timur   26\n",
       "\n",
       "[300 rows x 3 columns]"
      ]
     },
     "execution_count": 19,
     "metadata": {},
     "output_type": "execute_result"
    }
   ],
   "source": [
    "data_user = pd.read_csv('user.csv')\n",
    "data_user"
   ]
  },
  {
   "cell_type": "code",
   "execution_count": 20,
   "metadata": {},
   "outputs": [
    {
     "data": {
      "text/html": [
       "<div>\n",
       "<style scoped>\n",
       "    .dataframe tbody tr th:only-of-type {\n",
       "        vertical-align: middle;\n",
       "    }\n",
       "\n",
       "    .dataframe tbody tr th {\n",
       "        vertical-align: top;\n",
       "    }\n",
       "\n",
       "    .dataframe thead th {\n",
       "        text-align: right;\n",
       "    }\n",
       "</style>\n",
       "<table border=\"1\" class=\"dataframe\">\n",
       "  <thead>\n",
       "    <tr style=\"text-align: right;\">\n",
       "      <th></th>\n",
       "      <th>Package</th>\n",
       "      <th>City</th>\n",
       "      <th>Place_Tourism1</th>\n",
       "      <th>Place_Tourism2</th>\n",
       "      <th>Place_Tourism3</th>\n",
       "      <th>Place_Tourism4</th>\n",
       "      <th>Place_Tourism5</th>\n",
       "    </tr>\n",
       "  </thead>\n",
       "  <tbody>\n",
       "    <tr>\n",
       "      <th>0</th>\n",
       "      <td>1</td>\n",
       "      <td>Jakarta</td>\n",
       "      <td>Pasar Tanah Abang</td>\n",
       "      <td>Taman Ayodya</td>\n",
       "      <td>Museum Tekstil</td>\n",
       "      <td>NaN</td>\n",
       "      <td>NaN</td>\n",
       "    </tr>\n",
       "    <tr>\n",
       "      <th>1</th>\n",
       "      <td>2</td>\n",
       "      <td>Jakarta</td>\n",
       "      <td>Pasar Tanah Abang</td>\n",
       "      <td>Pasar Taman Puring</td>\n",
       "      <td>Pasar Petak Sembilan</td>\n",
       "      <td>NaN</td>\n",
       "      <td>NaN</td>\n",
       "    </tr>\n",
       "    <tr>\n",
       "      <th>2</th>\n",
       "      <td>3</td>\n",
       "      <td>Jakarta</td>\n",
       "      <td>Perpustakaan Nasional</td>\n",
       "      <td>Monas</td>\n",
       "      <td>Masjid Istiqlal</td>\n",
       "      <td>NaN</td>\n",
       "      <td>NaN</td>\n",
       "    </tr>\n",
       "    <tr>\n",
       "      <th>3</th>\n",
       "      <td>4</td>\n",
       "      <td>Jakarta</td>\n",
       "      <td>Pulau Tidung</td>\n",
       "      <td>Pulau Bidadari</td>\n",
       "      <td>Pulau Pari</td>\n",
       "      <td>Pulau Pramuka</td>\n",
       "      <td>Pulau Pelangi</td>\n",
       "    </tr>\n",
       "    <tr>\n",
       "      <th>4</th>\n",
       "      <td>5</td>\n",
       "      <td>Jakarta</td>\n",
       "      <td>Museum Satria Mandala</td>\n",
       "      <td>Museum Wayang</td>\n",
       "      <td>Museum Bahari Jakarta</td>\n",
       "      <td>Museum Macan (Modern and Contemporary Art in N...</td>\n",
       "      <td>NaN</td>\n",
       "    </tr>\n",
       "    <tr>\n",
       "      <th>...</th>\n",
       "      <td>...</td>\n",
       "      <td>...</td>\n",
       "      <td>...</td>\n",
       "      <td>...</td>\n",
       "      <td>...</td>\n",
       "      <td>...</td>\n",
       "      <td>...</td>\n",
       "    </tr>\n",
       "    <tr>\n",
       "      <th>95</th>\n",
       "      <td>96</td>\n",
       "      <td>Surabaya</td>\n",
       "      <td>Ekowisata Mangrove Wonorejo</td>\n",
       "      <td>Taman Harmoni Keputih</td>\n",
       "      <td>Taman Kunang-Kunang</td>\n",
       "      <td>Taman Ekspresi Dan Perpustakaan</td>\n",
       "      <td>Museum De Javasche Bank</td>\n",
       "    </tr>\n",
       "    <tr>\n",
       "      <th>96</th>\n",
       "      <td>97</td>\n",
       "      <td>Surabaya</td>\n",
       "      <td>Ciputra Waterpark</td>\n",
       "      <td>Kenjeran Park</td>\n",
       "      <td>Kebun Binatang Surabaya</td>\n",
       "      <td>Food Junction Grand Pakuwon</td>\n",
       "      <td>| Atlantis Land Surabaya</td>\n",
       "    </tr>\n",
       "    <tr>\n",
       "      <th>97</th>\n",
       "      <td>98</td>\n",
       "      <td>Surabaya</td>\n",
       "      <td>Museum Kesehatan Dr. Adhyatma</td>\n",
       "      <td>Patung Buddha Empat Rupa</td>\n",
       "      <td>Taman Hiburan Rakyat</td>\n",
       "      <td>Taman Bungkul</td>\n",
       "      <td>Taman Flora Bratang Surabaya</td>\n",
       "    </tr>\n",
       "    <tr>\n",
       "      <th>98</th>\n",
       "      <td>99</td>\n",
       "      <td>Surabaya</td>\n",
       "      <td>Taman Ekspresi Dan Perpustakaan</td>\n",
       "      <td>Museum De Javasche Bank</td>\n",
       "      <td>Surabaya Museum (Gedung Siola)</td>\n",
       "      <td>Museum Mpu Tantular</td>\n",
       "      <td>Taman Air Mancur Menari Kenjeran</td>\n",
       "    </tr>\n",
       "    <tr>\n",
       "      <th>99</th>\n",
       "      <td>100</td>\n",
       "      <td>Surabaya</td>\n",
       "      <td>Taman Buah Surabaya</td>\n",
       "      <td>Hutan Bambu Keputih</td>\n",
       "      <td>Taman Barunawati</td>\n",
       "      <td>Kebun Bibit Wonorejo</td>\n",
       "      <td>Taman Mundu</td>\n",
       "    </tr>\n",
       "  </tbody>\n",
       "</table>\n",
       "<p>100 rows × 7 columns</p>\n",
       "</div>"
      ],
      "text/plain": [
       "    Package      City                   Place_Tourism1  \\\n",
       "0         1   Jakarta                Pasar Tanah Abang   \n",
       "1         2   Jakarta                Pasar Tanah Abang   \n",
       "2         3   Jakarta            Perpustakaan Nasional   \n",
       "3         4   Jakarta                     Pulau Tidung   \n",
       "4         5   Jakarta            Museum Satria Mandala   \n",
       "..      ...       ...                              ...   \n",
       "95       96  Surabaya      Ekowisata Mangrove Wonorejo   \n",
       "96       97  Surabaya                Ciputra Waterpark   \n",
       "97       98  Surabaya    Museum Kesehatan Dr. Adhyatma   \n",
       "98       99  Surabaya  Taman Ekspresi Dan Perpustakaan   \n",
       "99      100  Surabaya              Taman Buah Surabaya   \n",
       "\n",
       "              Place_Tourism2                  Place_Tourism3  \\\n",
       "0               Taman Ayodya                  Museum Tekstil   \n",
       "1         Pasar Taman Puring            Pasar Petak Sembilan   \n",
       "2                      Monas                 Masjid Istiqlal   \n",
       "3             Pulau Bidadari                      Pulau Pari   \n",
       "4              Museum Wayang           Museum Bahari Jakarta   \n",
       "..                       ...                             ...   \n",
       "95     Taman Harmoni Keputih             Taman Kunang-Kunang   \n",
       "96             Kenjeran Park         Kebun Binatang Surabaya   \n",
       "97  Patung Buddha Empat Rupa            Taman Hiburan Rakyat   \n",
       "98   Museum De Javasche Bank  Surabaya Museum (Gedung Siola)   \n",
       "99       Hutan Bambu Keputih                Taman Barunawati   \n",
       "\n",
       "                                       Place_Tourism4  \\\n",
       "0                                                 NaN   \n",
       "1                                                 NaN   \n",
       "2                                                 NaN   \n",
       "3                                       Pulau Pramuka   \n",
       "4   Museum Macan (Modern and Contemporary Art in N...   \n",
       "..                                                ...   \n",
       "95                    Taman Ekspresi Dan Perpustakaan   \n",
       "96                        Food Junction Grand Pakuwon   \n",
       "97                                      Taman Bungkul   \n",
       "98                                Museum Mpu Tantular   \n",
       "99                               Kebun Bibit Wonorejo   \n",
       "\n",
       "                      Place_Tourism5  \n",
       "0                                NaN  \n",
       "1                                NaN  \n",
       "2                                NaN  \n",
       "3                      Pulau Pelangi  \n",
       "4                                NaN  \n",
       "..                               ...  \n",
       "95           Museum De Javasche Bank  \n",
       "96          | Atlantis Land Surabaya  \n",
       "97      Taman Flora Bratang Surabaya  \n",
       "98  Taman Air Mancur Menari Kenjeran  \n",
       "99                       Taman Mundu  \n",
       "\n",
       "[100 rows x 7 columns]"
      ]
     },
     "execution_count": 20,
     "metadata": {},
     "output_type": "execute_result"
    }
   ],
   "source": [
    "data_package_tourism = pd.read_csv('package_tourism.csv')\n",
    "data_package_tourism"
   ]
  },
  {
   "cell_type": "markdown",
   "metadata": {},
   "source": [
    "### EDA (Exploratory Data Analysis)\n",
    "\n",
    "melakukan explorasi terhadap data dan variabel data"
   ]
  },
  {
   "cell_type": "markdown",
   "metadata": {},
   "source": [
    "#### Univariate Analysis\n",
    "analisis univariate untuk beberapa variabel pada data"
   ]
  },
  {
   "cell_type": "markdown",
   "metadata": {},
   "source": [
    "Melakukan analisis pada variabel Age"
   ]
  },
  {
   "cell_type": "code",
   "execution_count": 21,
   "metadata": {},
   "outputs": [
    {
     "data": {
      "image/png": "[encoded data removed]",
      "text/plain": [
       "<Figure size 432x288 with 1 Axes>"
      ]
     },
     "metadata": {
      "needs_background": "light"
     },
     "output_type": "display_data"
    }
   ],
   "source": [
    "sns.histplot(data_user['Age'], kde=True, bins=10).title.set_text('Age Distribution') "
   ]
  },
  {
   "cell_type": "code",
   "execution_count": 22,
   "metadata": {},
   "outputs": [
    {
     "data": {
      "text/html": [
       "<div>\n",
       "<style scoped>\n",
       "    .dataframe tbody tr th:only-of-type {\n",
       "        vertical-align: middle;\n",
       "    }\n",
       "\n",
       "    .dataframe tbody tr th {\n",
       "        vertical-align: top;\n",
       "    }\n",
       "\n",
       "    .dataframe thead th {\n",
       "        text-align: right;\n",
       "    }\n",
       "</style>\n",
       "<table border=\"1\" class=\"dataframe\">\n",
       "  <thead>\n",
       "    <tr style=\"text-align: right;\">\n",
       "      <th></th>\n",
       "      <th>count</th>\n",
       "      <th>mean</th>\n",
       "      <th>std</th>\n",
       "      <th>min</th>\n",
       "      <th>25%</th>\n",
       "      <th>50%</th>\n",
       "      <th>75%</th>\n",
       "      <th>max</th>\n",
       "    </tr>\n",
       "  </thead>\n",
       "  <tbody>\n",
       "    <tr>\n",
       "      <th>Age</th>\n",
       "      <td>300.0</td>\n",
       "      <td>28.7</td>\n",
       "      <td>6.393716</td>\n",
       "      <td>18.0</td>\n",
       "      <td>24.0</td>\n",
       "      <td>29.0</td>\n",
       "      <td>34.0</td>\n",
       "      <td>40.0</td>\n",
       "    </tr>\n",
       "  </tbody>\n",
       "</table>\n",
       "</div>"
      ],
      "text/plain": [
       "     count  mean       std   min   25%   50%   75%   max\n",
       "Age  300.0  28.7  6.393716  18.0  24.0  29.0  34.0  40.0"
      ]
     },
     "execution_count": 22,
     "metadata": {},
     "output_type": "execute_result"
    }
   ],
   "source": [
    "pd.DataFrame(data_user.Age.describe()).T"
   ]
  },
  {
   "cell_type": "markdown",
   "metadata": {},
   "source": [
    "Melakukan pengecekan distribusi pada variabel age menggunakan skew"
   ]
  },
  {
   "cell_type": "code",
   "execution_count": 23,
   "metadata": {},
   "outputs": [
    {
     "name": "stdout",
     "output_type": "stream",
     "text": [
      "Kemiringan pada data :  0.008177316085058168\n"
     ]
    }
   ],
   "source": [
    "print(\"Kemiringan pada data : \", data_user.Age.skew()) "
   ]
  },
  {
   "cell_type": "markdown",
   "metadata": {},
   "source": [
    "pada variabel Age memiliki distribusi yang normal karena skewness tidak melebihi treshold yaitu 0,5\n",
    "\n",
    "berarti kita dapat mengetahui rata-rata wisatawan yang berkunjung berumur 18 hingga 40"
   ]
  },
  {
   "cell_type": "markdown",
   "metadata": {},
   "source": [
    "Melakukan analisis pada variabel City"
   ]
  },
  {
   "cell_type": "code",
   "execution_count": 24,
   "metadata": {},
   "outputs": [
    {
     "data": {
      "application/vnd.plotly.v1+json": {
       "config": {
        "plotlyServerURL": "https://plot.ly"
       },
       "data": [
        {
         "alignmentgroup": "True",
         "bingroup": "x",
         "histfunc": "count",
         "hovertemplate": "City=%{x}<br>count=%{y}<extra></extra>",
         "legendgroup": "Jakarta",
         "marker": {
          "color": "#636efa",
          "pattern": {
           "shape": ""
          }
         },
         "name": "Jakarta",
         "offsetgroup": "Jakarta",
         "orientation": "v",
         "showlegend": true,
         "texttemplate": "%{value}",
         "type": "histogram",
         "x": [
          "Jakarta",
          "Jakarta",
          "Jakarta",
          "Jakarta",
          "Jakarta",
          "Jakarta",
          "Jakarta",
          "Jakarta",
          "Jakarta",
          "Jakarta",
          "Jakarta",
          "Jakarta",
          "Jakarta",
          "Jakarta",
          "Jakarta",
          "Jakarta",
          "Jakarta",
          "Jakarta",
          "Jakarta",
          "Jakarta",
          "Jakarta",
          "Jakarta",
          "Jakarta",
          "Jakarta",
          "Jakarta",
          "Jakarta",
          "Jakarta",
          "Jakarta",
          "Jakarta",
          "Jakarta",
          "Jakarta",
          "Jakarta",
          "Jakarta",
          "Jakarta",
          "Jakarta",
          "Jakarta",
          "Jakarta",
          "Jakarta",
          "Jakarta",
          "Jakarta",
          "Jakarta",
          "Jakarta",
          "Jakarta",
          "Jakarta",
          "Jakarta",
          "Jakarta",
          "Jakarta",
          "Jakarta",
          "Jakarta",
          "Jakarta",
          "Jakarta",
          "Jakarta",
          "Jakarta",
          "Jakarta",
          "Jakarta",
          "Jakarta",
          "Jakarta",
          "Jakarta",
          "Jakarta",
          "Jakarta",
          "Jakarta",
          "Jakarta",
          "Jakarta",
          "Jakarta",
          "Jakarta",
          "Jakarta",
          "Jakarta",
          "Jakarta",
          "Jakarta",
          "Jakarta",
          "Jakarta",
          "Jakarta",
          "Jakarta",
          "Jakarta",
          "Jakarta",
          "Jakarta",
          "Jakarta",
          "Jakarta",
          "Jakarta",
          "Jakarta",
          "Jakarta",
          "Jakarta",
          "Jakarta",
          "Jakarta"
         ],
         "xaxis": "x",
         "yaxis": "y"
        },
        {
         "alignmentgroup": "True",
         "bingroup": "x",
         "histfunc": "count",
         "hovertemplate": "City=%{x}<br>count=%{y}<extra></extra>",
         "legendgroup": "Yogyakarta",
         "marker": {
          "color": "#EF553B",
          "pattern": {
           "shape": ""
          }
         },
         "name": "Yogyakarta",
         "offsetgroup": "Yogyakarta",
         "orientation": "v",
         "showlegend": true,
         "texttemplate": "%{value}",
         "type": "histogram",
         "x": [
          "Yogyakarta",
          "Yogyakarta",
          "Yogyakarta",
          "Yogyakarta",
          "Yogyakarta",
          "Yogyakarta",
          "Yogyakarta",
          "Yogyakarta",
          "Yogyakarta",
          "Yogyakarta",
          "Yogyakarta",
          "Yogyakarta",
          "Yogyakarta",
          "Yogyakarta",
          "Yogyakarta",
          "Yogyakarta",
          "Yogyakarta",
          "Yogyakarta",
          "Yogyakarta",
          "Yogyakarta",
          "Yogyakarta",
          "Yogyakarta",
          "Yogyakarta",
          "Yogyakarta",
          "Yogyakarta",
          "Yogyakarta",
          "Yogyakarta",
          "Yogyakarta",
          "Yogyakarta",
          "Yogyakarta",
          "Yogyakarta",
          "Yogyakarta",
          "Yogyakarta",
          "Yogyakarta",
          "Yogyakarta",
          "Yogyakarta",
          "Yogyakarta",
          "Yogyakarta",
          "Yogyakarta",
          "Yogyakarta",
          "Yogyakarta",
          "Yogyakarta",
          "Yogyakarta",
          "Yogyakarta",
          "Yogyakarta",
          "Yogyakarta",
          "Yogyakarta",
          "Yogyakarta",
          "Yogyakarta",
          "Yogyakarta",
          "Yogyakarta",
          "Yogyakarta",
          "Yogyakarta",
          "Yogyakarta",
          "Yogyakarta",
          "Yogyakarta",
          "Yogyakarta",
          "Yogyakarta",
          "Yogyakarta",
          "Yogyakarta",
          "Yogyakarta",
          "Yogyakarta",
          "Yogyakarta",
          "Yogyakarta",
          "Yogyakarta",
          "Yogyakarta",
          "Yogyakarta",
          "Yogyakarta",
          "Yogyakarta",
          "Yogyakarta",
          "Yogyakarta",
          "Yogyakarta",
          "Yogyakarta",
          "Yogyakarta",
          "Yogyakarta",
          "Yogyakarta",
          "Yogyakarta",
          "Yogyakarta",
          "Yogyakarta",
          "Yogyakarta",
          "Yogyakarta",
          "Yogyakarta",
          "Yogyakarta",
          "Yogyakarta",
          "Yogyakarta",
          "Yogyakarta",
          "Yogyakarta",
          "Yogyakarta",
          "Yogyakarta",
          "Yogyakarta",
          "Yogyakarta",
          "Yogyakarta",
          "Yogyakarta",
          "Yogyakarta",
          "Yogyakarta",
          "Yogyakarta",
          "Yogyakarta",
          "Yogyakarta",
          "Yogyakarta",
          "Yogyakarta",
          "Yogyakarta",
          "Yogyakarta",
          "Yogyakarta",
          "Yogyakarta",
          "Yogyakarta",
          "Yogyakarta",
          "Yogyakarta",
          "Yogyakarta",
          "Yogyakarta",
          "Yogyakarta",
          "Yogyakarta",
          "Yogyakarta",
          "Yogyakarta",
          "Yogyakarta",
          "Yogyakarta",
          "Yogyakarta",
          "Yogyakarta",
          "Yogyakarta",
          "Yogyakarta",
          "Yogyakarta",
          "Yogyakarta",
          "Yogyakarta",
          "Yogyakarta",
          "Yogyakarta",
          "Yogyakarta",
          "Yogyakarta"
         ],
         "xaxis": "x",
         "yaxis": "y"
        },
        {
         "alignmentgroup": "True",
         "bingroup": "x",
         "histfunc": "count",
         "hovertemplate": "City=%{x}<br>count=%{y}<extra></extra>",
         "legendgroup": "Bandung",
         "marker": {
          "color": "#00cc96",
          "pattern": {
           "shape": ""
          }
         },
         "name": "Bandung",
         "offsetgroup": "Bandung",
         "orientation": "v",
         "showlegend": true,
         "texttemplate": "%{value}",
         "type": "histogram",
         "x": [
          "Bandung",
          "Bandung",
          "Bandung",
          "Bandung",
          "Bandung",
          "Bandung",
          "Bandung",
          "Bandung",
          "Bandung",
          "Bandung",
          "Bandung",
          "Bandung",
          "Bandung",
          "Bandung",
          "Bandung",
          "Bandung",
          "Bandung",
          "Bandung",
          "Bandung",
          "Bandung",
          "Bandung",
          "Bandung",
          "Bandung",
          "Bandung",
          "Bandung",
          "Bandung",
          "Bandung",
          "Bandung",
          "Bandung",
          "Bandung",
          "Bandung",
          "Bandung",
          "Bandung",
          "Bandung",
          "Bandung",
          "Bandung",
          "Bandung",
          "Bandung",
          "Bandung",
          "Bandung",
          "Bandung",
          "Bandung",
          "Bandung",
          "Bandung",
          "Bandung",
          "Bandung",
          "Bandung",
          "Bandung",
          "Bandung",
          "Bandung",
          "Bandung",
          "Bandung",
          "Bandung",
          "Bandung",
          "Bandung",
          "Bandung",
          "Bandung",
          "Bandung",
          "Bandung",
          "Bandung",
          "Bandung",
          "Bandung",
          "Bandung",
          "Bandung",
          "Bandung",
          "Bandung",
          "Bandung",
          "Bandung",
          "Bandung",
          "Bandung",
          "Bandung",
          "Bandung",
          "Bandung",
          "Bandung",
          "Bandung",
          "Bandung",
          "Bandung",
          "Bandung",
          "Bandung",
          "Bandung",
          "Bandung",
          "Bandung",
          "Bandung",
          "Bandung",
          "Bandung",
          "Bandung",
          "Bandung",
          "Bandung",
          "Bandung",
          "Bandung",
          "Bandung",
          "Bandung",
          "Bandung",
          "Bandung",
          "Bandung",
          "Bandung",
          "Bandung",
          "Bandung",
          "Bandung",
          "Bandung",
          "Bandung",
          "Bandung",
          "Bandung",
          "Bandung",
          "Bandung",
          "Bandung",
          "Bandung",
          "Bandung",
          "Bandung",
          "Bandung",
          "Bandung",
          "Bandung",
          "Bandung",
          "Bandung",
          "Bandung",
          "Bandung",
          "Bandung",
          "Bandung",
          "Bandung",
          "Bandung",
          "Bandung",
          "Bandung",
          "Bandung",
          "Bandung"
         ],
         "xaxis": "x",
         "yaxis": "y"
        },
        {
         "alignmentgroup": "True",
         "bingroup": "x",
         "histfunc": "count",
         "hovertemplate": "City=%{x}<br>count=%{y}<extra></extra>",
         "legendgroup": "Semarang",
         "marker": {
          "color": "#ab63fa",
          "pattern": {
           "shape": ""
          }
         },
         "name": "Semarang",
         "offsetgroup": "Semarang",
         "orientation": "v",
         "showlegend": true,
         "texttemplate": "%{value}",
         "type": "histogram",
         "x": [
          "Semarang",
          "Semarang",
          "Semarang",
          "Semarang",
          "Semarang",
          "Semarang",
          "Semarang",
          "Semarang",
          "Semarang",
          "Semarang",
          "Semarang",
          "Semarang",
          "Semarang",
          "Semarang",
          "Semarang",
          "Semarang",
          "Semarang",
          "Semarang",
          "Semarang",
          "Semarang",
          "Semarang",
          "Semarang",
          "Semarang",
          "Semarang",
          "Semarang",
          "Semarang",
          "Semarang",
          "Semarang",
          "Semarang",
          "Semarang",
          "Semarang",
          "Semarang",
          "Semarang",
          "Semarang",
          "Semarang",
          "Semarang",
          "Semarang",
          "Semarang",
          "Semarang",
          "Semarang",
          "Semarang",
          "Semarang",
          "Semarang",
          "Semarang",
          "Semarang",
          "Semarang",
          "Semarang",
          "Semarang",
          "Semarang",
          "Semarang",
          "Semarang",
          "Semarang",
          "Semarang",
          "Semarang",
          "Semarang",
          "Semarang",
          "Semarang"
         ],
         "xaxis": "x",
         "yaxis": "y"
        },
        {
         "alignmentgroup": "True",
         "bingroup": "x",
         "histfunc": "count",
         "hovertemplate": "City=%{x}<br>count=%{y}<extra></extra>",
         "legendgroup": "Surabaya",
         "marker": {
          "color": "#FFA15A",
          "pattern": {
           "shape": ""
          }
         },
         "name": "Surabaya",
         "offsetgroup": "Surabaya",
         "orientation": "v",
         "showlegend": true,
         "texttemplate": "%{value}",
         "type": "histogram",
         "x": [
          "Surabaya",
          "Surabaya",
          "Surabaya",
          "Surabaya",
          "Surabaya",
          "Surabaya",
          "Surabaya",
          "Surabaya",
          "Surabaya",
          "Surabaya",
          "Surabaya",
          "Surabaya",
          "Surabaya",
          "Surabaya",
          "Surabaya",
          "Surabaya",
          "Surabaya",
          "Surabaya",
          "Surabaya",
          "Surabaya",
          "Surabaya",
          "Surabaya",
          "Surabaya",
          "Surabaya",
          "Surabaya",
          "Surabaya",
          "Surabaya",
          "Surabaya",
          "Surabaya",
          "Surabaya",
          "Surabaya",
          "Surabaya",
          "Surabaya",
          "Surabaya",
          "Surabaya",
          "Surabaya",
          "Surabaya",
          "Surabaya",
          "Surabaya",
          "Surabaya",
          "Surabaya",
          "Surabaya",
          "Surabaya",
          "Surabaya",
          "Surabaya",
          "Surabaya"
         ],
         "xaxis": "x",
         "yaxis": "y"
        }
       ],
       "layout": {
        "barmode": "relative",
        "legend": {
         "title": {
          "text": "City"
         },
         "tracegroupgap": 0
        },
        "template": {
         "data": {
          "bar": [
           {
            "error_x": {
             "color": "#2a3f5f"
            },
            "error_y": {
             "color": "#2a3f5f"
            },
            "marker": {
             "line": {
              "color": "#E5ECF6",
              "width": 0.5
             },
             "pattern": {
              "fillmode": "overlay",
              "size": 10,
              "solidity": 0.2
             }
            },
            "type": "bar"
           }
          ],
          "barpolar": [
           {
            "marker": {
             "line": {
              "color": "#E5ECF6",
              "width": 0.5
             },
             "pattern": {
              "fillmode": "overlay",
              "size": 10,
              "solidity": 0.2
             }
            },
            "type": "barpolar"
           }
          ],
          "carpet": [
           {
            "aaxis": {
             "endlinecolor": "#2a3f5f",
             "gridcolor": "white",
             "linecolor": "white",
             "minorgridcolor": "white",
             "startlinecolor": "#2a3f5f"
            },
            "baxis": {
             "endlinecolor": "#2a3f5f",
             "gridcolor": "white",
             "linecolor": "white",
             "minorgridcolor": "white",
             "startlinecolor": "#2a3f5f"
            },
            "type": "carpet"
           }
          ],
          "choropleth": [
           {
            "colorbar": {
             "outlinewidth": 0,
             "ticks": ""
            },
            "type": "choropleth"
           }
          ],
          "contour": [
           {
            "colorbar": {
             "outlinewidth": 0,
             "ticks": ""
            },
            "colorscale": [
             [
              0,
              "#0d0887"
             ],
             [
              0.1111111111111111,
              "#46039f"
             ],
             [
              0.2222222222222222,
              "#7201a8"
             ],
             [
              0.3333333333333333,
              "#9c179e"
             ],
             [
              0.4444444444444444,
              "#bd3786"
             ],
             [
              0.5555555555555556,
              "#d8576b"
             ],
             [
              0.6666666666666666,
              "#ed7953"
             ],
             [
              0.7777777777777778,
              "#fb9f3a"
             ],
             [
              0.8888888888888888,
              "#fdca26"
             ],
             [
              1,
              "#f0f921"
             ]
            ],
            "type": "contour"
           }
          ],
          "contourcarpet": [
           {
            "colorbar": {
             "outlinewidth": 0,
             "ticks": ""
            },
            "type": "contourcarpet"
           }
          ],
          "heatmap": [
           {
            "colorbar": {
             "outlinewidth": 0,
             "ticks": ""
            },
            "colorscale": [
             [
              0,
              "#0d0887"
             ],
             [
              0.1111111111111111,
              "#46039f"
             ],
             [
              0.2222222222222222,
              "#7201a8"
             ],
             [
              0.3333333333333333,
              "#9c179e"
             ],
             [
              0.4444444444444444,
              "#bd3786"
             ],
             [
              0.5555555555555556,
              "#d8576b"
             ],
             [
              0.6666666666666666,
              "#ed7953"
             ],
             [
              0.7777777777777778,
              "#fb9f3a"
             ],
             [
              0.8888888888888888,
              "#fdca26"
             ],
             [
              1,
              "#f0f921"
             ]
            ],
            "type": "heatmap"
           }
          ],
          "heatmapgl": [
           {
            "colorbar": {
             "outlinewidth": 0,
             "ticks": ""
            },
            "colorscale": [
             [
              0,
              "#0d0887"
             ],
             [
              0.1111111111111111,
              "#46039f"
             ],
             [
              0.2222222222222222,
              "#7201a8"
             ],
             [
              0.3333333333333333,
              "#9c179e"
             ],
             [
              0.4444444444444444,
              "#bd3786"
             ],
             [
              0.5555555555555556,
              "#d8576b"
             ],
             [
              0.6666666666666666,
              "#ed7953"
             ],
             [
              0.7777777777777778,
              "#fb9f3a"
             ],
             [
              0.8888888888888888,
              "#fdca26"
             ],
             [
              1,
              "#f0f921"
             ]
            ],
            "type": "heatmapgl"
           }
          ],
          "histogram": [
           {
            "marker": {
             "pattern": {
              "fillmode": "overlay",
              "size": 10,
              "solidity": 0.2
             }
            },
            "type": "histogram"
           }
          ],
          "histogram2d": [
           {
            "colorbar": {
             "outlinewidth": 0,
             "ticks": ""
            },
            "colorscale": [
             [
              0,
              "#0d0887"
             ],
             [
              0.1111111111111111,
              "#46039f"
             ],
             [
              0.2222222222222222,
              "#7201a8"
             ],
             [
              0.3333333333333333,
              "#9c179e"
             ],
             [
              0.4444444444444444,
              "#bd3786"
             ],
             [
              0.5555555555555556,
              "#d8576b"
             ],
             [
              0.6666666666666666,
              "#ed7953"
             ],
             [
              0.7777777777777778,
              "#fb9f3a"
             ],
             [
              0.8888888888888888,
              "#fdca26"
             ],
             [
              1,
              "#f0f921"
             ]
            ],
            "type": "histogram2d"
           }
          ],
          "histogram2dcontour": [
           {
            "colorbar": {
             "outlinewidth": 0,
             "ticks": ""
            },
            "colorscale": [
             [
              0,
              "#0d0887"
             ],
             [
              0.1111111111111111,
              "#46039f"
             ],
             [
              0.2222222222222222,
              "#7201a8"
             ],
             [
              0.3333333333333333,
              "#9c179e"
             ],
             [
              0.4444444444444444,
              "#bd3786"
             ],
             [
              0.5555555555555556,
              "#d8576b"
             ],
             [
              0.6666666666666666,
              "#ed7953"
             ],
             [
              0.7777777777777778,
              "#fb9f3a"
             ],
             [
              0.8888888888888888,
              "#fdca26"
             ],
             [
              1,
              "#f0f921"
             ]
            ],
            "type": "histogram2dcontour"
           }
          ],
          "mesh3d": [
           {
            "colorbar": {
             "outlinewidth": 0,
             "ticks": ""
            },
            "type": "mesh3d"
           }
          ],
          "parcoords": [
           {
            "line": {
             "colorbar": {
              "outlinewidth": 0,
              "ticks": ""
             }
            },
            "type": "parcoords"
           }
          ],
          "pie": [
           {
            "automargin": true,
            "type": "pie"
           }
          ],
          "scatter": [
           {
            "marker": {
             "colorbar": {
              "outlinewidth": 0,
              "ticks": ""
             }
            },
            "type": "scatter"
           }
          ],
          "scatter3d": [
           {
            "line": {
             "colorbar": {
              "outlinewidth": 0,
              "ticks": ""
             }
            },
            "marker": {
             "colorbar": {
              "outlinewidth": 0,
              "ticks": ""
             }
            },
            "type": "scatter3d"
           }
          ],
          "scattercarpet": [
           {
            "marker": {
             "colorbar": {
              "outlinewidth": 0,
              "ticks": ""
             }
            },
            "type": "scattercarpet"
           }
          ],
          "scattergeo": [
           {
            "marker": {
             "colorbar": {
              "outlinewidth": 0,
              "ticks": ""
             }
            },
            "type": "scattergeo"
           }
          ],
          "scattergl": [
           {
            "marker": {
             "colorbar": {
              "outlinewidth": 0,
              "ticks": ""
             }
            },
            "type": "scattergl"
           }
          ],
          "scattermapbox": [
           {
            "marker": {
             "colorbar": {
              "outlinewidth": 0,
              "ticks": ""
             }
            },
            "type": "scattermapbox"
           }
          ],
          "scatterpolar": [
           {
            "marker": {
             "colorbar": {
              "outlinewidth": 0,
              "ticks": ""
             }
            },
            "type": "scatterpolar"
           }
          ],
          "scatterpolargl": [
           {
            "marker": {
             "colorbar": {
              "outlinewidth": 0,
              "ticks": ""
             }
            },
            "type": "scatterpolargl"
           }
          ],
          "scatterternary": [
           {
            "marker": {
             "colorbar": {
              "outlinewidth": 0,
              "ticks": ""
             }
            },
            "type": "scatterternary"
           }
          ],
          "surface": [
           {
            "colorbar": {
             "outlinewidth": 0,
             "ticks": ""
            },
            "colorscale": [
             [
              0,
              "#0d0887"
             ],
             [
              0.1111111111111111,
              "#46039f"
             ],
             [
              0.2222222222222222,
              "#7201a8"
             ],
             [
              0.3333333333333333,
              "#9c179e"
             ],
             [
              0.4444444444444444,
              "#bd3786"
             ],
             [
              0.5555555555555556,
              "#d8576b"
             ],
             [
              0.6666666666666666,
              "#ed7953"
             ],
             [
              0.7777777777777778,
              "#fb9f3a"
             ],
             [
              0.8888888888888888,
              "#fdca26"
             ],
             [
              1,
              "#f0f921"
             ]
            ],
            "type": "surface"
           }
          ],
          "table": [
           {
            "cells": {
             "fill": {
              "color": "#EBF0F8"
             },
             "line": {
              "color": "white"
             }
            },
            "header": {
             "fill": {
              "color": "#C8D4E3"
             },
             "line": {
              "color": "white"
             }
            },
            "type": "table"
           }
          ]
         },
         "layout": {
          "annotationdefaults": {
           "arrowcolor": "#2a3f5f",
           "arrowhead": 0,
           "arrowwidth": 1
          },
          "autotypenumbers": "strict",
          "coloraxis": {
           "colorbar": {
            "outlinewidth": 0,
            "ticks": ""
           }
          },
          "colorscale": {
           "diverging": [
            [
             0,
             "#8e0152"
            ],
            [
             0.1,
             "#c51b7d"
            ],
            [
             0.2,
             "#de77ae"
            ],
            [
             0.3,
             "#f1b6da"
            ],
            [
             0.4,
             "#fde0ef"
            ],
            [
             0.5,
             "#f7f7f7"
            ],
            [
             0.6,
             "#e6f5d0"
            ],
            [
             0.7,
             "#b8e186"
            ],
            [
             0.8,
             "#7fbc41"
            ],
            [
             0.9,
             "#4d9221"
            ],
            [
             1,
             "#276419"
            ]
           ],
           "sequential": [
            [
             0,
             "#0d0887"
            ],
            [
             0.1111111111111111,
             "#46039f"
            ],
            [
             0.2222222222222222,
             "#7201a8"
            ],
            [
             0.3333333333333333,
             "#9c179e"
            ],
            [
             0.4444444444444444,
             "#bd3786"
            ],
            [
             0.5555555555555556,
             "#d8576b"
            ],
            [
             0.6666666666666666,
             "#ed7953"
            ],
            [
             0.7777777777777778,
             "#fb9f3a"
            ],
            [
             0.8888888888888888,
             "#fdca26"
            ],
            [
             1,
             "#f0f921"
            ]
           ],
           "sequentialminus": [
            [
             0,
             "#0d0887"
            ],
            [
             0.1111111111111111,
             "#46039f"
            ],
            [
             0.2222222222222222,
             "#7201a8"
            ],
            [
             0.3333333333333333,
             "#9c179e"
            ],
            [
             0.4444444444444444,
             "#bd3786"
            ],
            [
             0.5555555555555556,
             "#d8576b"
            ],
            [
             0.6666666666666666,
             "#ed7953"
            ],
            [
             0.7777777777777778,
             "#fb9f3a"
            ],
            [
             0.8888888888888888,
             "#fdca26"
            ],
            [
             1,
             "#f0f921"
            ]
           ]
          },
          "colorway": [
           "#636efa",
           "#EF553B",
           "#00cc96",
           "#ab63fa",
           "#FFA15A",
           "#19d3f3",
           "#FF6692",
           "#B6E880",
           "#FF97FF",
           "#FECB52"
          ],
          "font": {
           "color": "#2a3f5f"
          },
          "geo": {
           "bgcolor": "white",
           "lakecolor": "white",
           "landcolor": "#E5ECF6",
           "showlakes": true,
           "showland": true,
           "subunitcolor": "white"
          },
          "hoverlabel": {
           "align": "left"
          },
          "hovermode": "closest",
          "mapbox": {
           "style": "light"
          },
          "paper_bgcolor": "white",
          "plot_bgcolor": "#E5ECF6",
          "polar": {
           "angularaxis": {
            "gridcolor": "white",
            "linecolor": "white",
            "ticks": ""
           },
           "bgcolor": "#E5ECF6",
           "radialaxis": {
            "gridcolor": "white",
            "linecolor": "white",
            "ticks": ""
           }
          },
          "scene": {
           "xaxis": {
            "backgroundcolor": "#E5ECF6",
            "gridcolor": "white",
            "gridwidth": 2,
            "linecolor": "white",
            "showbackground": true,
            "ticks": "",
            "zerolinecolor": "white"
           },
           "yaxis": {
            "backgroundcolor": "#E5ECF6",
            "gridcolor": "white",
            "gridwidth": 2,
            "linecolor": "white",
            "showbackground": true,
            "ticks": "",
            "zerolinecolor": "white"
           },
           "zaxis": {
            "backgroundcolor": "#E5ECF6",
            "gridcolor": "white",
            "gridwidth": 2,
            "linecolor": "white",
            "showbackground": true,
            "ticks": "",
            "zerolinecolor": "white"
           }
          },
          "shapedefaults": {
           "line": {
            "color": "#2a3f5f"
           }
          },
          "ternary": {
           "aaxis": {
            "gridcolor": "white",
            "linecolor": "white",
            "ticks": ""
           },
           "baxis": {
            "gridcolor": "white",
            "linecolor": "white",
            "ticks": ""
           },
           "bgcolor": "#E5ECF6",
           "caxis": {
            "gridcolor": "white",
            "linecolor": "white",
            "ticks": ""
           }
          },
          "title": {
           "x": 0.05
          },
          "xaxis": {
           "automargin": true,
           "gridcolor": "white",
           "linecolor": "white",
           "ticks": "",
           "title": {
            "standoff": 15
           },
           "zerolinecolor": "white",
           "zerolinewidth": 2
          },
          "yaxis": {
           "automargin": true,
           "gridcolor": "white",
           "linecolor": "white",
           "ticks": "",
           "title": {
            "standoff": 15
           },
           "zerolinecolor": "white",
           "zerolinewidth": 2
          }
         }
        },
        "title": {
         "text": "City's Tourism Destination"
        },
        "xaxis": {
         "anchor": "y",
         "categoryarray": [
          "Jakarta",
          "Yogyakarta",
          "Bandung",
          "Semarang",
          "Surabaya"
         ],
         "categoryorder": "array",
         "domain": [
          0,
          1
         ],
         "title": {
          "text": "City"
         }
        },
        "yaxis": {
         "anchor": "x",
         "domain": [
          0,
          1
         ],
         "title": {
          "text": "count"
         }
        }
       }
      }
     },
     "metadata": {},
     "output_type": "display_data"
    }
   ],
   "source": [
    "px.histogram(data_frame=data_tourism_with_id, x='City', color='City', title='City\\'s Tourism Destination',histfunc='count',text_auto=True)"
   ]
  },
  {
   "cell_type": "markdown",
   "metadata": {},
   "source": [
    "Wisatawan lebih memilih Yogyakarta dan Bandung sebagai tempat wisata yang dipilihnya"
   ]
  },
  {
   "cell_type": "markdown",
   "metadata": {},
   "source": [
    "#### Multivariate Analysis\n",
    "\n",
    "analisis pada 2 atau lebih variabel pada data"
   ]
  },
  {
   "cell_type": "markdown",
   "metadata": {},
   "source": [
    "pada variabel rating dengan tempat wisata\n",
    "\n",
    "membuat variabel baru yaitu testing untuk mengelompokan Place_Id berdasarkan rata - rata Place_ratings "
   ]
  },
  {
   "cell_type": "code",
   "execution_count": 25,
   "metadata": {},
   "outputs": [
    {
     "data": {
      "text/html": [
       "<div>\n",
       "<style scoped>\n",
       "    .dataframe tbody tr th:only-of-type {\n",
       "        vertical-align: middle;\n",
       "    }\n",
       "\n",
       "    .dataframe tbody tr th {\n",
       "        vertical-align: top;\n",
       "    }\n",
       "\n",
       "    .dataframe thead th {\n",
       "        text-align: right;\n",
       "    }\n",
       "</style>\n",
       "<table border=\"1\" class=\"dataframe\">\n",
       "  <thead>\n",
       "    <tr style=\"text-align: right;\">\n",
       "      <th></th>\n",
       "      <th>Place_Id</th>\n",
       "      <th>Place_Ratings</th>\n",
       "    </tr>\n",
       "  </thead>\n",
       "  <tbody>\n",
       "    <tr>\n",
       "      <th>0</th>\n",
       "      <td>416</td>\n",
       "      <td>3.967742</td>\n",
       "    </tr>\n",
       "    <tr>\n",
       "      <th>1</th>\n",
       "      <td>139</td>\n",
       "      <td>3.882353</td>\n",
       "    </tr>\n",
       "    <tr>\n",
       "      <th>2</th>\n",
       "      <td>52</td>\n",
       "      <td>3.842105</td>\n",
       "    </tr>\n",
       "    <tr>\n",
       "      <th>3</th>\n",
       "      <td>254</td>\n",
       "      <td>3.789474</td>\n",
       "    </tr>\n",
       "    <tr>\n",
       "      <th>4</th>\n",
       "      <td>97</td>\n",
       "      <td>3.772727</td>\n",
       "    </tr>\n",
       "    <tr>\n",
       "      <th>5</th>\n",
       "      <td>322</td>\n",
       "      <td>3.766667</td>\n",
       "    </tr>\n",
       "    <tr>\n",
       "      <th>6</th>\n",
       "      <td>112</td>\n",
       "      <td>3.764706</td>\n",
       "    </tr>\n",
       "    <tr>\n",
       "      <th>7</th>\n",
       "      <td>1</td>\n",
       "      <td>3.722222</td>\n",
       "    </tr>\n",
       "    <tr>\n",
       "      <th>8</th>\n",
       "      <td>321</td>\n",
       "      <td>3.714286</td>\n",
       "    </tr>\n",
       "    <tr>\n",
       "      <th>9</th>\n",
       "      <td>157</td>\n",
       "      <td>3.695652</td>\n",
       "    </tr>\n",
       "  </tbody>\n",
       "</table>\n",
       "</div>"
      ],
      "text/plain": [
       "   Place_Id  Place_Ratings\n",
       "0       416       3.967742\n",
       "1       139       3.882353\n",
       "2        52       3.842105\n",
       "3       254       3.789474\n",
       "4        97       3.772727\n",
       "5       322       3.766667\n",
       "6       112       3.764706\n",
       "7         1       3.722222\n",
       "8       321       3.714286\n",
       "9       157       3.695652"
      ]
     },
     "execution_count": 25,
     "metadata": {},
     "output_type": "execute_result"
    }
   ],
   "source": [
    "testing = data_tourism_rating.groupby('Place_Id')['Place_Ratings'].mean().sort_values(ascending=False).reset_index().head(10)\n",
    "testing"
   ]
  },
  {
   "cell_type": "markdown",
   "metadata": {},
   "source": [
    "Melakukan pengubahan terhadap nama Place_Id menjadi nama tempat aslinya sehingga lebih mudah untuk dikenali"
   ]
  },
  {
   "cell_type": "code",
   "execution_count": 26,
   "metadata": {},
   "outputs": [],
   "source": [
    "for i,data in testing.iterrows():\n",
    "    # testing.loc[i,'Place_Id'] = data_tourism_with_id.\n",
    "    # print(data['Place_Id'].astype(int))\n",
    "    testing.loc[i,'Place_Id'] = data_tourism_with_id.loc[data_tourism_with_id.Place_Id == data['Place_Id'].astype(int),'Place_Name'].values[0]\n",
    "    # print(data_tourism_with_id.loc[data_tourism_with_id.Place_Id == data['Place_Id'].astype(int),'Place_Name'].values[0])"
   ]
  },
  {
   "cell_type": "code",
   "execution_count": 27,
   "metadata": {},
   "outputs": [
    {
     "data": {
      "application/vnd.plotly.v1+json": {
       "config": {
        "plotlyServerURL": "https://plot.ly"
       },
       "data": [
        {
         "alignmentgroup": "True",
         "hovertemplate": "Place_Id=%{y}<br>Place_Ratings=%{x}<extra></extra>",
         "legendgroup": "Keraton Surabaya",
         "marker": {
          "color": "#636efa",
          "pattern": {
           "shape": ""
          }
         },
         "name": "Keraton Surabaya",
         "offsetgroup": "Keraton Surabaya",
         "orientation": "h",
         "showlegend": true,
         "textposition": "auto",
         "texttemplate": "%{x}",
         "type": "bar",
         "x": [
          3.967741935483871
         ],
         "xaxis": "x",
         "y": [
          "Keraton Surabaya"
         ],
         "yaxis": "y"
        },
        {
         "alignmentgroup": "True",
         "hovertemplate": "Place_Id=%{y}<br>Place_Ratings=%{x}<extra></extra>",
         "legendgroup": "Puncak Gunung Api Purba - Nglanggeran",
         "marker": {
          "color": "#EF553B",
          "pattern": {
           "shape": ""
          }
         },
         "name": "Puncak Gunung Api Purba - Nglanggeran",
         "offsetgroup": "Puncak Gunung Api Purba - Nglanggeran",
         "orientation": "h",
         "showlegend": true,
         "textposition": "auto",
         "texttemplate": "%{x}",
         "type": "bar",
         "x": [
          3.8823529411764706
         ],
         "xaxis": "x",
         "y": [
          "Puncak Gunung Api Purba - Nglanggeran"
         ],
         "yaxis": "y"
        },
        {
         "alignmentgroup": "True",
         "hovertemplate": "Place_Id=%{y}<br>Place_Ratings=%{x}<extra></extra>",
         "legendgroup": "Kampung Cina",
         "marker": {
          "color": "#00cc96",
          "pattern": {
           "shape": ""
          }
         },
         "name": "Kampung Cina",
         "offsetgroup": "Kampung Cina",
         "orientation": "h",
         "showlegend": true,
         "textposition": "auto",
         "texttemplate": "%{x}",
         "type": "bar",
         "x": [
          3.8421052631578947
         ],
         "xaxis": "x",
         "y": [
          "Kampung Cina"
         ],
         "yaxis": "y"
        },
        {
         "alignmentgroup": "True",
         "hovertemplate": "Place_Id=%{y}<br>Place_Ratings=%{x}<extra></extra>",
         "legendgroup": "Teras Cikapundung BBWS",
         "marker": {
          "color": "#ab63fa",
          "pattern": {
           "shape": ""
          }
         },
         "name": "Teras Cikapundung BBWS",
         "offsetgroup": "Teras Cikapundung BBWS",
         "orientation": "h",
         "showlegend": true,
         "textposition": "auto",
         "texttemplate": "%{x}",
         "type": "bar",
         "x": [
          3.789473684210526
         ],
         "xaxis": "x",
         "y": [
          "Teras Cikapundung BBWS"
         ],
         "yaxis": "y"
        },
        {
         "alignmentgroup": "True",
         "hovertemplate": "Place_Id=%{y}<br>Place_Ratings=%{x}<extra></extra>",
         "legendgroup": "Monumen Yogya Kembali",
         "marker": {
          "color": "#FFA15A",
          "pattern": {
           "shape": ""
          }
         },
         "name": "Monumen Yogya Kembali",
         "offsetgroup": "Monumen Yogya Kembali",
         "orientation": "h",
         "showlegend": true,
         "textposition": "auto",
         "texttemplate": "%{x}",
         "type": "bar",
         "x": [
          3.772727272727273
         ],
         "xaxis": "x",
         "y": [
          "Monumen Yogya Kembali"
         ],
         "yaxis": "y"
        },
        {
         "alignmentgroup": "True",
         "hovertemplate": "Place_Id=%{y}<br>Place_Ratings=%{x}<extra></extra>",
         "legendgroup": "Bukit Jamur",
         "marker": {
          "color": "#19d3f3",
          "pattern": {
           "shape": ""
          }
         },
         "name": "Bukit Jamur",
         "offsetgroup": "Bukit Jamur",
         "orientation": "h",
         "showlegend": true,
         "textposition": "auto",
         "texttemplate": "%{x}",
         "type": "bar",
         "x": [
          3.7666666666666666
         ],
         "xaxis": "x",
         "y": [
          "Bukit Jamur"
         ],
         "yaxis": "y"
        },
        {
         "alignmentgroup": "True",
         "hovertemplate": "Place_Id=%{y}<br>Place_Ratings=%{x}<extra></extra>",
         "legendgroup": "Bukit Bintang Yogyakarta",
         "marker": {
          "color": "#FF6692",
          "pattern": {
           "shape": ""
          }
         },
         "name": "Bukit Bintang Yogyakarta",
         "offsetgroup": "Bukit Bintang Yogyakarta",
         "orientation": "h",
         "showlegend": true,
         "textposition": "auto",
         "texttemplate": "%{x}",
         "type": "bar",
         "x": [
          3.764705882352941
         ],
         "xaxis": "x",
         "y": [
          "Bukit Bintang Yogyakarta"
         ],
         "yaxis": "y"
        },
        {
         "alignmentgroup": "True",
         "hovertemplate": "Place_Id=%{y}<br>Place_Ratings=%{x}<extra></extra>",
         "legendgroup": "Monumen Nasional",
         "marker": {
          "color": "#B6E880",
          "pattern": {
           "shape": ""
          }
         },
         "name": "Monumen Nasional",
         "offsetgroup": "Monumen Nasional",
         "orientation": "h",
         "showlegend": true,
         "textposition": "auto",
         "texttemplate": "%{x}",
         "type": "bar",
         "x": [
          3.7222222222222223
         ],
         "xaxis": "x",
         "y": [
          "Monumen Nasional"
         ],
         "yaxis": "y"
        },
        {
         "alignmentgroup": "True",
         "hovertemplate": "Place_Id=%{y}<br>Place_Ratings=%{x}<extra></extra>",
         "legendgroup": "Glamping Lakeside Rancabali",
         "marker": {
          "color": "#FF97FF",
          "pattern": {
           "shape": ""
          }
         },
         "name": "Glamping Lakeside Rancabali",
         "offsetgroup": "Glamping Lakeside Rancabali",
         "orientation": "h",
         "showlegend": true,
         "textposition": "auto",
         "texttemplate": "%{x}",
         "type": "bar",
         "x": [
          3.7142857142857144
         ],
         "xaxis": "x",
         "y": [
          "Glamping Lakeside Rancabali"
         ],
         "yaxis": "y"
        },
        {
         "alignmentgroup": "True",
         "hovertemplate": "Place_Id=%{y}<br>Place_Ratings=%{x}<extra></extra>",
         "legendgroup": "Pantai Baron",
         "marker": {
          "color": "#FECB52",
          "pattern": {
           "shape": ""
          }
         },
         "name": "Pantai Baron",
         "offsetgroup": "Pantai Baron",
         "orientation": "h",
         "showlegend": true,
         "textposition": "auto",
         "texttemplate": "%{x}",
         "type": "bar",
         "x": [
          3.6956521739130435
         ],
         "xaxis": "x",
         "y": [
          "Pantai Baron"
         ],
         "yaxis": "y"
        }
       ],
       "layout": {
        "barmode": "relative",
        "legend": {
         "title": {
          "text": "Place_Id"
         },
         "tracegroupgap": 0
        },
        "template": {
         "data": {
          "bar": [
           {
            "error_x": {
             "color": "#2a3f5f"
            },
            "error_y": {
             "color": "#2a3f5f"
            },
            "marker": {
             "line": {
              "color": "#E5ECF6",
              "width": 0.5
             },
             "pattern": {
              "fillmode": "overlay",
              "size": 10,
              "solidity": 0.2
             }
            },
            "type": "bar"
           }
          ],
          "barpolar": [
           {
            "marker": {
             "line": {
              "color": "#E5ECF6",
              "width": 0.5
             },
             "pattern": {
              "fillmode": "overlay",
              "size": 10,
              "solidity": 0.2
             }
            },
            "type": "barpolar"
           }
          ],
          "carpet": [
           {
            "aaxis": {
             "endlinecolor": "#2a3f5f",
             "gridcolor": "white",
             "linecolor": "white",
             "minorgridcolor": "white",
             "startlinecolor": "#2a3f5f"
            },
            "baxis": {
             "endlinecolor": "#2a3f5f",
             "gridcolor": "white",
             "linecolor": "white",
             "minorgridcolor": "white",
             "startlinecolor": "#2a3f5f"
            },
            "type": "carpet"
           }
          ],
          "choropleth": [
           {
            "colorbar": {
             "outlinewidth": 0,
             "ticks": ""
            },
            "type": "choropleth"
           }
          ],
          "contour": [
           {
            "colorbar": {
             "outlinewidth": 0,
             "ticks": ""
            },
            "colorscale": [
             [
              0,
              "#0d0887"
             ],
             [
              0.1111111111111111,
              "#46039f"
             ],
             [
              0.2222222222222222,
              "#7201a8"
             ],
             [
              0.3333333333333333,
              "#9c179e"
             ],
             [
              0.4444444444444444,
              "#bd3786"
             ],
             [
              0.5555555555555556,
              "#d8576b"
             ],
             [
              0.6666666666666666,
              "#ed7953"
             ],
             [
              0.7777777777777778,
              "#fb9f3a"
             ],
             [
              0.8888888888888888,
              "#fdca26"
             ],
             [
              1,
              "#f0f921"
             ]
            ],
            "type": "contour"
           }
          ],
          "contourcarpet": [
           {
            "colorbar": {
             "outlinewidth": 0,
             "ticks": ""
            },
            "type": "contourcarpet"
           }
          ],
          "heatmap": [
           {
            "colorbar": {
             "outlinewidth": 0,
             "ticks": ""
            },
            "colorscale": [
             [
              0,
              "#0d0887"
             ],
             [
              0.1111111111111111,
              "#46039f"
             ],
             [
              0.2222222222222222,
              "#7201a8"
             ],
             [
              0.3333333333333333,
              "#9c179e"
             ],
             [
              0.4444444444444444,
              "#bd3786"
             ],
             [
              0.5555555555555556,
              "#d8576b"
             ],
             [
              0.6666666666666666,
              "#ed7953"
             ],
             [
              0.7777777777777778,
              "#fb9f3a"
             ],
             [
              0.8888888888888888,
              "#fdca26"
             ],
             [
              1,
              "#f0f921"
             ]
            ],
            "type": "heatmap"
           }
          ],
          "heatmapgl": [
           {
            "colorbar": {
             "outlinewidth": 0,
             "ticks": ""
            },
            "colorscale": [
             [
              0,
              "#0d0887"
             ],
             [
              0.1111111111111111,
              "#46039f"
             ],
             [
              0.2222222222222222,
              "#7201a8"
             ],
             [
              0.3333333333333333,
              "#9c179e"
             ],
             [
              0.4444444444444444,
              "#bd3786"
             ],
             [
              0.5555555555555556,
              "#d8576b"
             ],
             [
              0.6666666666666666,
              "#ed7953"
             ],
             [
              0.7777777777777778,
              "#fb9f3a"
             ],
             [
              0.8888888888888888,
              "#fdca26"
             ],
             [
              1,
              "#f0f921"
             ]
            ],
            "type": "heatmapgl"
           }
          ],
          "histogram": [
           {
            "marker": {
             "pattern": {
              "fillmode": "overlay",
              "size": 10,
              "solidity": 0.2
             }
            },
            "type": "histogram"
           }
          ],
          "histogram2d": [
           {
            "colorbar": {
             "outlinewidth": 0,
             "ticks": ""
            },
            "colorscale": [
             [
              0,
              "#0d0887"
             ],
             [
              0.1111111111111111,
              "#46039f"
             ],
             [
              0.2222222222222222,
              "#7201a8"
             ],
             [
              0.3333333333333333,
              "#9c179e"
             ],
             [
              0.4444444444444444,
              "#bd3786"
             ],
             [
              0.5555555555555556,
              "#d8576b"
             ],
             [
              0.6666666666666666,
              "#ed7953"
             ],
             [
              0.7777777777777778,
              "#fb9f3a"
             ],
             [
              0.8888888888888888,
              "#fdca26"
             ],
             [
              1,
              "#f0f921"
             ]
            ],
            "type": "histogram2d"
           }
          ],
          "histogram2dcontour": [
           {
            "colorbar": {
             "outlinewidth": 0,
             "ticks": ""
            },
            "colorscale": [
             [
              0,
              "#0d0887"
             ],
             [
              0.1111111111111111,
              "#46039f"
             ],
             [
              0.2222222222222222,
              "#7201a8"
             ],
             [
              0.3333333333333333,
              "#9c179e"
             ],
             [
              0.4444444444444444,
              "#bd3786"
             ],
             [
              0.5555555555555556,
              "#d8576b"
             ],
             [
              0.6666666666666666,
              "#ed7953"
             ],
             [
              0.7777777777777778,
              "#fb9f3a"
             ],
             [
              0.8888888888888888,
              "#fdca26"
             ],
             [
              1,
              "#f0f921"
             ]
            ],
            "type": "histogram2dcontour"
           }
          ],
          "mesh3d": [
           {
            "colorbar": {
             "outlinewidth": 0,
             "ticks": ""
            },
            "type": "mesh3d"
           }
          ],
          "parcoords": [
           {
            "line": {
             "colorbar": {
              "outlinewidth": 0,
              "ticks": ""
             }
            },
            "type": "parcoords"
           }
          ],
          "pie": [
           {
            "automargin": true,
            "type": "pie"
           }
          ],
          "scatter": [
           {
            "marker": {
             "colorbar": {
              "outlinewidth": 0,
              "ticks": ""
             }
            },
            "type": "scatter"
           }
          ],
          "scatter3d": [
           {
            "line": {
             "colorbar": {
              "outlinewidth": 0,
              "ticks": ""
             }
            },
            "marker": {
             "colorbar": {
              "outlinewidth": 0,
              "ticks": ""
             }
            },
            "type": "scatter3d"
           }
          ],
          "scattercarpet": [
           {
            "marker": {
             "colorbar": {
              "outlinewidth": 0,
              "ticks": ""
             }
            },
            "type": "scattercarpet"
           }
          ],
          "scattergeo": [
           {
            "marker": {
             "colorbar": {
              "outlinewidth": 0,
              "ticks": ""
             }
            },
            "type": "scattergeo"
           }
          ],
          "scattergl": [
           {
            "marker": {
             "colorbar": {
              "outlinewidth": 0,
              "ticks": ""
             }
            },
            "type": "scattergl"
           }
          ],
          "scattermapbox": [
           {
            "marker": {
             "colorbar": {
              "outlinewidth": 0,
              "ticks": ""
             }
            },
            "type": "scattermapbox"
           }
          ],
          "scatterpolar": [
           {
            "marker": {
             "colorbar": {
              "outlinewidth": 0,
              "ticks": ""
             }
            },
            "type": "scatterpolar"
           }
          ],
          "scatterpolargl": [
           {
            "marker": {
             "colorbar": {
              "outlinewidth": 0,
              "ticks": ""
             }
            },
            "type": "scatterpolargl"
           }
          ],
          "scatterternary": [
           {
            "marker": {
             "colorbar": {
              "outlinewidth": 0,
              "ticks": ""
             }
            },
            "type": "scatterternary"
           }
          ],
          "surface": [
           {
            "colorbar": {
             "outlinewidth": 0,
             "ticks": ""
            },
            "colorscale": [
             [
              0,
              "#0d0887"
             ],
             [
              0.1111111111111111,
              "#46039f"
             ],
             [
              0.2222222222222222,
              "#7201a8"
             ],
             [
              0.3333333333333333,
              "#9c179e"
             ],
             [
              0.4444444444444444,
              "#bd3786"
             ],
             [
              0.5555555555555556,
              "#d8576b"
             ],
             [
              0.6666666666666666,
              "#ed7953"
             ],
             [
              0.7777777777777778,
              "#fb9f3a"
             ],
             [
              0.8888888888888888,
              "#fdca26"
             ],
             [
              1,
              "#f0f921"
             ]
            ],
            "type": "surface"
           }
          ],
          "table": [
           {
            "cells": {
             "fill": {
              "color": "#EBF0F8"
             },
             "line": {
              "color": "white"
             }
            },
            "header": {
             "fill": {
              "color": "#C8D4E3"
             },
             "line": {
              "color": "white"
             }
            },
            "type": "table"
           }
          ]
         },
         "layout": {
          "annotationdefaults": {
           "arrowcolor": "#2a3f5f",
           "arrowhead": 0,
           "arrowwidth": 1
          },
          "autotypenumbers": "strict",
          "coloraxis": {
           "colorbar": {
            "outlinewidth": 0,
            "ticks": ""
           }
          },
          "colorscale": {
           "diverging": [
            [
             0,
             "#8e0152"
            ],
            [
             0.1,
             "#c51b7d"
            ],
            [
             0.2,
             "#de77ae"
            ],
            [
             0.3,
             "#f1b6da"
            ],
            [
             0.4,
             "#fde0ef"
            ],
            [
             0.5,
             "#f7f7f7"
            ],
            [
             0.6,
             "#e6f5d0"
            ],
            [
             0.7,
             "#b8e186"
            ],
            [
             0.8,
             "#7fbc41"
            ],
            [
             0.9,
             "#4d9221"
            ],
            [
             1,
             "#276419"
            ]
           ],
           "sequential": [
            [
             0,
             "#0d0887"
            ],
            [
             0.1111111111111111,
             "#46039f"
            ],
            [
             0.2222222222222222,
             "#7201a8"
            ],
            [
             0.3333333333333333,
             "#9c179e"
            ],
            [
             0.4444444444444444,
             "#bd3786"
            ],
            [
             0.5555555555555556,
             "#d8576b"
            ],
            [
             0.6666666666666666,
             "#ed7953"
            ],
            [
             0.7777777777777778,
             "#fb9f3a"
            ],
            [
             0.8888888888888888,
             "#fdca26"
            ],
            [
             1,
             "#f0f921"
            ]
           ],
           "sequentialminus": [
            [
             0,
             "#0d0887"
            ],
            [
             0.1111111111111111,
             "#46039f"
            ],
            [
             0.2222222222222222,
             "#7201a8"
            ],
            [
             0.3333333333333333,
             "#9c179e"
            ],
            [
             0.4444444444444444,
             "#bd3786"
            ],
            [
             0.5555555555555556,
             "#d8576b"
            ],
            [
             0.6666666666666666,
             "#ed7953"
            ],
            [
             0.7777777777777778,
             "#fb9f3a"
            ],
            [
             0.8888888888888888,
             "#fdca26"
            ],
            [
             1,
             "#f0f921"
            ]
           ]
          },
          "colorway": [
           "#636efa",
           "#EF553B",
           "#00cc96",
           "#ab63fa",
           "#FFA15A",
           "#19d3f3",
           "#FF6692",
           "#B6E880",
           "#FF97FF",
           "#FECB52"
          ],
          "font": {
           "color": "#2a3f5f"
          },
          "geo": {
           "bgcolor": "white",
           "lakecolor": "white",
           "landcolor": "#E5ECF6",
           "showlakes": true,
           "showland": true,
           "subunitcolor": "white"
          },
          "hoverlabel": {
           "align": "left"
          },
          "hovermode": "closest",
          "mapbox": {
           "style": "light"
          },
          "paper_bgcolor": "white",
          "plot_bgcolor": "#E5ECF6",
          "polar": {
           "angularaxis": {
            "gridcolor": "white",
            "linecolor": "white",
            "ticks": ""
           },
           "bgcolor": "#E5ECF6",
           "radialaxis": {
            "gridcolor": "white",
            "linecolor": "white",
            "ticks": ""
           }
          },
          "scene": {
           "xaxis": {
            "backgroundcolor": "#E5ECF6",
            "gridcolor": "white",
            "gridwidth": 2,
            "linecolor": "white",
            "showbackground": true,
            "ticks": "",
            "zerolinecolor": "white"
           },
           "yaxis": {
            "backgroundcolor": "#E5ECF6",
            "gridcolor": "white",
            "gridwidth": 2,
            "linecolor": "white",
            "showbackground": true,
            "ticks": "",
            "zerolinecolor": "white"
           },
           "zaxis": {
            "backgroundcolor": "#E5ECF6",
            "gridcolor": "white",
            "gridwidth": 2,
            "linecolor": "white",
            "showbackground": true,
            "ticks": "",
            "zerolinecolor": "white"
           }
          },
          "shapedefaults": {
           "line": {
            "color": "#2a3f5f"
           }
          },
          "ternary": {
           "aaxis": {
            "gridcolor": "white",
            "linecolor": "white",
            "ticks": ""
           },
           "baxis": {
            "gridcolor": "white",
            "linecolor": "white",
            "ticks": ""
           },
           "bgcolor": "#E5ECF6",
           "caxis": {
            "gridcolor": "white",
            "linecolor": "white",
            "ticks": ""
           }
          },
          "title": {
           "x": 0.05
          },
          "xaxis": {
           "automargin": true,
           "gridcolor": "white",
           "linecolor": "white",
           "ticks": "",
           "title": {
            "standoff": 15
           },
           "zerolinecolor": "white",
           "zerolinewidth": 2
          },
          "yaxis": {
           "automargin": true,
           "gridcolor": "white",
           "linecolor": "white",
           "ticks": "",
           "title": {
            "standoff": 15
           },
           "zerolinecolor": "white",
           "zerolinewidth": 2
          }
         }
        },
        "title": {
         "text": "Top 10 Tourism Destination"
        },
        "xaxis": {
         "anchor": "y",
         "domain": [
          0,
          1
         ],
         "title": {
          "text": "Place_Ratings"
         }
        },
        "yaxis": {
         "anchor": "x",
         "categoryarray": [
          "Pantai Baron",
          "Glamping Lakeside Rancabali",
          "Monumen Nasional",
          "Bukit Bintang Yogyakarta",
          "Bukit Jamur",
          "Monumen Yogya Kembali",
          "Teras Cikapundung BBWS",
          "Kampung Cina",
          "Puncak Gunung Api Purba - Nglanggeran",
          "Keraton Surabaya"
         ],
         "categoryorder": "array",
         "domain": [
          0,
          1
         ],
         "title": {
          "text": "Place_Id"
         }
        }
       }
      }
     },
     "metadata": {},
     "output_type": "display_data"
    }
   ],
   "source": [
    "px.bar(data_frame=testing,text_auto=True,color='Place_Id',x='Place_Ratings',y='Place_Id',title='Top 10 Tourism Destination')"
   ]
  },
  {
   "cell_type": "markdown",
   "metadata": {},
   "source": [
    "10 tujuan destinasi wisata terbaik menurut rata-rata wisatawan yang sudah melakukan kunjungan"
   ]
  },
  {
   "cell_type": "markdown",
   "metadata": {},
   "source": [
    "### Data Preparation"
   ]
  },
  {
   "cell_type": "markdown",
   "metadata": {},
   "source": [
    "menggunakan method info untuk melakukan pengecekan *missing values*"
   ]
  },
  {
   "cell_type": "code",
   "execution_count": 28,
   "metadata": {},
   "outputs": [
    {
     "data": {
      "text/plain": [
       "User_Id          0\n",
       "Place_Id         0\n",
       "Place_Ratings    0\n",
       "dtype: int64"
      ]
     },
     "execution_count": 28,
     "metadata": {},
     "output_type": "execute_result"
    }
   ],
   "source": [
    "data_tourism_rating.isna().sum()"
   ]
  },
  {
   "cell_type": "code",
   "execution_count": 29,
   "metadata": {},
   "outputs": [
    {
     "name": "stdout",
     "output_type": "stream",
     "text": [
      "<class 'pandas.core.frame.DataFrame'>\n",
      "RangeIndex: 10000 entries, 0 to 9999\n",
      "Data columns (total 3 columns):\n",
      " #   Column         Non-Null Count  Dtype\n",
      "---  ------         --------------  -----\n",
      " 0   User_Id        10000 non-null  int64\n",
      " 1   Place_Id       10000 non-null  int64\n",
      " 2   Place_Ratings  10000 non-null  int64\n",
      "dtypes: int64(3)\n",
      "memory usage: 234.5 KB\n"
     ]
    }
   ],
   "source": [
    "data_tourism_rating.info()"
   ]
  },
  {
   "cell_type": "code",
   "execution_count": 30,
   "metadata": {},
   "outputs": [
    {
     "name": "stdout",
     "output_type": "stream",
     "text": [
      "<class 'pandas.core.frame.DataFrame'>\n",
      "RangeIndex: 300 entries, 0 to 299\n",
      "Data columns (total 3 columns):\n",
      " #   Column    Non-Null Count  Dtype \n",
      "---  ------    --------------  ----- \n",
      " 0   User_Id   300 non-null    int64 \n",
      " 1   Location  300 non-null    object\n",
      " 2   Age       300 non-null    int64 \n",
      "dtypes: int64(2), object(1)\n",
      "memory usage: 7.2+ KB\n"
     ]
    }
   ],
   "source": [
    "data_user.info()"
   ]
  },
  {
   "cell_type": "code",
   "execution_count": 31,
   "metadata": {},
   "outputs": [
    {
     "name": "stdout",
     "output_type": "stream",
     "text": [
      "<class 'pandas.core.frame.DataFrame'>\n",
      "RangeIndex: 437 entries, 0 to 436\n",
      "Data columns (total 13 columns):\n",
      " #   Column        Non-Null Count  Dtype  \n",
      "---  ------        --------------  -----  \n",
      " 0   Place_Id      437 non-null    int64  \n",
      " 1   Place_Name    437 non-null    object \n",
      " 2   Description   437 non-null    object \n",
      " 3   Category      437 non-null    object \n",
      " 4   City          437 non-null    object \n",
      " 5   Price         437 non-null    int64  \n",
      " 6   Rating        437 non-null    float64\n",
      " 7   Time_Minutes  205 non-null    float64\n",
      " 8   Coordinate    437 non-null    object \n",
      " 9   Lat           437 non-null    float64\n",
      " 10  Long          437 non-null    float64\n",
      " 11  Unnamed: 11   0 non-null      float64\n",
      " 12  Unnamed: 12   437 non-null    int64  \n",
      "dtypes: float64(5), int64(3), object(5)\n",
      "memory usage: 44.5+ KB\n"
     ]
    }
   ],
   "source": [
    "data_tourism_with_id.info()"
   ]
  },
  {
   "cell_type": "code",
   "execution_count": 32,
   "metadata": {},
   "outputs": [
    {
     "name": "stdout",
     "output_type": "stream",
     "text": [
      "<class 'pandas.core.frame.DataFrame'>\n",
      "RangeIndex: 100 entries, 0 to 99\n",
      "Data columns (total 7 columns):\n",
      " #   Column          Non-Null Count  Dtype \n",
      "---  ------          --------------  ----- \n",
      " 0   Package         100 non-null    int64 \n",
      " 1   City            100 non-null    object\n",
      " 2   Place_Tourism1  100 non-null    object\n",
      " 3   Place_Tourism2  100 non-null    object\n",
      " 4   Place_Tourism3  100 non-null    object\n",
      " 5   Place_Tourism4  66 non-null     object\n",
      " 6   Place_Tourism5  39 non-null     object\n",
      "dtypes: int64(1), object(6)\n",
      "memory usage: 5.6+ KB\n"
     ]
    }
   ],
   "source": [
    "data_package_tourism.info()"
   ]
  },
  {
   "cell_type": "markdown",
   "metadata": {},
   "source": [
    "Melakukan dropping column untuk data_tourism_with_id yang tidak digunakan dengan menggunakan method drop()"
   ]
  },
  {
   "cell_type": "code",
   "execution_count": 33,
   "metadata": {},
   "outputs": [
    {
     "data": {
      "text/html": [
       "<div>\n",
       "<style scoped>\n",
       "    .dataframe tbody tr th:only-of-type {\n",
       "        vertical-align: middle;\n",
       "    }\n",
       "\n",
       "    .dataframe tbody tr th {\n",
       "        vertical-align: top;\n",
       "    }\n",
       "\n",
       "    .dataframe thead th {\n",
       "        text-align: right;\n",
       "    }\n",
       "</style>\n",
       "<table border=\"1\" class=\"dataframe\">\n",
       "  <thead>\n",
       "    <tr style=\"text-align: right;\">\n",
       "      <th></th>\n",
       "      <th>Place_Id</th>\n",
       "      <th>Place_Name</th>\n",
       "      <th>Description</th>\n",
       "      <th>Category</th>\n",
       "      <th>City</th>\n",
       "      <th>Price</th>\n",
       "    </tr>\n",
       "  </thead>\n",
       "  <tbody>\n",
       "    <tr>\n",
       "      <th>0</th>\n",
       "      <td>1</td>\n",
       "      <td>Monumen Nasional</td>\n",
       "      <td>Monumen Nasional atau yang populer disingkat d...</td>\n",
       "      <td>Budaya</td>\n",
       "      <td>Jakarta</td>\n",
       "      <td>20000</td>\n",
       "    </tr>\n",
       "    <tr>\n",
       "      <th>1</th>\n",
       "      <td>2</td>\n",
       "      <td>Kota Tua</td>\n",
       "      <td>Kota tua di Jakarta, yang juga bernama Kota Tu...</td>\n",
       "      <td>Budaya</td>\n",
       "      <td>Jakarta</td>\n",
       "      <td>0</td>\n",
       "    </tr>\n",
       "    <tr>\n",
       "      <th>2</th>\n",
       "      <td>3</td>\n",
       "      <td>Dunia Fantasi</td>\n",
       "      <td>Dunia Fantasi atau disebut juga Dufan adalah t...</td>\n",
       "      <td>Taman Hiburan</td>\n",
       "      <td>Jakarta</td>\n",
       "      <td>270000</td>\n",
       "    </tr>\n",
       "    <tr>\n",
       "      <th>3</th>\n",
       "      <td>4</td>\n",
       "      <td>Taman Mini Indonesia Indah (TMII)</td>\n",
       "      <td>Taman Mini Indonesia Indah merupakan suatu kaw...</td>\n",
       "      <td>Taman Hiburan</td>\n",
       "      <td>Jakarta</td>\n",
       "      <td>10000</td>\n",
       "    </tr>\n",
       "    <tr>\n",
       "      <th>4</th>\n",
       "      <td>5</td>\n",
       "      <td>Atlantis Water Adventure</td>\n",
       "      <td>Atlantis Water Adventure atau dikenal dengan A...</td>\n",
       "      <td>Taman Hiburan</td>\n",
       "      <td>Jakarta</td>\n",
       "      <td>94000</td>\n",
       "    </tr>\n",
       "    <tr>\n",
       "      <th>...</th>\n",
       "      <td>...</td>\n",
       "      <td>...</td>\n",
       "      <td>...</td>\n",
       "      <td>...</td>\n",
       "      <td>...</td>\n",
       "      <td>...</td>\n",
       "    </tr>\n",
       "    <tr>\n",
       "      <th>432</th>\n",
       "      <td>433</td>\n",
       "      <td>Museum Mpu Tantular</td>\n",
       "      <td>Museum Negeri Mpu Tantular adalah sebuah museu...</td>\n",
       "      <td>Budaya</td>\n",
       "      <td>Surabaya</td>\n",
       "      <td>2000</td>\n",
       "    </tr>\n",
       "    <tr>\n",
       "      <th>433</th>\n",
       "      <td>434</td>\n",
       "      <td>Taman Bungkul</td>\n",
       "      <td>Taman Bungkul adalah taman wisata kota yang te...</td>\n",
       "      <td>Taman Hiburan</td>\n",
       "      <td>Surabaya</td>\n",
       "      <td>0</td>\n",
       "    </tr>\n",
       "    <tr>\n",
       "      <th>434</th>\n",
       "      <td>435</td>\n",
       "      <td>Taman Air Mancur Menari Kenjeran</td>\n",
       "      <td>Air mancur menari atau dancing fountain juga a...</td>\n",
       "      <td>Taman Hiburan</td>\n",
       "      <td>Surabaya</td>\n",
       "      <td>0</td>\n",
       "    </tr>\n",
       "    <tr>\n",
       "      <th>435</th>\n",
       "      <td>436</td>\n",
       "      <td>Taman Flora Bratang Surabaya</td>\n",
       "      <td>Taman Flora adalah salah satu taman kota di Su...</td>\n",
       "      <td>Taman Hiburan</td>\n",
       "      <td>Surabaya</td>\n",
       "      <td>0</td>\n",
       "    </tr>\n",
       "    <tr>\n",
       "      <th>436</th>\n",
       "      <td>437</td>\n",
       "      <td>Gereja Perawan Maria Tak Berdosa Surabaya</td>\n",
       "      <td>Gereja Katolik Kelahiran Santa Perawan Maria m...</td>\n",
       "      <td>Tempat Ibadah</td>\n",
       "      <td>Surabaya</td>\n",
       "      <td>10000</td>\n",
       "    </tr>\n",
       "  </tbody>\n",
       "</table>\n",
       "<p>437 rows × 6 columns</p>\n",
       "</div>"
      ],
      "text/plain": [
       "     Place_Id                                 Place_Name  \\\n",
       "0           1                           Monumen Nasional   \n",
       "1           2                                   Kota Tua   \n",
       "2           3                              Dunia Fantasi   \n",
       "3           4          Taman Mini Indonesia Indah (TMII)   \n",
       "4           5                   Atlantis Water Adventure   \n",
       "..        ...                                        ...   \n",
       "432       433                        Museum Mpu Tantular   \n",
       "433       434                              Taman Bungkul   \n",
       "434       435           Taman Air Mancur Menari Kenjeran   \n",
       "435       436               Taman Flora Bratang Surabaya   \n",
       "436       437  Gereja Perawan Maria Tak Berdosa Surabaya   \n",
       "\n",
       "                                           Description       Category  \\\n",
       "0    Monumen Nasional atau yang populer disingkat d...         Budaya   \n",
       "1    Kota tua di Jakarta, yang juga bernama Kota Tu...         Budaya   \n",
       "2    Dunia Fantasi atau disebut juga Dufan adalah t...  Taman Hiburan   \n",
       "3    Taman Mini Indonesia Indah merupakan suatu kaw...  Taman Hiburan   \n",
       "4    Atlantis Water Adventure atau dikenal dengan A...  Taman Hiburan   \n",
       "..                                                 ...            ...   \n",
       "432  Museum Negeri Mpu Tantular adalah sebuah museu...         Budaya   \n",
       "433  Taman Bungkul adalah taman wisata kota yang te...  Taman Hiburan   \n",
       "434  Air mancur menari atau dancing fountain juga a...  Taman Hiburan   \n",
       "435  Taman Flora adalah salah satu taman kota di Su...  Taman Hiburan   \n",
       "436  Gereja Katolik Kelahiran Santa Perawan Maria m...  Tempat Ibadah   \n",
       "\n",
       "         City   Price  \n",
       "0     Jakarta   20000  \n",
       "1     Jakarta       0  \n",
       "2     Jakarta  270000  \n",
       "3     Jakarta   10000  \n",
       "4     Jakarta   94000  \n",
       "..        ...     ...  \n",
       "432  Surabaya    2000  \n",
       "433  Surabaya       0  \n",
       "434  Surabaya       0  \n",
       "435  Surabaya       0  \n",
       "436  Surabaya   10000  \n",
       "\n",
       "[437 rows x 6 columns]"
      ]
     },
     "execution_count": 33,
     "metadata": {},
     "output_type": "execute_result"
    }
   ],
   "source": [
    "data_tourism_with_id.drop(['Rating','Time_Minutes','Coordinate','Lat','Long','Unnamed: 11','Unnamed: 12'],axis=1,inplace=True)\n",
    "data_tourism_with_id"
   ]
  },
  {
   "cell_type": "markdown",
   "metadata": {},
   "source": [
    "Membuat menjadi satu dataset dengan pandas.merge()"
   ]
  },
  {
   "cell_type": "code",
   "execution_count": 34,
   "metadata": {},
   "outputs": [
    {
     "data": {
      "text/html": [
       "<div>\n",
       "<style scoped>\n",
       "    .dataframe tbody tr th:only-of-type {\n",
       "        vertical-align: middle;\n",
       "    }\n",
       "\n",
       "    .dataframe tbody tr th {\n",
       "        vertical-align: top;\n",
       "    }\n",
       "\n",
       "    .dataframe thead th {\n",
       "        text-align: right;\n",
       "    }\n",
       "</style>\n",
       "<table border=\"1\" class=\"dataframe\">\n",
       "  <thead>\n",
       "    <tr style=\"text-align: right;\">\n",
       "      <th></th>\n",
       "      <th>Place_Id</th>\n",
       "      <th>Place_Ratings</th>\n",
       "      <th>Place_Name</th>\n",
       "      <th>Description</th>\n",
       "      <th>Category</th>\n",
       "      <th>City</th>\n",
       "      <th>Price</th>\n",
       "    </tr>\n",
       "  </thead>\n",
       "  <tbody>\n",
       "    <tr>\n",
       "      <th>0</th>\n",
       "      <td>1</td>\n",
       "      <td>3.722222</td>\n",
       "      <td>Monumen Nasional</td>\n",
       "      <td>Monumen Nasional atau yang populer disingkat d...</td>\n",
       "      <td>Budaya</td>\n",
       "      <td>Jakarta</td>\n",
       "      <td>20000</td>\n",
       "    </tr>\n",
       "    <tr>\n",
       "      <th>1</th>\n",
       "      <td>2</td>\n",
       "      <td>2.840000</td>\n",
       "      <td>Kota Tua</td>\n",
       "      <td>Kota tua di Jakarta, yang juga bernama Kota Tu...</td>\n",
       "      <td>Budaya</td>\n",
       "      <td>Jakarta</td>\n",
       "      <td>0</td>\n",
       "    </tr>\n",
       "    <tr>\n",
       "      <th>2</th>\n",
       "      <td>3</td>\n",
       "      <td>2.526316</td>\n",
       "      <td>Dunia Fantasi</td>\n",
       "      <td>Dunia Fantasi atau disebut juga Dufan adalah t...</td>\n",
       "      <td>Taman Hiburan</td>\n",
       "      <td>Jakarta</td>\n",
       "      <td>270000</td>\n",
       "    </tr>\n",
       "    <tr>\n",
       "      <th>3</th>\n",
       "      <td>4</td>\n",
       "      <td>2.857143</td>\n",
       "      <td>Taman Mini Indonesia Indah (TMII)</td>\n",
       "      <td>Taman Mini Indonesia Indah merupakan suatu kaw...</td>\n",
       "      <td>Taman Hiburan</td>\n",
       "      <td>Jakarta</td>\n",
       "      <td>10000</td>\n",
       "    </tr>\n",
       "    <tr>\n",
       "      <th>4</th>\n",
       "      <td>5</td>\n",
       "      <td>3.520000</td>\n",
       "      <td>Atlantis Water Adventure</td>\n",
       "      <td>Atlantis Water Adventure atau dikenal dengan A...</td>\n",
       "      <td>Taman Hiburan</td>\n",
       "      <td>Jakarta</td>\n",
       "      <td>94000</td>\n",
       "    </tr>\n",
       "    <tr>\n",
       "      <th>...</th>\n",
       "      <td>...</td>\n",
       "      <td>...</td>\n",
       "      <td>...</td>\n",
       "      <td>...</td>\n",
       "      <td>...</td>\n",
       "      <td>...</td>\n",
       "      <td>...</td>\n",
       "    </tr>\n",
       "    <tr>\n",
       "      <th>432</th>\n",
       "      <td>433</td>\n",
       "      <td>3.304348</td>\n",
       "      <td>Museum Mpu Tantular</td>\n",
       "      <td>Museum Negeri Mpu Tantular adalah sebuah museu...</td>\n",
       "      <td>Budaya</td>\n",
       "      <td>Surabaya</td>\n",
       "      <td>2000</td>\n",
       "    </tr>\n",
       "    <tr>\n",
       "      <th>433</th>\n",
       "      <td>434</td>\n",
       "      <td>2.400000</td>\n",
       "      <td>Taman Bungkul</td>\n",
       "      <td>Taman Bungkul adalah taman wisata kota yang te...</td>\n",
       "      <td>Taman Hiburan</td>\n",
       "      <td>Surabaya</td>\n",
       "      <td>0</td>\n",
       "    </tr>\n",
       "    <tr>\n",
       "      <th>434</th>\n",
       "      <td>435</td>\n",
       "      <td>3.000000</td>\n",
       "      <td>Taman Air Mancur Menari Kenjeran</td>\n",
       "      <td>Air mancur menari atau dancing fountain juga a...</td>\n",
       "      <td>Taman Hiburan</td>\n",
       "      <td>Surabaya</td>\n",
       "      <td>0</td>\n",
       "    </tr>\n",
       "    <tr>\n",
       "      <th>435</th>\n",
       "      <td>436</td>\n",
       "      <td>3.090909</td>\n",
       "      <td>Taman Flora Bratang Surabaya</td>\n",
       "      <td>Taman Flora adalah salah satu taman kota di Su...</td>\n",
       "      <td>Taman Hiburan</td>\n",
       "      <td>Surabaya</td>\n",
       "      <td>0</td>\n",
       "    </tr>\n",
       "    <tr>\n",
       "      <th>436</th>\n",
       "      <td>437</td>\n",
       "      <td>3.289474</td>\n",
       "      <td>Gereja Perawan Maria Tak Berdosa Surabaya</td>\n",
       "      <td>Gereja Katolik Kelahiran Santa Perawan Maria m...</td>\n",
       "      <td>Tempat Ibadah</td>\n",
       "      <td>Surabaya</td>\n",
       "      <td>10000</td>\n",
       "    </tr>\n",
       "  </tbody>\n",
       "</table>\n",
       "<p>437 rows × 7 columns</p>\n",
       "</div>"
      ],
      "text/plain": [
       "     Place_Id  Place_Ratings                                 Place_Name  \\\n",
       "0           1       3.722222                           Monumen Nasional   \n",
       "1           2       2.840000                                   Kota Tua   \n",
       "2           3       2.526316                              Dunia Fantasi   \n",
       "3           4       2.857143          Taman Mini Indonesia Indah (TMII)   \n",
       "4           5       3.520000                   Atlantis Water Adventure   \n",
       "..        ...            ...                                        ...   \n",
       "432       433       3.304348                        Museum Mpu Tantular   \n",
       "433       434       2.400000                              Taman Bungkul   \n",
       "434       435       3.000000           Taman Air Mancur Menari Kenjeran   \n",
       "435       436       3.090909               Taman Flora Bratang Surabaya   \n",
       "436       437       3.289474  Gereja Perawan Maria Tak Berdosa Surabaya   \n",
       "\n",
       "                                           Description       Category  \\\n",
       "0    Monumen Nasional atau yang populer disingkat d...         Budaya   \n",
       "1    Kota tua di Jakarta, yang juga bernama Kota Tu...         Budaya   \n",
       "2    Dunia Fantasi atau disebut juga Dufan adalah t...  Taman Hiburan   \n",
       "3    Taman Mini Indonesia Indah merupakan suatu kaw...  Taman Hiburan   \n",
       "4    Atlantis Water Adventure atau dikenal dengan A...  Taman Hiburan   \n",
       "..                                                 ...            ...   \n",
       "432  Museum Negeri Mpu Tantular adalah sebuah museu...         Budaya   \n",
       "433  Taman Bungkul adalah taman wisata kota yang te...  Taman Hiburan   \n",
       "434  Air mancur menari atau dancing fountain juga a...  Taman Hiburan   \n",
       "435  Taman Flora adalah salah satu taman kota di Su...  Taman Hiburan   \n",
       "436  Gereja Katolik Kelahiran Santa Perawan Maria m...  Tempat Ibadah   \n",
       "\n",
       "         City   Price  \n",
       "0     Jakarta   20000  \n",
       "1     Jakarta       0  \n",
       "2     Jakarta  270000  \n",
       "3     Jakarta   10000  \n",
       "4     Jakarta   94000  \n",
       "..        ...     ...  \n",
       "432  Surabaya    2000  \n",
       "433  Surabaya       0  \n",
       "434  Surabaya       0  \n",
       "435  Surabaya       0  \n",
       "436  Surabaya   10000  \n",
       "\n",
       "[437 rows x 7 columns]"
      ]
     },
     "execution_count": 34,
     "metadata": {},
     "output_type": "execute_result"
    }
   ],
   "source": [
    "data_rekomendasi = pd.merge(data_tourism_rating.groupby('Place_Id')['Place_Ratings'].mean(),data_tourism_with_id,on='Place_Id')\n",
    "data_rekomendasi"
   ]
  },
  {
   "cell_type": "markdown",
   "metadata": {},
   "source": [
    "### Modeling"
   ]
  },
  {
   "cell_type": "markdown",
   "metadata": {},
   "source": [
    "#### Modeling with Content Based Filtering"
   ]
  },
  {
   "cell_type": "markdown",
   "metadata": {},
   "source": [
    "melakukan import library yang digunakan untuk modeling"
   ]
  },
  {
   "cell_type": "code",
   "execution_count": 35,
   "metadata": {},
   "outputs": [],
   "source": [
    "from sklearn.feature_extraction.text import TfidfVectorizer\n",
    "from Sastrawi.Stemmer.StemmerFactory import StemmerFactory\n",
    "from Sastrawi.StopWordRemover.StopWordRemoverFactory import StopWordRemoverFactory\n",
    "tv = TfidfVectorizer(max_features=5000)\n",
    "stem = StemmerFactory().create_stemmer()\n",
    "stopword = StopWordRemoverFactory().create_stop_word_remover()\n",
    "from sklearn.metrics.pairwise import cosine_similarity"
   ]
  },
  {
   "cell_type": "markdown",
   "metadata": {},
   "source": [
    "membuat functionn untuk preprocessing data"
   ]
  },
  {
   "cell_type": "code",
   "execution_count": 36,
   "metadata": {},
   "outputs": [],
   "source": [
    "def preprocessing(data):\n",
    "    data = data.lower()\n",
    "    data = stem.stem(data)\n",
    "    data = stopword.remove(data)\n",
    "    return data"
   ]
  },
  {
   "cell_type": "markdown",
   "metadata": {},
   "source": [
    "mengumpulkan data text menjadi 1 variabel baru"
   ]
  },
  {
   "cell_type": "code",
   "execution_count": 37,
   "metadata": {},
   "outputs": [
    {
     "data": {
      "text/html": [
       "<div>\n",
       "<style scoped>\n",
       "    .dataframe tbody tr th:only-of-type {\n",
       "        vertical-align: middle;\n",
       "    }\n",
       "\n",
       "    .dataframe tbody tr th {\n",
       "        vertical-align: top;\n",
       "    }\n",
       "\n",
       "    .dataframe thead th {\n",
       "        text-align: right;\n",
       "    }\n",
       "</style>\n",
       "<table border=\"1\" class=\"dataframe\">\n",
       "  <thead>\n",
       "    <tr style=\"text-align: right;\">\n",
       "      <th></th>\n",
       "      <th>Place_Id</th>\n",
       "      <th>Place_Name</th>\n",
       "      <th>Tags</th>\n",
       "    </tr>\n",
       "  </thead>\n",
       "  <tbody>\n",
       "    <tr>\n",
       "      <th>0</th>\n",
       "      <td>1</td>\n",
       "      <td>Monumen Nasional</td>\n",
       "      <td>Monumen Nasional atau yang populer disingkat d...</td>\n",
       "    </tr>\n",
       "    <tr>\n",
       "      <th>1</th>\n",
       "      <td>2</td>\n",
       "      <td>Kota Tua</td>\n",
       "      <td>Kota tua di Jakarta, yang juga bernama Kota Tu...</td>\n",
       "    </tr>\n",
       "    <tr>\n",
       "      <th>2</th>\n",
       "      <td>3</td>\n",
       "      <td>Dunia Fantasi</td>\n",
       "      <td>Dunia Fantasi atau disebut juga Dufan adalah t...</td>\n",
       "    </tr>\n",
       "    <tr>\n",
       "      <th>3</th>\n",
       "      <td>4</td>\n",
       "      <td>Taman Mini Indonesia Indah (TMII)</td>\n",
       "      <td>Taman Mini Indonesia Indah merupakan suatu kaw...</td>\n",
       "    </tr>\n",
       "    <tr>\n",
       "      <th>4</th>\n",
       "      <td>5</td>\n",
       "      <td>Atlantis Water Adventure</td>\n",
       "      <td>Atlantis Water Adventure atau dikenal dengan A...</td>\n",
       "    </tr>\n",
       "    <tr>\n",
       "      <th>...</th>\n",
       "      <td>...</td>\n",
       "      <td>...</td>\n",
       "      <td>...</td>\n",
       "    </tr>\n",
       "    <tr>\n",
       "      <th>432</th>\n",
       "      <td>433</td>\n",
       "      <td>Museum Mpu Tantular</td>\n",
       "      <td>Museum Negeri Mpu Tantular adalah sebuah museu...</td>\n",
       "    </tr>\n",
       "    <tr>\n",
       "      <th>433</th>\n",
       "      <td>434</td>\n",
       "      <td>Taman Bungkul</td>\n",
       "      <td>Taman Bungkul adalah taman wisata kota yang te...</td>\n",
       "    </tr>\n",
       "    <tr>\n",
       "      <th>434</th>\n",
       "      <td>435</td>\n",
       "      <td>Taman Air Mancur Menari Kenjeran</td>\n",
       "      <td>Air mancur menari atau dancing fountain juga a...</td>\n",
       "    </tr>\n",
       "    <tr>\n",
       "      <th>435</th>\n",
       "      <td>436</td>\n",
       "      <td>Taman Flora Bratang Surabaya</td>\n",
       "      <td>Taman Flora adalah salah satu taman kota di Su...</td>\n",
       "    </tr>\n",
       "    <tr>\n",
       "      <th>436</th>\n",
       "      <td>437</td>\n",
       "      <td>Gereja Perawan Maria Tak Berdosa Surabaya</td>\n",
       "      <td>Gereja Katolik Kelahiran Santa Perawan Maria m...</td>\n",
       "    </tr>\n",
       "  </tbody>\n",
       "</table>\n",
       "<p>437 rows × 3 columns</p>\n",
       "</div>"
      ],
      "text/plain": [
       "     Place_Id                                 Place_Name  \\\n",
       "0           1                           Monumen Nasional   \n",
       "1           2                                   Kota Tua   \n",
       "2           3                              Dunia Fantasi   \n",
       "3           4          Taman Mini Indonesia Indah (TMII)   \n",
       "4           5                   Atlantis Water Adventure   \n",
       "..        ...                                        ...   \n",
       "432       433                        Museum Mpu Tantular   \n",
       "433       434                              Taman Bungkul   \n",
       "434       435           Taman Air Mancur Menari Kenjeran   \n",
       "435       436               Taman Flora Bratang Surabaya   \n",
       "436       437  Gereja Perawan Maria Tak Berdosa Surabaya   \n",
       "\n",
       "                                                  Tags  \n",
       "0    Monumen Nasional atau yang populer disingkat d...  \n",
       "1    Kota tua di Jakarta, yang juga bernama Kota Tu...  \n",
       "2    Dunia Fantasi atau disebut juga Dufan adalah t...  \n",
       "3    Taman Mini Indonesia Indah merupakan suatu kaw...  \n",
       "4    Atlantis Water Adventure atau dikenal dengan A...  \n",
       "..                                                 ...  \n",
       "432  Museum Negeri Mpu Tantular adalah sebuah museu...  \n",
       "433  Taman Bungkul adalah taman wisata kota yang te...  \n",
       "434  Air mancur menari atau dancing fountain juga a...  \n",
       "435  Taman Flora adalah salah satu taman kota di Su...  \n",
       "436  Gereja Katolik Kelahiran Santa Perawan Maria m...  \n",
       "\n",
       "[437 rows x 3 columns]"
      ]
     },
     "execution_count": 37,
     "metadata": {},
     "output_type": "execute_result"
    }
   ],
   "source": [
    "data_content_based_filtering = data_rekomendasi.copy()\n",
    "data_content_based_filtering['Tags'] = data_content_based_filtering['Description'] + ' ' + data_content_based_filtering['Category']\n",
    "data_content_based_filtering.drop(['Price','Place_Ratings','Description','Category','City'],axis=1,inplace=True)\n",
    "data_content_based_filtering"
   ]
  },
  {
   "cell_type": "markdown",
   "metadata": {},
   "source": [
    "apply tags ke function preprocessing"
   ]
  },
  {
   "cell_type": "code",
   "execution_count": 38,
   "metadata": {},
   "outputs": [
    {
     "data": {
      "text/html": [
       "<div>\n",
       "<style scoped>\n",
       "    .dataframe tbody tr th:only-of-type {\n",
       "        vertical-align: middle;\n",
       "    }\n",
       "\n",
       "    .dataframe tbody tr th {\n",
       "        vertical-align: top;\n",
       "    }\n",
       "\n",
       "    .dataframe thead th {\n",
       "        text-align: right;\n",
       "    }\n",
       "</style>\n",
       "<table border=\"1\" class=\"dataframe\">\n",
       "  <thead>\n",
       "    <tr style=\"text-align: right;\">\n",
       "      <th></th>\n",
       "      <th>Place_Id</th>\n",
       "      <th>Place_Name</th>\n",
       "      <th>Tags</th>\n",
       "    </tr>\n",
       "  </thead>\n",
       "  <tbody>\n",
       "    <tr>\n",
       "      <th>0</th>\n",
       "      <td>1</td>\n",
       "      <td>Monumen Nasional</td>\n",
       "      <td>monumen nasional populer singkat monas tugu mo...</td>\n",
       "    </tr>\n",
       "    <tr>\n",
       "      <th>1</th>\n",
       "      <td>2</td>\n",
       "      <td>Kota Tua</td>\n",
       "      <td>kota tua jakarta juga nama kota tua pusat alun...</td>\n",
       "    </tr>\n",
       "    <tr>\n",
       "      <th>2</th>\n",
       "      <td>3</td>\n",
       "      <td>Dunia Fantasi</td>\n",
       "      <td>dunia fantasi sebut dufan tempat hibur letak k...</td>\n",
       "    </tr>\n",
       "    <tr>\n",
       "      <th>3</th>\n",
       "      <td>4</td>\n",
       "      <td>Taman Mini Indonesia Indah (TMII)</td>\n",
       "      <td>taman mini indonesia indah rupa suatu kawasan ...</td>\n",
       "    </tr>\n",
       "    <tr>\n",
       "      <th>4</th>\n",
       "      <td>5</td>\n",
       "      <td>Atlantis Water Adventure</td>\n",
       "      <td>atlantis water adventure kenal atlantis ancol ...</td>\n",
       "    </tr>\n",
       "    <tr>\n",
       "      <th>...</th>\n",
       "      <td>...</td>\n",
       "      <td>...</td>\n",
       "      <td>...</td>\n",
       "    </tr>\n",
       "    <tr>\n",
       "      <th>432</th>\n",
       "      <td>433</td>\n",
       "      <td>Museum Mpu Tantular</td>\n",
       "      <td>museum negeri mpu tantular buah museum negeri ...</td>\n",
       "    </tr>\n",
       "    <tr>\n",
       "      <th>433</th>\n",
       "      <td>434</td>\n",
       "      <td>Taman Bungkul</td>\n",
       "      <td>taman bungkul taman wisata kota letak pusat ko...</td>\n",
       "    </tr>\n",
       "    <tr>\n",
       "      <th>434</th>\n",
       "      <td>435</td>\n",
       "      <td>Taman Air Mancur Menari Kenjeran</td>\n",
       "      <td>air mancur tari dancing fountain ada kawasan j...</td>\n",
       "    </tr>\n",
       "    <tr>\n",
       "      <th>435</th>\n",
       "      <td>436</td>\n",
       "      <td>Taman Flora Bratang Surabaya</td>\n",
       "      <td>taman flora salah satu taman kota surabaya rup...</td>\n",
       "    </tr>\n",
       "    <tr>\n",
       "      <th>436</th>\n",
       "      <td>437</td>\n",
       "      <td>Gereja Perawan Maria Tak Berdosa Surabaya</td>\n",
       "      <td>gereja katolik lahir santa perawan maria rupa ...</td>\n",
       "    </tr>\n",
       "  </tbody>\n",
       "</table>\n",
       "<p>437 rows × 3 columns</p>\n",
       "</div>"
      ],
      "text/plain": [
       "     Place_Id                                 Place_Name  \\\n",
       "0           1                           Monumen Nasional   \n",
       "1           2                                   Kota Tua   \n",
       "2           3                              Dunia Fantasi   \n",
       "3           4          Taman Mini Indonesia Indah (TMII)   \n",
       "4           5                   Atlantis Water Adventure   \n",
       "..        ...                                        ...   \n",
       "432       433                        Museum Mpu Tantular   \n",
       "433       434                              Taman Bungkul   \n",
       "434       435           Taman Air Mancur Menari Kenjeran   \n",
       "435       436               Taman Flora Bratang Surabaya   \n",
       "436       437  Gereja Perawan Maria Tak Berdosa Surabaya   \n",
       "\n",
       "                                                  Tags  \n",
       "0    monumen nasional populer singkat monas tugu mo...  \n",
       "1    kota tua jakarta juga nama kota tua pusat alun...  \n",
       "2    dunia fantasi sebut dufan tempat hibur letak k...  \n",
       "3    taman mini indonesia indah rupa suatu kawasan ...  \n",
       "4    atlantis water adventure kenal atlantis ancol ...  \n",
       "..                                                 ...  \n",
       "432  museum negeri mpu tantular buah museum negeri ...  \n",
       "433  taman bungkul taman wisata kota letak pusat ko...  \n",
       "434  air mancur tari dancing fountain ada kawasan j...  \n",
       "435  taman flora salah satu taman kota surabaya rup...  \n",
       "436  gereja katolik lahir santa perawan maria rupa ...  \n",
       "\n",
       "[437 rows x 3 columns]"
      ]
     },
     "execution_count": 38,
     "metadata": {},
     "output_type": "execute_result"
    }
   ],
   "source": [
    "data_content_based_filtering.Tags = data_content_based_filtering.Tags.apply(preprocessing)\n",
    "data_content_based_filtering"
   ]
  },
  {
   "cell_type": "markdown",
   "metadata": {},
   "source": [
    "membuat countvectorizer dari tfidf secara langsung"
   ]
  },
  {
   "cell_type": "code",
   "execution_count": 39,
   "metadata": {},
   "outputs": [
    {
     "data": {
      "text/plain": [
       "array([[0., 0., 0., ..., 0., 0., 0.],\n",
       "       [0., 0., 0., ..., 0., 0., 0.],\n",
       "       [0., 0., 0., ..., 0., 0., 0.],\n",
       "       ...,\n",
       "       [0., 0., 0., ..., 0., 0., 0.],\n",
       "       [0., 0., 0., ..., 0., 0., 0.],\n",
       "       [0., 0., 0., ..., 0., 0., 0.]])"
      ]
     },
     "execution_count": 39,
     "metadata": {},
     "output_type": "execute_result"
    }
   ],
   "source": [
    "vectors = tv.fit_transform(data_content_based_filtering.Tags).toarray()\n",
    "vectors"
   ]
  },
  {
   "cell_type": "code",
   "execution_count": 40,
   "metadata": {},
   "outputs": [
    {
     "data": {
      "text/plain": [
       "[('zuider', 4961),\n",
       " ('zoo', 4960),\n",
       " ('zona', 4959),\n",
       " ('ziarah', 4958),\n",
       " ('zheng', 4957),\n",
       " ('zeven', 4956),\n",
       " ('zeeland', 4955),\n",
       " ('zaman', 4954),\n",
       " ('yustinus', 4953),\n",
       " ('yusgiantoro', 4952),\n",
       " ('yunani', 4951),\n",
       " ('yukata', 4950),\n",
       " ('yudhoyono', 4949),\n",
       " ('yuan', 4948),\n",
       " ('yogyakarta', 4947),\n",
       " ('yogya', 4946),\n",
       " ('yin', 4945),\n",
       " ('yesus', 4944),\n",
       " ('yesaya', 4943),\n",
       " ('yb', 4942),\n",
       " ('yayasan', 4941),\n",
       " ('yantekkes', 4940),\n",
       " ('yani', 4939),\n",
       " ('yang', 4938),\n",
       " ('yakin', 4937),\n",
       " ('yaitu', 4936),\n",
       " ('wujud', 4935),\n",
       " ('wudhu', 4934),\n",
       " ('wu', 4933),\n",
       " ('wot', 4932),\n",
       " ('world', 4931),\n",
       " ('workshop', 4930),\n",
       " ('wonosobo', 4929),\n",
       " ('wonosari', 4928),\n",
       " ('wonorejo', 4927),\n",
       " ('won', 4926),\n",
       " ('wolff', 4925),\n",
       " ('wiyogo', 4924),\n",
       " ('wiwit', 4923),\n",
       " ('wittenberg', 4922),\n",
       " ('wisnu', 4921),\n",
       " ('wisma', 4920),\n",
       " ('wisatawan', 4919),\n",
       " ('wisata', 4918),\n",
       " ('wirasonjaya', 4917),\n",
       " ('winogo', 4916),\n",
       " ('windu', 4915),\n",
       " ('winarsih', 4914),\n",
       " ('wilhelmina', 4913),\n",
       " ('wilde', 4912),\n",
       " ('wilayah', 4911),\n",
       " ('wijilan', 4910),\n",
       " ('wijayandaru', 4909),\n",
       " ('widodo', 4908),\n",
       " ('wibawa', 4907),\n",
       " ('wib', 4906),\n",
       " ('wetan', 4905),\n",
       " ('westmaas', 4904),\n",
       " ('wening', 4903),\n",
       " ('welut', 4902),\n",
       " ('weltevreden', 4901),\n",
       " ('welter', 4900),\n",
       " ('wehrkreise', 4899),\n",
       " ('weekend', 4898),\n",
       " ('weekday', 4897),\n",
       " ('wedus', 4896),\n",
       " ('wediombo', 4895),\n",
       " ('wedhiamba', 4894),\n",
       " ('wedani', 4893),\n",
       " ('wc', 4892),\n",
       " ('wbu', 4891),\n",
       " ('wayang', 4890),\n",
       " ('wawas', 4889),\n",
       " ('watu', 4888),\n",
       " ('waterproof', 4887),\n",
       " ('waterpark', 4886),\n",
       " ('waterlooplein', 4885),\n",
       " ('waterloo', 4884),\n",
       " ('waterboom', 4883),\n",
       " ('waterbom', 4882),\n",
       " ('water', 4881),\n",
       " ('waspada', 4880),\n",
       " ('washington', 4879),\n",
       " ('wasan', 4878),\n",
       " ('warungboto', 4877),\n",
       " ('warung', 4876),\n",
       " ('warni', 4875),\n",
       " ('warnasari', 4874),\n",
       " ('warna', 4873),\n",
       " ('waris', 4872),\n",
       " ('warior', 4871),\n",
       " ('warga', 4870),\n",
       " ('waralaba', 4869),\n",
       " ('wanita', 4868),\n",
       " ('wangunharja', 4867),\n",
       " ('wangsit', 4866),\n",
       " ('wangsa', 4865),\n",
       " ('wana', 4864),\n",
       " ('wall', 4863),\n",
       " ('walk', 4862),\n",
       " ('walisongo', 4861),\n",
       " ('walikota', 4860),\n",
       " ('wali', 4859),\n",
       " ('walaupun', 4858),\n",
       " ('waktu', 4857),\n",
       " ('wakil', 4856),\n",
       " ('wajib', 4855),\n",
       " ('wajah', 4854),\n",
       " ('waisak', 4853),\n",
       " ('wahyu', 4852),\n",
       " ('wahid', 4851),\n",
       " ('wahana', 4850),\n",
       " ('wage', 4849),\n",
       " ('waduk', 4848),\n",
       " ('wader', 4847),\n",
       " ('wadah', 4846),\n",
       " ('vulkaniknya', 4845),\n",
       " ('vulkanik', 4844),\n",
       " ('vrouwe', 4843),\n",
       " ('vreden', 4842),\n",
       " ('vredeburg', 4841),\n",
       " ('von', 4840),\n",
       " ('voc', 4839),\n",
       " ('vl', 4838),\n",
       " ('vital', 4837),\n",
       " ('visual', 4836),\n",
       " ('visioner', 4835),\n",
       " ('visi', 4834),\n",
       " ('visa', 4833),\n",
       " ('viral', 4832),\n",
       " ('vip', 4831),\n",
       " ('vinck', 4830),\n",
       " ('village', 4829),\n",
       " ('villa', 4828),\n",
       " ('vijhoek', 4827),\n",
       " ('vii', 4826),\n",
       " ('view', 4825),\n",
       " ('video', 4824),\n",
       " ('veteran', 4823),\n",
       " ('vertikal', 4822),\n",
       " ('versi', 4821),\n",
       " ('vereeniging', 4820),\n",
       " ('vereenigde', 4819),\n",
       " ('venue', 4818),\n",
       " ('venezuela', 4817),\n",
       " ('vegetasi', 4816),\n",
       " ('varietas', 4815),\n",
       " ('variasi', 4814),\n",
       " ('varian', 4813),\n",
       " ('vans', 4812),\n",
       " ('vanda', 4811),\n",
       " ('van', 4810),\n",
       " ('uum', 4809),\n",
       " ('uu', 4808),\n",
       " ('utuk', 4807),\n",
       " ('utuh', 4806),\n",
       " ('utrecht', 4805),\n",
       " ('utomo', 4804),\n",
       " ('utc', 4803),\n",
       " ('utas', 4802),\n",
       " ('utara', 4801),\n",
       " ('utan', 4800),\n",
       " ('utama', 4799),\n",
       " ('usung', 4798),\n",
       " ('usul', 4797),\n",
       " ('usir', 4796),\n",
       " ('usia', 4795),\n",
       " ('usaha', 4794),\n",
       " ('urus', 4793),\n",
       " ('urban', 4792),\n",
       " ('uras', 4791),\n",
       " ('urap', 4790),\n",
       " ('uptd', 4789),\n",
       " ('upt', 4788),\n",
       " ('upside', 4787),\n",
       " ('upi', 4786),\n",
       " ('upaya', 4785),\n",
       " ('upacara', 4784),\n",
       " ('upa', 4783),\n",
       " ('untung', 4782),\n",
       " ('untun', 4781),\n",
       " ('untuk', 4780),\n",
       " ('unta', 4779),\n",
       " ('unsur', 4778),\n",
       " ('unjung', 4777),\n",
       " ('universitas', 4776),\n",
       " ('unit', 4775),\n",
       " ('union', 4774),\n",
       " ('unik', 4773),\n",
       " ('uni', 4772),\n",
       " ('ungkap', 4771),\n",
       " ('unggul', 4770),\n",
       " ('ungar', 4769),\n",
       " ('unesco', 4768),\n",
       " ('undur', 4767),\n",
       " ('underwater', 4766),\n",
       " ('undang', 4765),\n",
       " ('unda', 4764),\n",
       " ('umur', 4763),\n",
       " ('umum', 4762),\n",
       " ('umbulharjo', 4761),\n",
       " ('umbul', 4760),\n",
       " ('umat', 4759),\n",
       " ('umar', 4758),\n",
       " ('ullen', 4757),\n",
       " ('ull', 4756),\n",
       " ('ulating', 4755),\n",
       " ('ular', 4754),\n",
       " ('ulang', 4753),\n",
       " ('ulam', 4752),\n",
       " ('ukur', 4751),\n",
       " ('ukir', 4750),\n",
       " ('ujung', 4749),\n",
       " ('ugm', 4748),\n",
       " ('uduk', 4747),\n",
       " ('udjo', 4746),\n",
       " ('udara', 4745),\n",
       " ('udang', 4744),\n",
       " ('ubah', 4743),\n",
       " ('uap', 4742),\n",
       " ('uang', 4741),\n",
       " ('type', 4740),\n",
       " ('tvri', 4739),\n",
       " ('tutup', 4738),\n",
       " ('tusuk', 4737),\n",
       " ('tus', 4736),\n",
       " ('turut', 4735),\n",
       " ('turun', 4734),\n",
       " ('turki', 4733),\n",
       " ('turism', 4732),\n",
       " ('turis', 4731),\n",
       " ('tur', 4730),\n",
       " ('tuntun', 4729),\n",
       " ('tuntang', 4728),\n",
       " ('tunjung', 4727),\n",
       " ('tunjuk', 4726),\n",
       " ('tunjang', 4725),\n",
       " ('tunggul', 4724),\n",
       " ('tunggu', 4723),\n",
       " ('tunggang', 4722),\n",
       " ('tunggal', 4721),\n",
       " ('tung', 4720),\n",
       " ('tunda', 4719),\n",
       " ('tumpuk', 4718),\n",
       " ('tumpu', 4717),\n",
       " ('tumpas', 4716),\n",
       " ('tumpang', 4715),\n",
       " ('tumpah', 4714),\n",
       " ('tumbuh', 4713),\n",
       " ('tulis', 4712),\n",
       " ('tulip', 4711),\n",
       " ('tulang', 4710),\n",
       " ('tukar', 4709),\n",
       " ('tukang', 4708),\n",
       " ('tujuh', 4707),\n",
       " ('tuju', 4706),\n",
       " ('tuhan', 4705),\n",
       " ('tugu', 4704),\n",
       " ('tugas', 4703),\n",
       " ('tufa', 4702),\n",
       " ('tuduh', 4701),\n",
       " ('tubun', 4700),\n",
       " ('tubing', 4699),\n",
       " ('tuban', 4698),\n",
       " ('tuan', 4697),\n",
       " ('tualang', 4696),\n",
       " ('tuai', 4695),\n",
       " ('tua', 4694),\n",
       " ('tu', 4693),\n",
       " ('tsb', 4692),\n",
       " ('try', 4691),\n",
       " ('trs', 4690),\n",
       " ('trisuci', 4689),\n",
       " ('trisik', 4688),\n",
       " ('trip', 4687),\n",
       " ('trimurti', 4686),\n",
       " ('triliun', 4685),\n",
       " ('trikora', 4684),\n",
       " ('tridi', 4683),\n",
       " ('tridharma', 4682),\n",
       " ('trick', 4681),\n",
       " ('tri', 4680),\n",
       " ('trekking', 4679),\n",
       " ('trek', 4678),\n",
       " ('tree', 4677),\n",
       " ('traveler', 4676),\n",
       " ('travel', 4675),\n",
       " ('tratag', 4674),\n",
       " ('transportasi', 4673),\n",
       " ('translit', 4672),\n",
       " ('transformasi', 4671),\n",
       " ('transendental', 4670),\n",
       " ('trans', 4669),\n",
       " ('training', 4668),\n",
       " ('trail', 4667),\n",
       " ('tragedi', 4666),\n",
       " ('traffic', 4665),\n",
       " ('tradisional', 4664),\n",
       " ('tradisi', 4663),\n",
       " ('track', 4662),\n",
       " ('tpa', 4661),\n",
       " ('town', 4660),\n",
       " ('tower', 4659),\n",
       " ('total', 4658),\n",
       " ('tot', 4657),\n",
       " ('torpedo', 4656),\n",
       " ('toreh', 4655),\n",
       " ('topeng', 4654),\n",
       " ('topang', 4653),\n",
       " ('tonton', 4652),\n",
       " ('tonjol', 4651),\n",
       " ('tongkrong', 4650),\n",
       " ('tongkol', 4649),\n",
       " ('tongkat', 4648),\n",
       " ('ton', 4647),\n",
       " ('tolak', 4646),\n",
       " ('tol', 4645),\n",
       " ('tokoh', 4644),\n",
       " ('toko', 4643),\n",
       " ('toilet', 4642),\n",
       " ('toha', 4641),\n",
       " ('toge', 4640),\n",
       " ('tobat', 4639),\n",
       " ('toa', 4638),\n",
       " ('tni', 4637),\n",
       " ('tmii', 4636),\n",
       " ('tlogo', 4635),\n",
       " ('tkr', 4634),\n",
       " ('tk', 4633),\n",
       " ('tjokropanolo', 4632),\n",
       " ('tjen', 4631),\n",
       " ('tiup', 4630),\n",
       " ('titik', 4629),\n",
       " ('titi', 4628),\n",
       " ('tirto', 4627),\n",
       " ('tirai', 4626),\n",
       " ('tipu', 4625),\n",
       " ('tipis', 4624),\n",
       " ('tipe', 4623),\n",
       " ('tiongkok', 4622),\n",
       " ('tionghoa', 4621),\n",
       " ('tinjomoyo', 4620),\n",
       " ('tingkat', 4619),\n",
       " ('tingi', 4618),\n",
       " ('tinggi', 4617),\n",
       " ('tinggal', 4616),\n",
       " ('tindih', 4615),\n",
       " ('tindak', 4614),\n",
       " ('timur', 4613),\n",
       " ('timpa', 4612),\n",
       " ('timbul', 4611),\n",
       " ('timbang', 4610),\n",
       " ('timang', 4609),\n",
       " ('tim', 4608),\n",
       " ('tilu', 4607),\n",
       " ('tikung', 4606),\n",
       " ('tiket', 4605),\n",
       " ('tii', 4604),\n",
       " ('tiga', 4603),\n",
       " ('tien', 4602),\n",
       " ('tidur', 4601),\n",
       " ('tidung', 4600),\n",
       " ('tidak', 4599),\n",
       " ('tibur', 4598),\n",
       " ('tiberias', 4597),\n",
       " ('tiba', 4596),\n",
       " ('tiap', 4595),\n",
       " ('tiang', 4594),\n",
       " ('tian', 4593),\n",
       " ('tiada', 4592),\n",
       " ('ti', 4591),\n",
       " ('thr', 4590),\n",
       " ('thp', 4589),\n",
       " ('thompson', 4588),\n",
       " ('thomas', 4587),\n",
       " ('thn', 4586),\n",
       " ('thian', 4585),\n",
       " ('theme', 4584),\n",
       " ('theatre', 4583),\n",
       " ('the', 4582),\n",
       " ('thamrin', 4581),\n",
       " ('thailand', 4580),\n",
       " ('tewas', 4579),\n",
       " ('teuku', 4578),\n",
       " ('tetes', 4577),\n",
       " ('tetapi', 4576),\n",
       " ('tetap', 4575),\n",
       " ('tetangga', 4574),\n",
       " ('tetak', 4573),\n",
       " ('terus', 4572),\n",
       " ('tertutp', 4571),\n",
       " ('tersier', 4570),\n",
       " ('terpa', 4569),\n",
       " ('terowongan', 4568),\n",
       " ('teropong', 4567),\n",
       " ('terong', 4566),\n",
       " ('terobos', 4565),\n",
       " ('ternak', 4564),\n",
       " ('terna', 4563),\n",
       " ('terminal', 4562),\n",
       " ('terlalu', 4561),\n",
       " ('terkadang', 4560),\n",
       " ('terjun', 4559),\n",
       " ('terjerembab', 4558),\n",
       " ('terjemah', 4557),\n",
       " ('terjal', 4556),\n",
       " ('teritampa', 4555),\n",
       " ('terbit', 4554),\n",
       " ('terbing', 4553),\n",
       " ('terbang', 4552),\n",
       " ('terawang', 4551),\n",
       " ('teratai', 4550),\n",
       " ('terasering', 4549),\n",
       " ('teras', 4548),\n",
       " ('terapi', 4547),\n",
       " ('terap', 4546),\n",
       " ('terang', 4545),\n",
       " ('tepus', 4544),\n",
       " ('tepi', 4543),\n",
       " ('tepat', 4542),\n",
       " ('teori', 4541),\n",
       " ('tenun', 4540),\n",
       " ('tentu', 4539),\n",
       " ('tentara', 4538),\n",
       " ('tentang', 4537),\n",
       " ('tengkleng', 4536),\n",
       " ('tenggelam', 4535),\n",
       " ('tenggara', 4534),\n",
       " ('tengara', 4533),\n",
       " ('tengah', 4532),\n",
       " ('teng', 4531),\n",
       " ('tenda', 4530),\n",
       " ('tenar', 4529),\n",
       " ('tenang', 4528),\n",
       " ('tenaga', 4527),\n",
       " ('ten', 4526),\n",
       " ('temu', 4525),\n",
       " ('tempur', 4524),\n",
       " ('tempuh', 4523),\n",
       " ('tempo', 4522),\n",
       " ('templek', 4521),\n",
       " ('temple', 4520),\n",
       " ('temperatur', 4519),\n",
       " ('tempel', 4518),\n",
       " ('tempat', 4517),\n",
       " ('temoloyo', 4516),\n",
       " ('tembus', 4515),\n",
       " ('tembok', 4514),\n",
       " ('tembi', 4513),\n",
       " ('tembel', 4512),\n",
       " ('tembalang', 4511),\n",
       " ('tembakau', 4510),\n",
       " ('tembak', 4509),\n",
       " ('tematik', 4508),\n",
       " ('teman', 4507),\n",
       " ('tema', 4506),\n",
       " ('teluk', 4505),\n",
       " ('telor', 4504),\n",
       " ('telomoyo', 4503),\n",
       " ('teliti', 4502),\n",
       " ('telinga', 4501),\n",
       " ('televisi', 4500),\n",
       " ('teletubbies', 4499),\n",
       " ('telepon', 4498),\n",
       " ('telekomunikasi', 4497),\n",
       " ('telegraph', 4496),\n",
       " ('telegraf', 4495),\n",
       " ('telah', 4494),\n",
       " ('tel', 4493),\n",
       " ('tektona', 4492),\n",
       " ('tekstil', 4491),\n",
       " ('teknologi', 4490),\n",
       " ('teknis', 4489),\n",
       " ('teknik', 4488),\n",
       " ('teki', 4487),\n",
       " ('teka', 4486),\n",
       " ('tek', 4485),\n",
       " ('tejun', 4484),\n",
       " ('tehnologi', 4483),\n",
       " ('teh', 4482),\n",
       " ('tegas', 4481),\n",
       " ('tegang', 4480),\n",
       " ('tegallega', 4479),\n",
       " ('tee', 4478),\n",
       " ('teduh', 4477),\n",
       " ('tedapat', 4476),\n",
       " ('tech', 4475),\n",
       " ('tebu', 4474),\n",
       " ('tebing', 4473),\n",
       " ('tebet', 4472),\n",
       " ('tebal', 4471),\n",
       " ('teater', 4470),\n",
       " ('team', 4469),\n",
       " ('tea', 4468),\n",
       " ('te', 4467),\n",
       " ('tby', 4466),\n",
       " ('tbk', 4465),\n",
       " ('tbjb', 4464),\n",
       " ('tawar', 4463),\n",
       " ('tawan', 4462),\n",
       " ('tauhiid', 4461),\n",
       " ('tauhid', 4460),\n",
       " ('tataraning', 4459),\n",
       " ('tatar', 4458),\n",
       " ('tatanan', 4457),\n",
       " ('tatah', 4456),\n",
       " ('tata', 4455),\n",
       " ('tasikmalaya', 4454),\n",
       " ('tarik', 4453),\n",
       " ('tarif', 4452),\n",
       " ('tari', 4451),\n",
       " ('target', 4450),\n",
       " ('tara', 4449),\n",
       " ('tar', 4448),\n",
       " ('tapi', 4447),\n",
       " ('tapa', 4446),\n",
       " ('tanya', 4445),\n",
       " ('tantular', 4444),\n",
       " ('tantang', 4443),\n",
       " ('tanpa', 4442),\n",
       " ('tank', 4441),\n",
       " ('tanjungsari', 4440),\n",
       " ('tanjung', 4439),\n",
       " ('tanjidor', 4438),\n",
       " ('tanjak', 4437),\n",
       " ('tani', 4436),\n",
       " ('tangkuban', 4435),\n",
       " ('tangkis', 4434),\n",
       " ('tangki', 4433),\n",
       " ('tangkar', 4432),\n",
       " ('tangkap', 4431),\n",
       " ('tanggung', 4430),\n",
       " ('tanggan', 4429),\n",
       " ('tanggal', 4428),\n",
       " ('tangga', 4427),\n",
       " ('tangerang', 4426),\n",
       " ('tangan', 4425),\n",
       " ('tangah', 4424),\n",
       " ('tang', 4423),\n",
       " ('tandus', 4422),\n",
       " ('tanduk', 4421),\n",
       " ('tandu', 4420),\n",
       " ('tandjoeng', 4419),\n",
       " ('tandes', 4418),\n",
       " ('tanda', 4417),\n",
       " ('tanam', 4416),\n",
       " ('tanah', 4415),\n",
       " ('tan', 4414),\n",
       " ('tamu', 4413),\n",
       " ('tampung', 4412),\n",
       " ('tampil', 4411),\n",
       " ('tampak', 4410),\n",
       " ('tambang', 4409),\n",
       " ('tambal', 4408),\n",
       " ('tambaksari', 4407),\n",
       " ('tambakboyo', 4406),\n",
       " ('tambak', 4405),\n",
       " ('tambah', 4404),\n",
       " ('tamansari', 4403),\n",
       " ('taman', 4402),\n",
       " ('tali', 4401),\n",
       " ('takut', 4400),\n",
       " ('takjub', 4399),\n",
       " ('takeshi', 4398),\n",
       " ('tak', 4397),\n",
       " ('tajam', 4396),\n",
       " ('taiwan', 4395),\n",
       " ('tailor', 4394),\n",
       " ('tahura', 4393),\n",
       " ('tahun', 4392),\n",
       " ('tahu', 4391),\n",
       " ('tahta', 4390),\n",
       " ('tahap', 4389),\n",
       " ('tahan', 4388),\n",
       " ('tafso', 4387),\n",
       " ('tadi', 4386),\n",
       " ('tabur', 4385),\n",
       " ('tabanas', 4384),\n",
       " ('taban', 4383),\n",
       " ('syuting', 4382),\n",
       " ('syuro', 4381),\n",
       " ('syukur', 4380),\n",
       " ('syarat', 4379),\n",
       " ('syailendra', 4378),\n",
       " ('syahdu', 4377),\n",
       " ('swasta', 4376),\n",
       " ('swafoto', 4375),\n",
       " ('suvenir', 4374),\n",
       " ('suturejo', 4373),\n",
       " ('sutrisno', 4372),\n",
       " ('sutra', 4371),\n",
       " ('sutiyoso', 4370),\n",
       " ('susur', 4369),\n",
       " ('susun', 4368),\n",
       " ('susu', 4367),\n",
       " ('susilo', 4366),\n",
       " ('susah', 4365),\n",
       " ('suryani', 4364),\n",
       " ('surya', 4363),\n",
       " ('surut', 4362),\n",
       " ('suropati', 4361),\n",
       " ('suroboyo', 4360),\n",
       " ('suro', 4359),\n",
       " ('surga', 4358),\n",
       " ('surat', 4357),\n",
       " ('suramadu', 4356),\n",
       " ('surakarta', 4355),\n",
       " ('surabaya', 4354),\n",
       " ('sura', 4353),\n",
       " ('suprapto', 4352),\n",
       " ('superhero', 4351),\n",
       " ('sup', 4350),\n",
       " ('sunset', 4349),\n",
       " ('sunrise', 4348),\n",
       " ('sungguh', 4347),\n",
       " ('sungai', 4346),\n",
       " ('sunga', 4345),\n",
       " ('sundial', 4344),\n",
       " ('sundak', 4343),\n",
       " ('sunda', 4342),\n",
       " ('sunat', 4341),\n",
       " ('sunaryo', 4340),\n",
       " ('sunan', 4339),\n",
       " ('sumurbandung', 4338),\n",
       " ('sumur', 4337),\n",
       " ('sumpah', 4336),\n",
       " ('sumiati', 4335),\n",
       " ('sumenep', 4334),\n",
       " ('sumedang', 4333),\n",
       " ('sumbu', 4332),\n",
       " ('sumbing', 4331),\n",
       " ('sumberharjo', 4330),\n",
       " ('sumber', 4329),\n",
       " ('sumbang', 4328),\n",
       " ('sulung', 4327),\n",
       " ('sultan', 4326),\n",
       " ('sulit', 4325),\n",
       " ('sulfur', 4324),\n",
       " ('sulawesi', 4323),\n",
       " ('sulap', 4322),\n",
       " ('suku', 4321),\n",
       " ('sukses', 4320),\n",
       " ('sukolilo', 4319),\n",
       " ('sukarno', 4318),\n",
       " ('sukarasa', 4317),\n",
       " ('suka', 4316),\n",
       " ('suhu', 4315),\n",
       " ('suguh', 4314),\n",
       " ('sudut', 4313),\n",
       " ('sudirman', 4312),\n",
       " ('sudibyo', 4311),\n",
       " ('sudah', 4310),\n",
       " ('suci', 4309),\n",
       " ('subur', 4308),\n",
       " ('subroto', 4307),\n",
       " ('subang', 4306),\n",
       " ('sub', 4305),\n",
       " ('suatu', 4304),\n",
       " ('suasanan', 4303),\n",
       " ('suasana', 4302),\n",
       " ('suara', 4301),\n",
       " ('suaka', 4300),\n",
       " ('stupa', 4299),\n",
       " ('stukturnya', 4298),\n",
       " ('studio', 4297),\n",
       " ('struktur', 4296),\n",
       " ('stres', 4295),\n",
       " ('street', 4294),\n",
       " ('stratovulcano', 4293),\n",
       " ('stratovolcano', 4292),\n",
       " ('strato', 4291),\n",
       " ('strategis', 4290),\n",
       " ('straat', 4289),\n",
       " ('stovia', 4288),\n",
       " ('stone', 4287),\n",
       " ('stok', 4286),\n",
       " ('stirum', 4285),\n",
       " ('stijl', 4284),\n",
       " ('sterrenwacht', 4283),\n",
       " ('sterrenkundige', 4282),\n",
       " ('stedelijk', 4281),\n",
       " ('stay', 4280),\n",
       " ('status', 4279),\n",
       " ('statik', 4278),\n",
       " ('stasiun', 4277),\n",
       " ('starhill', 4276),\n",
       " ('standing', 4275),\n",
       " ('standar', 4274),\n",
       " ('stand', 4273),\n",
       " ('stamford', 4272),\n",
       " ('stalls', 4271),\n",
       " ('stagen', 4270),\n",
       " ('staf', 4269),\n",
       " ('stadion', 4268),\n",
       " ('stadhuis', 4267),\n",
       " ('st', 4266),\n",
       " ('ssas', 4265),\n",
       " ('srunggo', 4264),\n",
       " ('sriwijaya', 4263),\n",
       " ('srigunting', 4262),\n",
       " ('srigading', 4261),\n",
       " ('sri', 4260),\n",
       " ('srengseng', 4259),\n",
       " ('spring', 4258),\n",
       " ('spotnya', 4257),\n",
       " ('spot', 4256),\n",
       " ('spiritualitas', 4255),\n",
       " ('spiritual', 4254),\n",
       " ('spesimen', 4253),\n",
       " ('spesifik', 4252),\n",
       " ('spesies', 4251),\n",
       " ('spesial', 4250),\n",
       " ('spektakuler', 4249),\n",
       " ('speedboat', 4248),\n",
       " ('spbu', 4247),\n",
       " ('spathodea', 4246),\n",
       " ('sparkling', 4245),\n",
       " ('spanyol', 4244),\n",
       " ('space', 4243),\n",
       " ('soviet', 4242),\n",
       " ('souvenir', 4241),\n",
       " ('soto', 4240),\n",
       " ('sosrowijayan', 4239),\n",
       " ('sosromenduran', 4238),\n",
       " ('sosok', 4237),\n",
       " ('sosmed', 4236),\n",
       " ('sosial', 4235),\n",
       " ('sorot', 4234),\n",
       " ('sorga', 4233),\n",
       " ('soreang', 4232),\n",
       " ('sore', 4231),\n",
       " ('sonobudoyo', 4230),\n",
       " ('songo', 4229),\n",
       " ('songgo', 4228),\n",
       " ('solusi', 4227),\n",
       " ('solo', 4226),\n",
       " ('soft', 4225),\n",
       " ('soesilo', 4224),\n",
       " ('soerabaia', 4223),\n",
       " ('soeprapto', 4222),\n",
       " ('soenarto', 4221),\n",
       " ('soemowidigdo', 4220),\n",
       " ('soemoprawiro', 4219),\n",
       " ('soekarnoputri', 4218),\n",
       " ('soekarno', 4217),\n",
       " ('soeharto', 4216),\n",
       " ('soedjatmoko', 4215),\n",
       " ('soedirman', 4214),\n",
       " ('soedarman', 4213),\n",
       " ('soebadio', 4212),\n",
       " ('social', 4211),\n",
       " ('sobat', 4210),\n",
       " ('sob', 4209),\n",
       " ('snow', 4208),\n",
       " ('snorkeling', 4207),\n",
       " ('smg', 4206),\n",
       " ('smart', 4205),\n",
       " ('sma', 4204),\n",
       " ('slors', 4203),\n",
       " ('slider', 4202),\n",
       " ('slempret', 4201),\n",
       " ('sleman', 4200),\n",
       " ('slamet', 4199),\n",
       " ('skywalk', 4198),\n",
       " ('sky', 4197),\n",
       " ('skeber', 4196),\n",
       " ('ske', 4195),\n",
       " ('skating', 4194),\n",
       " ('skala', 4193),\n",
       " ('sk', 4192),\n",
       " ('sjahrial', 4191),\n",
       " ('siwarak', 4190),\n",
       " ('siwagrha', 4189),\n",
       " ('siwa', 4188),\n",
       " ('siung', 4187),\n",
       " ('situwangi', 4186),\n",
       " ('situs', 4185),\n",
       " ('situasi', 4184),\n",
       " ('situ', 4183),\n",
       " ('sita', 4182),\n",
       " ('siswa', 4181),\n",
       " ('sister', 4180),\n",
       " ('sisik', 4179),\n",
       " ('sisih', 4178),\n",
       " ('sisi', 4177),\n",
       " ('sisa', 4176),\n",
       " ('sirsak', 4175),\n",
       " ('sirkus', 4174),\n",
       " ('sirkaya', 4173),\n",
       " ('sirih', 4172),\n",
       " ('sirat', 4171),\n",
       " ('sirap', 4170),\n",
       " ('sir', 4169),\n",
       " ('sion', 4168),\n",
       " ('siola', 4167),\n",
       " ('sinu', 4166),\n",
       " ('sinode', 4165),\n",
       " ('sinkhole', 4164),\n",
       " ('sini', 4163),\n",
       " ('singkat', 4162),\n",
       " ('singgung', 4161),\n",
       " ('singgah', 4160),\n",
       " ('singapura', 4159),\n",
       " ('singapore', 4158),\n",
       " ('singa', 4157),\n",
       " ('sindu', 4156),\n",
       " ('sindoro', 4155),\n",
       " ('sinar', 4154),\n",
       " ('simulasi', 4153),\n",
       " ('simpanse', 4152),\n",
       " ('simpang', 4151),\n",
       " ('simpan', 4150),\n",
       " ('simongan', 4149),\n",
       " ('simetris', 4148),\n",
       " ('simbolis', 4147),\n",
       " ('simbol', 4146),\n",
       " ('simbar', 4145),\n",
       " ('siliwangi', 4144),\n",
       " ('silandak', 4143),\n",
       " ('silam', 4142),\n",
       " ('silaban', 4141),\n",
       " ('sila', 4140),\n",
       " ('sikap', 4139),\n",
       " ('sih', 4138),\n",
       " ('sifat', 4137),\n",
       " ('sien', 4136),\n",
       " ('sidomulyo', 4135),\n",
       " ('sidomukti', 4134),\n",
       " ('sidoarjo', 4133),\n",
       " ('sidang', 4132),\n",
       " ('sibuk', 4131),\n",
       " ('siar', 4130),\n",
       " ('siapa', 4129),\n",
       " ('siap', 4128),\n",
       " ('siang', 4127),\n",
       " ('si', 4126),\n",
       " ('shopping', 4125),\n",
       " ('shooting', 4124),\n",
       " ('shirley', 4123),\n",
       " ('shi', 4122),\n",
       " ('sherina', 4121),\n",
       " ('shang', 4120),\n",
       " ('shalat', 4119),\n",
       " ('sewu', 4118),\n",
       " ('sewa', 4117),\n",
       " ('setu', 4116),\n",
       " ('setiya', 4115),\n",
       " ('setinggi', 4114),\n",
       " ('sete', 4113),\n",
       " ('setapak', 4112),\n",
       " ('sesuai', 4111),\n",
       " ('sespuh', 4110),\n",
       " ('sesneg', 4109),\n",
       " ('sesat', 4108),\n",
       " ('servis', 4107),\n",
       " ('seruni', 4106),\n",
       " ('seru', 4105),\n",
       " ('serta', 4104),\n",
       " ('sero', 4103),\n",
       " ('sermo', 4102),\n",
       " ('seringkali', 4101),\n",
       " ('sering', 4100),\n",
       " ('serikat', 4099),\n",
       " ('serbaguna', 4098),\n",
       " ('serba', 4097),\n",
       " ('serasa', 4096),\n",
       " ('serap', 4095),\n",
       " ('serang', 4094),\n",
       " ('serambi', 4093),\n",
       " ('serah', 4092),\n",
       " ('seragam', 4091),\n",
       " ('sepuh', 4090),\n",
       " ('september', 4089),\n",
       " ('seprti', 4088),\n",
       " ('sepi', 4087),\n",
       " ('seperti', 4086),\n",
       " ('sepenuh', 4085),\n",
       " ('sepeda', 4084),\n",
       " ('sepatu', 4083),\n",
       " ('separatis', 4082),\n",
       " ('seoul', 4081),\n",
       " ('seol', 4080),\n",
       " ('sentuh', 4079),\n",
       " ('sentral', 4078),\n",
       " ('sentra', 4077),\n",
       " ('sentir', 4076),\n",
       " ('sentalu', 4075),\n",
       " ('sensasi', 4074),\n",
       " ('senopati', 4073),\n",
       " ('senjata', 4072),\n",
       " ('senja', 4071),\n",
       " ('senior', 4070),\n",
       " ('senin', 4069),\n",
       " ('seniman', 4068),\n",
       " ('seni', 4067),\n",
       " ('sengketa', 4066),\n",
       " ('sengaja', 4065),\n",
       " ('senen', 4064),\n",
       " ('sendiri', 4063),\n",
       " ('sendangsari', 4062),\n",
       " ('sendang', 4061),\n",
       " ('senantiasa', 4060),\n",
       " ('senang', 4059),\n",
       " ('semua', 4058),\n",
       " ('sempurna', 4057),\n",
       " ('sempura', 4056),\n",
       " ('sempit', 4055),\n",
       " ('sempat', 4054),\n",
       " ('semirang', 4053),\n",
       " ('seminar', 4052),\n",
       " ('semi', 4051),\n",
       " ('semesta', 4050),\n",
       " ('semen', 4049),\n",
       " ('semburanapi', 4048),\n",
       " ('sembur', 4047),\n",
       " ('sembunyi', 4046),\n",
       " ('sembuh', 4045),\n",
       " ('semboyan', 4044),\n",
       " ('sembilan', 4043),\n",
       " ('sembari', 4042),\n",
       " ('sembako', 4041),\n",
       " ('sembahyang', 4040),\n",
       " ('sembah', 4039),\n",
       " ('semayam', 4038),\n",
       " ('semarang', 4037),\n",
       " ('semangat', 4036),\n",
       " ('semak', 4035),\n",
       " ('selusur', 4034),\n",
       " ('seluruh', 4033),\n",
       " ('seluncur', 4032),\n",
       " ('selopamioro', 4031),\n",
       " ('selfie', 4030),\n",
       " ('selesai', 4029),\n",
       " ('selera', 4028),\n",
       " ('selenggara', 4027),\n",
       " ('selendang', 4026),\n",
       " ('selebgram', 4025),\n",
       " ('selatan', 4024),\n",
       " ('selasar', 4023),\n",
       " ('selasa', 4022),\n",
       " ('selaras', 4021),\n",
       " ('selancar', 4020),\n",
       " ('selamat', 4019),\n",
       " ('selam', 4018),\n",
       " ('selalu', 4017),\n",
       " ('selaku', 4016),\n",
       " ('selain', 4015),\n",
       " ('sela', 4014),\n",
       " ('sekutu', 4013),\n",
       " ('sekunder', 4012),\n",
       " ('sekunar', 4011),\n",
       " ('sektor', 4010),\n",
       " ('seksi', 4009),\n",
       " ('sekretaris', 4008),\n",
       " ('sekolah', 4007),\n",
       " ('sekitar', 4006),\n",
       " ('sekira', 4005),\n",
       " ('sekian', 4004),\n",
       " ('sekertariat', 4003),\n",
       " ('sekeloa', 4002),\n",
       " ('sekarang', 4001),\n",
       " ('sekaligus', 4000),\n",
       " ('sekali', 3999),\n",
       " ('sekadar', 3998),\n",
       " ('sejuk', 3997),\n",
       " ('sejatine', 3996),\n",
       " ('sejati', 3995),\n",
       " ('sejarah', 3994),\n",
       " ('sejak', 3993),\n",
       " ('sejahtera', 3992),\n",
       " ('sehingga', 3991),\n",
       " ('sehat', 3990),\n",
       " ('segoro', 3989),\n",
       " ('sego', 3988),\n",
       " ('segitiga', 3987),\n",
       " ('segi', 3986),\n",
       " ('segera', 3985),\n",
       " ('segar', 3984),\n",
       " ('segala', 3983),\n",
       " ('seeng', 3982),\n",
       " ('sedikit', 3981),\n",
       " ('sedia', 3980),\n",
       " ('sederhana', 3979),\n",
       " ('sedekah', 3978),\n",
       " ('sedang', 3977),\n",
       " ('sedahan', 3976),\n",
       " ('secaara', 3975),\n",
       " ('sebut', 3974),\n",
       " ('seberang', 3973),\n",
       " ('sebar', 3972),\n",
       " ('sebab', 3971),\n",
       " ('seaworld', 3970),\n",
       " ('seaside', 3969),\n",
       " ('se', 3968),\n",
       " ('sculpture', 3967),\n",
       " ('school', 3966),\n",
       " ('schoemaker', 3965),\n",
       " ('schmidt', 3964),\n",
       " ('sayur', 3963),\n",
       " ('sayap', 3962),\n",
       " ...]"
      ]
     },
     "execution_count": 40,
     "metadata": {},
     "output_type": "execute_result"
    }
   ],
   "source": [
    "sorted(tv.vocabulary_.items(),key=lambda x: x[1],reverse=True)"
   ]
  },
  {
   "cell_type": "markdown",
   "metadata": {},
   "source": [
    "membuat cosine smiliarity untuk melihat kemiripan antar item"
   ]
  },
  {
   "cell_type": "code",
   "execution_count": 41,
   "metadata": {},
   "outputs": [
    {
     "data": {
      "text/plain": [
       "array([0.04510993, 0.07188361, 0.02807929, 0.00479488, 0.01497397,\n",
       "       0.02458836, 0.00394491, 0.01975822, 0.01633207])"
      ]
     },
     "execution_count": 41,
     "metadata": {},
     "output_type": "execute_result"
    }
   ],
   "source": [
    "similarity = cosine_similarity(vectors)\n",
    "similarity[0][1:10]"
   ]
  },
  {
   "cell_type": "markdown",
   "metadata": {},
   "source": [
    "membuat function untuk rekomendasi "
   ]
  },
  {
   "cell_type": "code",
   "execution_count": 42,
   "metadata": {},
   "outputs": [],
   "source": [
    "def recommend_by_content_based_filtering(nama_tempat):\n",
    "    nama_tempat_index = data_content_based_filtering[data_content_based_filtering['Place_Name']==nama_tempat].index[0]\n",
    "    distancess = similarity[nama_tempat_index]\n",
    "    nama_tempat_list = sorted(list(enumerate(distancess)),key=lambda x: x[1],reverse=True)[1:10]\n",
    "    \n",
    "    recommended_nama_tempats = []\n",
    "    for i in nama_tempat_list:\n",
    "        recommended_nama_tempats.append([data_content_based_filtering.iloc[i[0]].Place_Name]+[i[1]])\n",
    "        # print(nama_tempats.iloc[i[0]].original_title)\n",
    "        \n",
    "    return recommended_nama_tempats"
   ]
  },
  {
   "cell_type": "markdown",
   "metadata": {},
   "source": [
    "Hasil 10 tempat yang serupa dengan Dunia Fantasi\t"
   ]
  },
  {
   "cell_type": "code",
   "execution_count": 43,
   "metadata": {},
   "outputs": [
    {
     "data": {
      "text/plain": [
       "[['Monumen Bandung Lautan Api', 0.28683907306335177],\n",
       " ['Monumen Selamat Datang', 0.2661577967639709],\n",
       " ['Monumen Perjuangan Rakyat Jawa Barat', 0.25729692362006246],\n",
       " ['Tugu Muda Semarang', 0.22491138935052768],\n",
       " ['Monumen Bambu Runcing Surabaya', 0.20482652874129093],\n",
       " ['Monumen Tugu Pahlawan', 0.18791275217429565],\n",
       " ['Monumen Sanapati', 0.1795335499410377],\n",
       " ['Monumen Yogya Kembali', 0.17871073001225599],\n",
       " ['Monumen Palagan Ambarawa', 0.16871094841229334]]"
      ]
     },
     "execution_count": 43,
     "metadata": {},
     "output_type": "execute_result"
    }
   ],
   "source": [
    "recommend_by_content_based_filtering('Monumen Nasional')"
   ]
  },
  {
   "cell_type": "markdown",
   "metadata": {},
   "source": [
    "#### Modeling with Collaborative Filtering"
   ]
  },
  {
   "cell_type": "markdown",
   "metadata": {},
   "source": [
    "melakukan import library yang digunakan untuk membuat model collaborative filtering"
   ]
  },
  {
   "cell_type": "code",
   "execution_count": 44,
   "metadata": {},
   "outputs": [],
   "source": [
    "import pandas as pd\n",
    "import numpy as np \n",
    "from zipfile import ZipFile\n",
    "import tensorflow as tf\n",
    "from tensorflow import keras\n",
    "from tensorflow.keras import layers\n",
    "from pathlib import Path\n",
    "import matplotlib.pyplot as plt"
   ]
  },
  {
   "cell_type": "markdown",
   "metadata": {},
   "source": [
    "membuat dataset baru"
   ]
  },
  {
   "cell_type": "code",
   "execution_count": 45,
   "metadata": {},
   "outputs": [
    {
     "data": {
      "text/html": [
       "<div>\n",
       "<style scoped>\n",
       "    .dataframe tbody tr th:only-of-type {\n",
       "        vertical-align: middle;\n",
       "    }\n",
       "\n",
       "    .dataframe tbody tr th {\n",
       "        vertical-align: top;\n",
       "    }\n",
       "\n",
       "    .dataframe thead th {\n",
       "        text-align: right;\n",
       "    }\n",
       "</style>\n",
       "<table border=\"1\" class=\"dataframe\">\n",
       "  <thead>\n",
       "    <tr style=\"text-align: right;\">\n",
       "      <th></th>\n",
       "      <th>User_Id</th>\n",
       "      <th>Place_Id</th>\n",
       "      <th>Place_Ratings</th>\n",
       "    </tr>\n",
       "  </thead>\n",
       "  <tbody>\n",
       "    <tr>\n",
       "      <th>0</th>\n",
       "      <td>1</td>\n",
       "      <td>179</td>\n",
       "      <td>3</td>\n",
       "    </tr>\n",
       "    <tr>\n",
       "      <th>1</th>\n",
       "      <td>1</td>\n",
       "      <td>344</td>\n",
       "      <td>2</td>\n",
       "    </tr>\n",
       "    <tr>\n",
       "      <th>2</th>\n",
       "      <td>1</td>\n",
       "      <td>5</td>\n",
       "      <td>5</td>\n",
       "    </tr>\n",
       "    <tr>\n",
       "      <th>3</th>\n",
       "      <td>1</td>\n",
       "      <td>373</td>\n",
       "      <td>3</td>\n",
       "    </tr>\n",
       "    <tr>\n",
       "      <th>4</th>\n",
       "      <td>1</td>\n",
       "      <td>101</td>\n",
       "      <td>4</td>\n",
       "    </tr>\n",
       "    <tr>\n",
       "      <th>...</th>\n",
       "      <td>...</td>\n",
       "      <td>...</td>\n",
       "      <td>...</td>\n",
       "    </tr>\n",
       "    <tr>\n",
       "      <th>9995</th>\n",
       "      <td>300</td>\n",
       "      <td>425</td>\n",
       "      <td>2</td>\n",
       "    </tr>\n",
       "    <tr>\n",
       "      <th>9996</th>\n",
       "      <td>300</td>\n",
       "      <td>64</td>\n",
       "      <td>4</td>\n",
       "    </tr>\n",
       "    <tr>\n",
       "      <th>9997</th>\n",
       "      <td>300</td>\n",
       "      <td>311</td>\n",
       "      <td>3</td>\n",
       "    </tr>\n",
       "    <tr>\n",
       "      <th>9998</th>\n",
       "      <td>300</td>\n",
       "      <td>279</td>\n",
       "      <td>4</td>\n",
       "    </tr>\n",
       "    <tr>\n",
       "      <th>9999</th>\n",
       "      <td>300</td>\n",
       "      <td>163</td>\n",
       "      <td>2</td>\n",
       "    </tr>\n",
       "  </tbody>\n",
       "</table>\n",
       "<p>10000 rows × 3 columns</p>\n",
       "</div>"
      ],
      "text/plain": [
       "      User_Id  Place_Id  Place_Ratings\n",
       "0           1       179              3\n",
       "1           1       344              2\n",
       "2           1         5              5\n",
       "3           1       373              3\n",
       "4           1       101              4\n",
       "...       ...       ...            ...\n",
       "9995      300       425              2\n",
       "9996      300        64              4\n",
       "9997      300       311              3\n",
       "9998      300       279              4\n",
       "9999      300       163              2\n",
       "\n",
       "[10000 rows x 3 columns]"
      ]
     },
     "execution_count": 45,
     "metadata": {},
     "output_type": "execute_result"
    }
   ],
   "source": [
    "data_collaborative_filtering = data_tourism_rating.copy()\n",
    "data_collaborative_filtering"
   ]
  },
  {
   "cell_type": "markdown",
   "metadata": {},
   "source": [
    "mengubah userID menjadi list dan membuat variabel untuk melakukan encode serta decode"
   ]
  },
  {
   "cell_type": "code",
   "execution_count": 46,
   "metadata": {},
   "outputs": [
    {
     "name": "stdout",
     "output_type": "stream",
     "text": [
      "list userID:  [1, 2, 3, 4, 5, 6, 7, 8, 9, 10, 11, 12, 13, 14, 15, 16, 17, 18, 19, 20, 21, 22, 23, 24, 25, 26, 27, 28, 29, 30, 31, 32, 33, 34, 35, 36, 37, 38, 39, 40, 41, 42, 43, 44, 45, 46, 47, 48, 49, 50, 51, 52, 53, 54, 55, 56, 57, 58, 59, 60, 61, 62, 63, 64, 65, 66, 67, 68, 69, 70, 71, 72, 73, 74, 75, 76, 77, 78, 79, 80, 81, 82, 83, 84, 85, 86, 87, 88, 89, 90, 91, 92, 93, 94, 95, 96, 97, 98, 99, 100, 101, 102, 103, 104, 105, 106, 107, 108, 109, 110, 111, 112, 113, 114, 115, 116, 117, 118, 119, 120, 121, 122, 123, 124, 125, 126, 127, 128, 129, 130, 131, 132, 133, 134, 135, 136, 137, 138, 139, 140, 141, 142, 143, 144, 145, 146, 147, 148, 149, 150, 151, 152, 153, 154, 155, 156, 157, 158, 159, 160, 161, 162, 163, 164, 165, 166, 167, 168, 169, 170, 171, 172, 173, 174, 175, 176, 177, 178, 179, 180, 181, 182, 183, 184, 185, 186, 187, 188, 189, 190, 191, 192, 193, 194, 195, 196, 197, 198, 199, 200, 201, 202, 203, 204, 205, 206, 207, 208, 209, 210, 211, 212, 213, 214, 215, 216, 217, 218, 219, 220, 221, 222, 223, 224, 225, 226, 227, 228, 229, 230, 231, 232, 233, 234, 235, 236, 237, 238, 239, 240, 241, 242, 243, 244, 245, 246, 247, 248, 249, 250, 251, 252, 253, 254, 255, 256, 257, 258, 259, 260, 261, 262, 263, 264, 265, 266, 267, 268, 269, 270, 271, 272, 273, 274, 275, 276, 277, 278, 279, 280, 281, 282, 283, 284, 285, 286, 287, 288, 289, 290, 291, 292, 293, 294, 295, 296, 297, 298, 299, 300]\n",
      "encoded userID :  {1: 0, 2: 1, 3: 2, 4: 3, 5: 4, 6: 5, 7: 6, 8: 7, 9: 8, 10: 9, 11: 10, 12: 11, 13: 12, 14: 13, 15: 14, 16: 15, 17: 16, 18: 17, 19: 18, 20: 19, 21: 20, 22: 21, 23: 22, 24: 23, 25: 24, 26: 25, 27: 26, 28: 27, 29: 28, 30: 29, 31: 30, 32: 31, 33: 32, 34: 33, 35: 34, 36: 35, 37: 36, 38: 37, 39: 38, 40: 39, 41: 40, 42: 41, 43: 42, 44: 43, 45: 44, 46: 45, 47: 46, 48: 47, 49: 48, 50: 49, 51: 50, 52: 51, 53: 52, 54: 53, 55: 54, 56: 55, 57: 56, 58: 57, 59: 58, 60: 59, 61: 60, 62: 61, 63: 62, 64: 63, 65: 64, 66: 65, 67: 66, 68: 67, 69: 68, 70: 69, 71: 70, 72: 71, 73: 72, 74: 73, 75: 74, 76: 75, 77: 76, 78: 77, 79: 78, 80: 79, 81: 80, 82: 81, 83: 82, 84: 83, 85: 84, 86: 85, 87: 86, 88: 87, 89: 88, 90: 89, 91: 90, 92: 91, 93: 92, 94: 93, 95: 94, 96: 95, 97: 96, 98: 97, 99: 98, 100: 99, 101: 100, 102: 101, 103: 102, 104: 103, 105: 104, 106: 105, 107: 106, 108: 107, 109: 108, 110: 109, 111: 110, 112: 111, 113: 112, 114: 113, 115: 114, 116: 115, 117: 116, 118: 117, 119: 118, 120: 119, 121: 120, 122: 121, 123: 122, 124: 123, 125: 124, 126: 125, 127: 126, 128: 127, 129: 128, 130: 129, 131: 130, 132: 131, 133: 132, 134: 133, 135: 134, 136: 135, 137: 136, 138: 137, 139: 138, 140: 139, 141: 140, 142: 141, 143: 142, 144: 143, 145: 144, 146: 145, 147: 146, 148: 147, 149: 148, 150: 149, 151: 150, 152: 151, 153: 152, 154: 153, 155: 154, 156: 155, 157: 156, 158: 157, 159: 158, 160: 159, 161: 160, 162: 161, 163: 162, 164: 163, 165: 164, 166: 165, 167: 166, 168: 167, 169: 168, 170: 169, 171: 170, 172: 171, 173: 172, 174: 173, 175: 174, 176: 175, 177: 176, 178: 177, 179: 178, 180: 179, 181: 180, 182: 181, 183: 182, 184: 183, 185: 184, 186: 185, 187: 186, 188: 187, 189: 188, 190: 189, 191: 190, 192: 191, 193: 192, 194: 193, 195: 194, 196: 195, 197: 196, 198: 197, 199: 198, 200: 199, 201: 200, 202: 201, 203: 202, 204: 203, 205: 204, 206: 205, 207: 206, 208: 207, 209: 208, 210: 209, 211: 210, 212: 211, 213: 212, 214: 213, 215: 214, 216: 215, 217: 216, 218: 217, 219: 218, 220: 219, 221: 220, 222: 221, 223: 222, 224: 223, 225: 224, 226: 225, 227: 226, 228: 227, 229: 228, 230: 229, 231: 230, 232: 231, 233: 232, 234: 233, 235: 234, 236: 235, 237: 236, 238: 237, 239: 238, 240: 239, 241: 240, 242: 241, 243: 242, 244: 243, 245: 244, 246: 245, 247: 246, 248: 247, 249: 248, 250: 249, 251: 250, 252: 251, 253: 252, 254: 253, 255: 254, 256: 255, 257: 256, 258: 257, 259: 258, 260: 259, 261: 260, 262: 261, 263: 262, 264: 263, 265: 264, 266: 265, 267: 266, 268: 267, 269: 268, 270: 269, 271: 270, 272: 271, 273: 272, 274: 273, 275: 274, 276: 275, 277: 276, 278: 277, 279: 278, 280: 279, 281: 280, 282: 281, 283: 282, 284: 283, 285: 284, 286: 285, 287: 286, 288: 287, 289: 288, 290: 289, 291: 290, 292: 291, 293: 292, 294: 293, 295: 294, 296: 295, 297: 296, 298: 297, 299: 298, 300: 299}\n",
      "encoded angka ke userID:  {0: 1, 1: 2, 2: 3, 3: 4, 4: 5, 5: 6, 6: 7, 7: 8, 8: 9, 9: 10, 10: 11, 11: 12, 12: 13, 13: 14, 14: 15, 15: 16, 16: 17, 17: 18, 18: 19, 19: 20, 20: 21, 21: 22, 22: 23, 23: 24, 24: 25, 25: 26, 26: 27, 27: 28, 28: 29, 29: 30, 30: 31, 31: 32, 32: 33, 33: 34, 34: 35, 35: 36, 36: 37, 37: 38, 38: 39, 39: 40, 40: 41, 41: 42, 42: 43, 43: 44, 44: 45, 45: 46, 46: 47, 47: 48, 48: 49, 49: 50, 50: 51, 51: 52, 52: 53, 53: 54, 54: 55, 55: 56, 56: 57, 57: 58, 58: 59, 59: 60, 60: 61, 61: 62, 62: 63, 63: 64, 64: 65, 65: 66, 66: 67, 67: 68, 68: 69, 69: 70, 70: 71, 71: 72, 72: 73, 73: 74, 74: 75, 75: 76, 76: 77, 77: 78, 78: 79, 79: 80, 80: 81, 81: 82, 82: 83, 83: 84, 84: 85, 85: 86, 86: 87, 87: 88, 88: 89, 89: 90, 90: 91, 91: 92, 92: 93, 93: 94, 94: 95, 95: 96, 96: 97, 97: 98, 98: 99, 99: 100, 100: 101, 101: 102, 102: 103, 103: 104, 104: 105, 105: 106, 106: 107, 107: 108, 108: 109, 109: 110, 110: 111, 111: 112, 112: 113, 113: 114, 114: 115, 115: 116, 116: 117, 117: 118, 118: 119, 119: 120, 120: 121, 121: 122, 122: 123, 123: 124, 124: 125, 125: 126, 126: 127, 127: 128, 128: 129, 129: 130, 130: 131, 131: 132, 132: 133, 133: 134, 134: 135, 135: 136, 136: 137, 137: 138, 138: 139, 139: 140, 140: 141, 141: 142, 142: 143, 143: 144, 144: 145, 145: 146, 146: 147, 147: 148, 148: 149, 149: 150, 150: 151, 151: 152, 152: 153, 153: 154, 154: 155, 155: 156, 156: 157, 157: 158, 158: 159, 159: 160, 160: 161, 161: 162, 162: 163, 163: 164, 164: 165, 165: 166, 166: 167, 167: 168, 168: 169, 169: 170, 170: 171, 171: 172, 172: 173, 173: 174, 174: 175, 175: 176, 176: 177, 177: 178, 178: 179, 179: 180, 180: 181, 181: 182, 182: 183, 183: 184, 184: 185, 185: 186, 186: 187, 187: 188, 188: 189, 189: 190, 190: 191, 191: 192, 192: 193, 193: 194, 194: 195, 195: 196, 196: 197, 197: 198, 198: 199, 199: 200, 200: 201, 201: 202, 202: 203, 203: 204, 204: 205, 205: 206, 206: 207, 207: 208, 208: 209, 209: 210, 210: 211, 211: 212, 212: 213, 213: 214, 214: 215, 215: 216, 216: 217, 217: 218, 218: 219, 219: 220, 220: 221, 221: 222, 222: 223, 223: 224, 224: 225, 225: 226, 226: 227, 227: 228, 228: 229, 229: 230, 230: 231, 231: 232, 232: 233, 233: 234, 234: 235, 235: 236, 236: 237, 237: 238, 238: 239, 239: 240, 240: 241, 241: 242, 242: 243, 243: 244, 244: 245, 245: 246, 246: 247, 247: 248, 248: 249, 249: 250, 250: 251, 251: 252, 252: 253, 253: 254, 254: 255, 255: 256, 256: 257, 257: 258, 258: 259, 259: 260, 260: 261, 261: 262, 262: 263, 263: 264, 264: 265, 265: 266, 266: 267, 267: 268, 268: 269, 269: 270, 270: 271, 271: 272, 272: 273, 273: 274, 274: 275, 275: 276, 276: 277, 277: 278, 278: 279, 279: 280, 280: 281, 281: 282, 282: 283, 283: 284, 284: 285, 285: 286, 286: 287, 287: 288, 288: 289, 289: 290, 290: 291, 291: 292, 292: 293, 293: 294, 294: 295, 295: 296, 296: 297, 297: 298, 298: 299, 299: 300}\n"
     ]
    }
   ],
   "source": [
    "# Mengubah userID menjadi list tanpa nilai yang sama\n",
    "user_ids = data_collaborative_filtering['User_Id'].unique().tolist()\n",
    "print('list userID: ', user_ids)\n",
    " \n",
    "# Melakukan encoding userID\n",
    "user_to_user_encoded = {x: i for i, x in enumerate(user_ids)}\n",
    "print('encoded userID : ', user_to_user_encoded)\n",
    " \n",
    "# Melakukan proses encoding angka ke ke userID\n",
    "user_encoded_to_user = {i: x for i, x in enumerate(user_ids)}\n",
    "print('encoded angka ke userID: ', user_encoded_to_user)"
   ]
  },
  {
   "cell_type": "markdown",
   "metadata": {},
   "source": [
    "mengubah Place_Id menjadi list dan membuat variabel untuk melakukan encode serta decode"
   ]
  },
  {
   "cell_type": "code",
   "execution_count": 47,
   "metadata": {},
   "outputs": [],
   "source": [
    "# Mengubah placeID menjadi list tanpa nilai yang sama\n",
    "resto_ids = data_collaborative_filtering['Place_Id'].unique().tolist()\n",
    " \n",
    "# Melakukan proses encoding placeID\n",
    "resto_to_resto_encoded = {x: i for i, x in enumerate(resto_ids)}\n",
    " \n",
    "# Melakukan proses encoding angka ke placeID\n",
    "resto_encoded_to_resto = {i: x for i, x in enumerate(resto_ids)}"
   ]
  },
  {
   "cell_type": "markdown",
   "metadata": {},
   "source": [
    "melakukan mapping terhadap variabel baru, yaitu: user dan resto"
   ]
  },
  {
   "cell_type": "code",
   "execution_count": 48,
   "metadata": {},
   "outputs": [],
   "source": [
    "# Mapping userID ke dataframe user\n",
    "data_collaborative_filtering['user'] = data_collaborative_filtering['User_Id'].map(user_to_user_encoded)\n",
    " \n",
    "# Mapping placeID ke dataframe resto\n",
    "data_collaborative_filtering['resto'] = data_collaborative_filtering['Place_Id'].map(resto_to_resto_encoded)"
   ]
  },
  {
   "cell_type": "code",
   "execution_count": 49,
   "metadata": {},
   "outputs": [
    {
     "data": {
      "text/html": [
       "<div>\n",
       "<style scoped>\n",
       "    .dataframe tbody tr th:only-of-type {\n",
       "        vertical-align: middle;\n",
       "    }\n",
       "\n",
       "    .dataframe tbody tr th {\n",
       "        vertical-align: top;\n",
       "    }\n",
       "\n",
       "    .dataframe thead th {\n",
       "        text-align: right;\n",
       "    }\n",
       "</style>\n",
       "<table border=\"1\" class=\"dataframe\">\n",
       "  <thead>\n",
       "    <tr style=\"text-align: right;\">\n",
       "      <th></th>\n",
       "      <th>User_Id</th>\n",
       "      <th>Place_Id</th>\n",
       "      <th>Place_Ratings</th>\n",
       "      <th>user</th>\n",
       "      <th>resto</th>\n",
       "    </tr>\n",
       "  </thead>\n",
       "  <tbody>\n",
       "    <tr>\n",
       "      <th>0</th>\n",
       "      <td>1</td>\n",
       "      <td>179</td>\n",
       "      <td>3</td>\n",
       "      <td>0</td>\n",
       "      <td>0</td>\n",
       "    </tr>\n",
       "    <tr>\n",
       "      <th>1</th>\n",
       "      <td>1</td>\n",
       "      <td>344</td>\n",
       "      <td>2</td>\n",
       "      <td>0</td>\n",
       "      <td>1</td>\n",
       "    </tr>\n",
       "    <tr>\n",
       "      <th>2</th>\n",
       "      <td>1</td>\n",
       "      <td>5</td>\n",
       "      <td>5</td>\n",
       "      <td>0</td>\n",
       "      <td>2</td>\n",
       "    </tr>\n",
       "    <tr>\n",
       "      <th>3</th>\n",
       "      <td>1</td>\n",
       "      <td>373</td>\n",
       "      <td>3</td>\n",
       "      <td>0</td>\n",
       "      <td>3</td>\n",
       "    </tr>\n",
       "    <tr>\n",
       "      <th>4</th>\n",
       "      <td>1</td>\n",
       "      <td>101</td>\n",
       "      <td>4</td>\n",
       "      <td>0</td>\n",
       "      <td>4</td>\n",
       "    </tr>\n",
       "    <tr>\n",
       "      <th>...</th>\n",
       "      <td>...</td>\n",
       "      <td>...</td>\n",
       "      <td>...</td>\n",
       "      <td>...</td>\n",
       "      <td>...</td>\n",
       "    </tr>\n",
       "    <tr>\n",
       "      <th>9995</th>\n",
       "      <td>300</td>\n",
       "      <td>425</td>\n",
       "      <td>2</td>\n",
       "      <td>299</td>\n",
       "      <td>324</td>\n",
       "    </tr>\n",
       "    <tr>\n",
       "      <th>9996</th>\n",
       "      <td>300</td>\n",
       "      <td>64</td>\n",
       "      <td>4</td>\n",
       "      <td>299</td>\n",
       "      <td>132</td>\n",
       "    </tr>\n",
       "    <tr>\n",
       "      <th>9997</th>\n",
       "      <td>300</td>\n",
       "      <td>311</td>\n",
       "      <td>3</td>\n",
       "      <td>299</td>\n",
       "      <td>348</td>\n",
       "    </tr>\n",
       "    <tr>\n",
       "      <th>9998</th>\n",
       "      <td>300</td>\n",
       "      <td>279</td>\n",
       "      <td>4</td>\n",
       "      <td>299</td>\n",
       "      <td>290</td>\n",
       "    </tr>\n",
       "    <tr>\n",
       "      <th>9999</th>\n",
       "      <td>300</td>\n",
       "      <td>163</td>\n",
       "      <td>2</td>\n",
       "      <td>299</td>\n",
       "      <td>243</td>\n",
       "    </tr>\n",
       "  </tbody>\n",
       "</table>\n",
       "<p>10000 rows × 5 columns</p>\n",
       "</div>"
      ],
      "text/plain": [
       "      User_Id  Place_Id  Place_Ratings  user  resto\n",
       "0           1       179              3     0      0\n",
       "1           1       344              2     0      1\n",
       "2           1         5              5     0      2\n",
       "3           1       373              3     0      3\n",
       "4           1       101              4     0      4\n",
       "...       ...       ...            ...   ...    ...\n",
       "9995      300       425              2   299    324\n",
       "9996      300        64              4   299    132\n",
       "9997      300       311              3   299    348\n",
       "9998      300       279              4   299    290\n",
       "9999      300       163              2   299    243\n",
       "\n",
       "[10000 rows x 5 columns]"
      ]
     },
     "execution_count": 49,
     "metadata": {},
     "output_type": "execute_result"
    }
   ],
   "source": [
    "data_collaborative_filtering"
   ]
  },
  {
   "cell_type": "markdown",
   "metadata": {},
   "source": [
    "mendapatkan banyaknya user, resto, serta nilai rating terkecil dan terbesar"
   ]
  },
  {
   "cell_type": "code",
   "execution_count": 50,
   "metadata": {},
   "outputs": [
    {
     "name": "stdout",
     "output_type": "stream",
     "text": [
      "300\n",
      "437\n",
      "Number of User: 300, Number of Resto: 437, Min Rating: 1.0, Max Rating: 5.0\n"
     ]
    }
   ],
   "source": [
    "# Mendapatkan jumlah user\n",
    "num_users = len(user_to_user_encoded)\n",
    "print(num_users)\n",
    " \n",
    "# Mendapatkan jumlah resto\n",
    "num_resto = len(resto_encoded_to_resto)\n",
    "print(num_resto)\n",
    " \n",
    "# Mengubah rating menjadi nilai float\n",
    "data_collaborative_filtering['Place_Ratings'] = data_collaborative_filtering['Place_Ratings'].values.astype(np.float32)\n",
    " \n",
    "# Nilai minimum rating\n",
    "min_rating = min(data_collaborative_filtering['Place_Ratings'])\n",
    " \n",
    "# Nilai maksimal rating\n",
    "max_rating = max(data_collaborative_filtering['Place_Ratings'])\n",
    " \n",
    "print('Number of User: {}, Number of Resto: {}, Min Rating: {}, Max Rating: {}'.format(\n",
    "    num_users, num_resto, min_rating, max_rating\n",
    "))"
   ]
  },
  {
   "cell_type": "markdown",
   "metadata": {},
   "source": [
    "mengacak dataset"
   ]
  },
  {
   "cell_type": "code",
   "execution_count": 51,
   "metadata": {},
   "outputs": [
    {
     "data": {
      "text/html": [
       "<div>\n",
       "<style scoped>\n",
       "    .dataframe tbody tr th:only-of-type {\n",
       "        vertical-align: middle;\n",
       "    }\n",
       "\n",
       "    .dataframe tbody tr th {\n",
       "        vertical-align: top;\n",
       "    }\n",
       "\n",
       "    .dataframe thead th {\n",
       "        text-align: right;\n",
       "    }\n",
       "</style>\n",
       "<table border=\"1\" class=\"dataframe\">\n",
       "  <thead>\n",
       "    <tr style=\"text-align: right;\">\n",
       "      <th></th>\n",
       "      <th>User_Id</th>\n",
       "      <th>Place_Id</th>\n",
       "      <th>Place_Ratings</th>\n",
       "      <th>user</th>\n",
       "      <th>resto</th>\n",
       "    </tr>\n",
       "  </thead>\n",
       "  <tbody>\n",
       "    <tr>\n",
       "      <th>6252</th>\n",
       "      <td>188</td>\n",
       "      <td>207</td>\n",
       "      <td>3.0</td>\n",
       "      <td>187</td>\n",
       "      <td>262</td>\n",
       "    </tr>\n",
       "    <tr>\n",
       "      <th>4684</th>\n",
       "      <td>142</td>\n",
       "      <td>268</td>\n",
       "      <td>2.0</td>\n",
       "      <td>141</td>\n",
       "      <td>83</td>\n",
       "    </tr>\n",
       "    <tr>\n",
       "      <th>1731</th>\n",
       "      <td>54</td>\n",
       "      <td>103</td>\n",
       "      <td>3.0</td>\n",
       "      <td>53</td>\n",
       "      <td>10</td>\n",
       "    </tr>\n",
       "    <tr>\n",
       "      <th>4742</th>\n",
       "      <td>144</td>\n",
       "      <td>119</td>\n",
       "      <td>3.0</td>\n",
       "      <td>143</td>\n",
       "      <td>141</td>\n",
       "    </tr>\n",
       "    <tr>\n",
       "      <th>4521</th>\n",
       "      <td>138</td>\n",
       "      <td>288</td>\n",
       "      <td>5.0</td>\n",
       "      <td>137</td>\n",
       "      <td>283</td>\n",
       "    </tr>\n",
       "    <tr>\n",
       "      <th>...</th>\n",
       "      <td>...</td>\n",
       "      <td>...</td>\n",
       "      <td>...</td>\n",
       "      <td>...</td>\n",
       "      <td>...</td>\n",
       "    </tr>\n",
       "    <tr>\n",
       "      <th>5734</th>\n",
       "      <td>173</td>\n",
       "      <td>402</td>\n",
       "      <td>5.0</td>\n",
       "      <td>172</td>\n",
       "      <td>175</td>\n",
       "    </tr>\n",
       "    <tr>\n",
       "      <th>5191</th>\n",
       "      <td>157</td>\n",
       "      <td>85</td>\n",
       "      <td>4.0</td>\n",
       "      <td>156</td>\n",
       "      <td>33</td>\n",
       "    </tr>\n",
       "    <tr>\n",
       "      <th>5390</th>\n",
       "      <td>163</td>\n",
       "      <td>18</td>\n",
       "      <td>3.0</td>\n",
       "      <td>162</td>\n",
       "      <td>52</td>\n",
       "    </tr>\n",
       "    <tr>\n",
       "      <th>860</th>\n",
       "      <td>28</td>\n",
       "      <td>416</td>\n",
       "      <td>4.0</td>\n",
       "      <td>27</td>\n",
       "      <td>187</td>\n",
       "    </tr>\n",
       "    <tr>\n",
       "      <th>7270</th>\n",
       "      <td>219</td>\n",
       "      <td>258</td>\n",
       "      <td>2.0</td>\n",
       "      <td>218</td>\n",
       "      <td>6</td>\n",
       "    </tr>\n",
       "  </tbody>\n",
       "</table>\n",
       "<p>10000 rows × 5 columns</p>\n",
       "</div>"
      ],
      "text/plain": [
       "      User_Id  Place_Id  Place_Ratings  user  resto\n",
       "6252      188       207            3.0   187    262\n",
       "4684      142       268            2.0   141     83\n",
       "1731       54       103            3.0    53     10\n",
       "4742      144       119            3.0   143    141\n",
       "4521      138       288            5.0   137    283\n",
       "...       ...       ...            ...   ...    ...\n",
       "5734      173       402            5.0   172    175\n",
       "5191      157        85            4.0   156     33\n",
       "5390      163        18            3.0   162     52\n",
       "860        28       416            4.0    27    187\n",
       "7270      219       258            2.0   218      6\n",
       "\n",
       "[10000 rows x 5 columns]"
      ]
     },
     "execution_count": 51,
     "metadata": {},
     "output_type": "execute_result"
    }
   ],
   "source": [
    "data_collaborative_filtering = data_collaborative_filtering.sample(frac=1, random_state=42)\n",
    "data_collaborative_filtering"
   ]
  },
  {
   "cell_type": "markdown",
   "metadata": {},
   "source": [
    "membagi dataset menjadi data latih dan data train"
   ]
  },
  {
   "cell_type": "code",
   "execution_count": 52,
   "metadata": {},
   "outputs": [
    {
     "name": "stdout",
     "output_type": "stream",
     "text": [
      "[[187 262]\n",
      " [141  83]\n",
      " [ 53  10]\n",
      " ...\n",
      " [162  52]\n",
      " [ 27 187]\n",
      " [218   6]] [0.5  0.25 0.5  ... 0.5  0.75 0.25]\n"
     ]
    }
   ],
   "source": [
    "x = data_collaborative_filtering[['user', 'resto']].values\n",
    " \n",
    "# Membuat variabel y untuk membuat rating dari hasil \n",
    "y = data_collaborative_filtering['Place_Ratings'].apply(lambda x: (x - min_rating) / (max_rating - min_rating)).values\n",
    " \n",
    "# Membagi menjadi 80% data train dan 20% data validasi\n",
    "train_indices = int(0.8 * data_collaborative_filtering.shape[0])\n",
    "x_train, x_val, y_train, y_val = (\n",
    "    x[:train_indices],\n",
    "    x[train_indices:],\n",
    "    y[:train_indices],\n",
    "    y[train_indices:]\n",
    ")\n",
    " \n",
    "print(x, y)"
   ]
  },
  {
   "cell_type": "markdown",
   "metadata": {},
   "source": [
    "membuat class rekomendasi dengan menggunaakn keras"
   ]
  },
  {
   "cell_type": "code",
   "execution_count": 53,
   "metadata": {},
   "outputs": [],
   "source": [
    "class RecommenderNet(tf.keras.Model):\n",
    " \n",
    "  # Insialisasi fungsi\n",
    "  def __init__(self, num_users, num_resto, embedding_size, **kwargs):\n",
    "    super(RecommenderNet, self).__init__(**kwargs)\n",
    "    self.num_users = num_users\n",
    "    self.num_resto = num_resto\n",
    "    self.embedding_size = embedding_size\n",
    "    self.user_embedding = layers.Embedding( # layer embedding user\n",
    "        num_users,\n",
    "        embedding_size,\n",
    "        embeddings_initializer = 'he_normal',\n",
    "        embeddings_regularizer = keras.regularizers.l2(1e-6)\n",
    "    )\n",
    "    self.user_bias = layers.Embedding(num_users, 1) # layer embedding user bias\n",
    "    self.resto_embedding = layers.Embedding( # layer embeddings resto\n",
    "        num_resto,\n",
    "        embedding_size,\n",
    "        embeddings_initializer = 'he_normal',\n",
    "        embeddings_regularizer = keras.regularizers.l2(1e-6)\n",
    "    )\n",
    "    self.resto_bias = layers.Embedding(num_resto, 1) # layer embedding resto bias\n",
    " \n",
    "  def call(self, inputs):\n",
    "    user_vector = self.user_embedding(inputs[:,0]) # memanggil layer embedding 1\n",
    "    user_bias = self.user_bias(inputs[:, 0]) # memanggil layer embedding 2\n",
    "    resto_vector = self.resto_embedding(inputs[:, 1]) # memanggil layer embedding 3\n",
    "    resto_bias = self.resto_bias(inputs[:, 1]) # memanggil layer embedding 4\n",
    " \n",
    "    dot_user_resto = tf.tensordot(user_vector, resto_vector, 2) \n",
    " \n",
    "    x = dot_user_resto + user_bias + resto_bias\n",
    "    \n",
    "    return tf.nn.sigmoid(x) # activation sigmoid"
   ]
  },
  {
   "cell_type": "markdown",
   "metadata": {},
   "source": [
    "melakukan inisiasi model"
   ]
  },
  {
   "cell_type": "code",
   "execution_count": 54,
   "metadata": {},
   "outputs": [],
   "source": [
    "model = RecommenderNet(num_users, num_resto, 50) # inisialisasi model\n",
    " \n",
    "# model compile\n",
    "model.compile(\n",
    "    loss = tf.keras.losses.BinaryCrossentropy(),\n",
    "    optimizer = keras.optimizers.Adam(learning_rate=0.001),\n",
    "    metrics=[tf.keras.metrics.RootMeanSquaredError()]\n",
    ")"
   ]
  },
  {
   "cell_type": "markdown",
   "metadata": {},
   "source": [
    "melakukan training"
   ]
  },
  {
   "cell_type": "code",
   "execution_count": 55,
   "metadata": {},
   "outputs": [
    {
     "name": "stdout",
     "output_type": "stream",
     "text": [
      "Epoch 1/100\n",
      "1000/1000 [==============================] - 2s 2ms/step - loss: 0.6943 - root_mean_squared_error: 0.3462 - val_loss: 0.6941 - val_root_mean_squared_error: 0.3457\n",
      "Epoch 2/100\n",
      "1000/1000 [==============================] - 2s 2ms/step - loss: 0.6871 - root_mean_squared_error: 0.3409 - val_loss: 0.6939 - val_root_mean_squared_error: 0.3455\n",
      "Epoch 3/100\n",
      "1000/1000 [==============================] - 1s 1ms/step - loss: 0.6809 - root_mean_squared_error: 0.3364 - val_loss: 0.6940 - val_root_mean_squared_error: 0.3455\n",
      "Epoch 4/100\n",
      "1000/1000 [==============================] - 1s 1ms/step - loss: 0.6782 - root_mean_squared_error: 0.3344 - val_loss: 0.6956 - val_root_mean_squared_error: 0.3466\n",
      "Epoch 5/100\n",
      "1000/1000 [==============================] - 1s 1ms/step - loss: 0.6733 - root_mean_squared_error: 0.3308 - val_loss: 0.6959 - val_root_mean_squared_error: 0.3468\n",
      "Epoch 6/100\n",
      "1000/1000 [==============================] - 1s 1ms/step - loss: 0.6706 - root_mean_squared_error: 0.3288 - val_loss: 0.6973 - val_root_mean_squared_error: 0.3478\n",
      "Epoch 7/100\n",
      "1000/1000 [==============================] - 1s 1ms/step - loss: 0.6664 - root_mean_squared_error: 0.3257 - val_loss: 0.6985 - val_root_mean_squared_error: 0.3486\n",
      "Epoch 8/100\n",
      "1000/1000 [==============================] - 1s 1ms/step - loss: 0.6633 - root_mean_squared_error: 0.3234 - val_loss: 0.7000 - val_root_mean_squared_error: 0.3496\n",
      "Epoch 9/100\n",
      "1000/1000 [==============================] - 1s 1ms/step - loss: 0.6600 - root_mean_squared_error: 0.3210 - val_loss: 0.7020 - val_root_mean_squared_error: 0.3509\n",
      "Epoch 10/100\n",
      "1000/1000 [==============================] - 1s 1ms/step - loss: 0.6590 - root_mean_squared_error: 0.3203 - val_loss: 0.7026 - val_root_mean_squared_error: 0.3512\n",
      "Epoch 11/100\n",
      "1000/1000 [==============================] - 1s 1ms/step - loss: 0.6571 - root_mean_squared_error: 0.3189 - val_loss: 0.7028 - val_root_mean_squared_error: 0.3512\n",
      "Epoch 12/100\n",
      "1000/1000 [==============================] - 1s 1ms/step - loss: 0.6557 - root_mean_squared_error: 0.3179 - val_loss: 0.7035 - val_root_mean_squared_error: 0.3517\n",
      "Epoch 13/100\n",
      "1000/1000 [==============================] - 1s 1ms/step - loss: 0.6574 - root_mean_squared_error: 0.3191 - val_loss: 0.7045 - val_root_mean_squared_error: 0.3523\n",
      "Epoch 14/100\n",
      "1000/1000 [==============================] - 1s 1ms/step - loss: 0.6550 - root_mean_squared_error: 0.3173 - val_loss: 0.7041 - val_root_mean_squared_error: 0.3520\n",
      "Epoch 15/100\n",
      "1000/1000 [==============================] - 1s 1ms/step - loss: 0.6529 - root_mean_squared_error: 0.3159 - val_loss: 0.7061 - val_root_mean_squared_error: 0.3534\n",
      "Epoch 16/100\n",
      "1000/1000 [==============================] - 1s 1ms/step - loss: 0.6546 - root_mean_squared_error: 0.3170 - val_loss: 0.7073 - val_root_mean_squared_error: 0.3540\n",
      "Epoch 17/100\n",
      "1000/1000 [==============================] - 1s 1ms/step - loss: 0.6522 - root_mean_squared_error: 0.3151 - val_loss: 0.7083 - val_root_mean_squared_error: 0.3547\n",
      "Epoch 18/100\n",
      "1000/1000 [==============================] - 1s 1ms/step - loss: 0.6518 - root_mean_squared_error: 0.3149 - val_loss: 0.7097 - val_root_mean_squared_error: 0.3556\n",
      "Epoch 19/100\n",
      "1000/1000 [==============================] - 1s 1ms/step - loss: 0.6524 - root_mean_squared_error: 0.3154 - val_loss: 0.7099 - val_root_mean_squared_error: 0.3557\n",
      "Epoch 20/100\n",
      "1000/1000 [==============================] - 1s 1ms/step - loss: 0.6532 - root_mean_squared_error: 0.3161 - val_loss: 0.7090 - val_root_mean_squared_error: 0.3550\n",
      "Epoch 21/100\n",
      "1000/1000 [==============================] - 2s 2ms/step - loss: 0.6510 - root_mean_squared_error: 0.3143 - val_loss: 0.7099 - val_root_mean_squared_error: 0.3556\n",
      "Epoch 22/100\n",
      "1000/1000 [==============================] - 1s 1ms/step - loss: 0.6524 - root_mean_squared_error: 0.3154 - val_loss: 0.7101 - val_root_mean_squared_error: 0.3557\n",
      "Epoch 23/100\n",
      "1000/1000 [==============================] - 1s 1ms/step - loss: 0.6514 - root_mean_squared_error: 0.3146 - val_loss: 0.7118 - val_root_mean_squared_error: 0.3567\n",
      "Epoch 24/100\n",
      "1000/1000 [==============================] - 1s 1ms/step - loss: 0.6484 - root_mean_squared_error: 0.3125 - val_loss: 0.7113 - val_root_mean_squared_error: 0.3564\n",
      "Epoch 25/100\n",
      "1000/1000 [==============================] - 2s 2ms/step - loss: 0.6515 - root_mean_squared_error: 0.3145 - val_loss: 0.7122 - val_root_mean_squared_error: 0.3570\n",
      "Epoch 26/100\n",
      "1000/1000 [==============================] - 1s 1ms/step - loss: 0.6517 - root_mean_squared_error: 0.3148 - val_loss: 0.7134 - val_root_mean_squared_error: 0.3577\n",
      "Epoch 27/100\n",
      "1000/1000 [==============================] - 1s 1ms/step - loss: 0.6516 - root_mean_squared_error: 0.3146 - val_loss: 0.7146 - val_root_mean_squared_error: 0.3585\n",
      "Epoch 28/100\n",
      "1000/1000 [==============================] - 1s 1ms/step - loss: 0.6516 - root_mean_squared_error: 0.3148 - val_loss: 0.7149 - val_root_mean_squared_error: 0.3587\n",
      "Epoch 29/100\n",
      "1000/1000 [==============================] - 1s 1ms/step - loss: 0.6510 - root_mean_squared_error: 0.3145 - val_loss: 0.7162 - val_root_mean_squared_error: 0.3595\n",
      "Epoch 30/100\n",
      "1000/1000 [==============================] - 1s 1ms/step - loss: 0.6498 - root_mean_squared_error: 0.3132 - val_loss: 0.7166 - val_root_mean_squared_error: 0.3598\n",
      "Epoch 31/100\n",
      "1000/1000 [==============================] - 1s 1ms/step - loss: 0.6520 - root_mean_squared_error: 0.3150 - val_loss: 0.7145 - val_root_mean_squared_error: 0.3584\n",
      "Epoch 32/100\n",
      "1000/1000 [==============================] - 1s 1ms/step - loss: 0.6523 - root_mean_squared_error: 0.3153 - val_loss: 0.7148 - val_root_mean_squared_error: 0.3585\n",
      "Epoch 33/100\n",
      "1000/1000 [==============================] - 1s 1ms/step - loss: 0.6514 - root_mean_squared_error: 0.3148 - val_loss: 0.7140 - val_root_mean_squared_error: 0.3579\n",
      "Epoch 34/100\n",
      "1000/1000 [==============================] - 1s 1ms/step - loss: 0.6517 - root_mean_squared_error: 0.3148 - val_loss: 0.7145 - val_root_mean_squared_error: 0.3582\n",
      "Epoch 35/100\n",
      "1000/1000 [==============================] - 1s 1ms/step - loss: 0.6501 - root_mean_squared_error: 0.3137 - val_loss: 0.7136 - val_root_mean_squared_error: 0.3576\n",
      "Epoch 36/100\n",
      "1000/1000 [==============================] - 2s 2ms/step - loss: 0.6474 - root_mean_squared_error: 0.3117 - val_loss: 0.7151 - val_root_mean_squared_error: 0.3585\n",
      "Epoch 37/100\n",
      "1000/1000 [==============================] - 1s 1ms/step - loss: 0.6501 - root_mean_squared_error: 0.3136 - val_loss: 0.7158 - val_root_mean_squared_error: 0.3590\n",
      "Epoch 38/100\n",
      "1000/1000 [==============================] - 1s 1ms/step - loss: 0.6507 - root_mean_squared_error: 0.3142 - val_loss: 0.7174 - val_root_mean_squared_error: 0.3600\n",
      "Epoch 39/100\n",
      "1000/1000 [==============================] - 1s 1ms/step - loss: 0.6507 - root_mean_squared_error: 0.3141 - val_loss: 0.7185 - val_root_mean_squared_error: 0.3607\n",
      "Epoch 40/100\n",
      "1000/1000 [==============================] - 1s 1ms/step - loss: 0.6489 - root_mean_squared_error: 0.3128 - val_loss: 0.7183 - val_root_mean_squared_error: 0.3606\n",
      "Epoch 41/100\n",
      "1000/1000 [==============================] - 1s 1ms/step - loss: 0.6516 - root_mean_squared_error: 0.3148 - val_loss: 0.7173 - val_root_mean_squared_error: 0.3600\n",
      "Epoch 42/100\n",
      "1000/1000 [==============================] - 1s 1ms/step - loss: 0.6486 - root_mean_squared_error: 0.3127 - val_loss: 0.7157 - val_root_mean_squared_error: 0.3589\n",
      "Epoch 43/100\n",
      "1000/1000 [==============================] - 1s 1ms/step - loss: 0.6492 - root_mean_squared_error: 0.3130 - val_loss: 0.7151 - val_root_mean_squared_error: 0.3585\n",
      "Epoch 44/100\n",
      "1000/1000 [==============================] - 1s 1ms/step - loss: 0.6497 - root_mean_squared_error: 0.3134 - val_loss: 0.7152 - val_root_mean_squared_error: 0.3585\n",
      "Epoch 45/100\n",
      "1000/1000 [==============================] - 1s 1ms/step - loss: 0.6495 - root_mean_squared_error: 0.3133 - val_loss: 0.7167 - val_root_mean_squared_error: 0.3594\n",
      "Epoch 46/100\n",
      "1000/1000 [==============================] - 1s 1ms/step - loss: 0.6510 - root_mean_squared_error: 0.3144 - val_loss: 0.7172 - val_root_mean_squared_error: 0.3596\n",
      "Epoch 47/100\n",
      "1000/1000 [==============================] - 1s 1ms/step - loss: 0.6491 - root_mean_squared_error: 0.3128 - val_loss: 0.7175 - val_root_mean_squared_error: 0.3599\n",
      "Epoch 48/100\n",
      "1000/1000 [==============================] - 2s 2ms/step - loss: 0.6502 - root_mean_squared_error: 0.3138 - val_loss: 0.7168 - val_root_mean_squared_error: 0.3593\n",
      "Epoch 49/100\n",
      "1000/1000 [==============================] - 1s 1ms/step - loss: 0.6517 - root_mean_squared_error: 0.3148 - val_loss: 0.7164 - val_root_mean_squared_error: 0.3591\n",
      "Epoch 50/100\n",
      "1000/1000 [==============================] - 1s 1ms/step - loss: 0.6489 - root_mean_squared_error: 0.3129 - val_loss: 0.7167 - val_root_mean_squared_error: 0.3594\n",
      "Epoch 51/100\n",
      "1000/1000 [==============================] - 1s 1ms/step - loss: 0.6499 - root_mean_squared_error: 0.3136 - val_loss: 0.7167 - val_root_mean_squared_error: 0.3593\n",
      "Epoch 52/100\n",
      "1000/1000 [==============================] - 2s 2ms/step - loss: 0.6495 - root_mean_squared_error: 0.3133 - val_loss: 0.7170 - val_root_mean_squared_error: 0.3596\n",
      "Epoch 53/100\n",
      "1000/1000 [==============================] - 1s 1ms/step - loss: 0.6523 - root_mean_squared_error: 0.3152 - val_loss: 0.7172 - val_root_mean_squared_error: 0.3597\n",
      "Epoch 54/100\n",
      "1000/1000 [==============================] - 1s 1ms/step - loss: 0.6509 - root_mean_squared_error: 0.3141 - val_loss: 0.7171 - val_root_mean_squared_error: 0.3597\n",
      "Epoch 55/100\n",
      "1000/1000 [==============================] - 1s 1ms/step - loss: 0.6503 - root_mean_squared_error: 0.3138 - val_loss: 0.7173 - val_root_mean_squared_error: 0.3598\n",
      "Epoch 56/100\n",
      "1000/1000 [==============================] - 1s 1ms/step - loss: 0.6500 - root_mean_squared_error: 0.3137 - val_loss: 0.7170 - val_root_mean_squared_error: 0.3595\n",
      "Epoch 57/100\n",
      "1000/1000 [==============================] - 1s 1ms/step - loss: 0.6489 - root_mean_squared_error: 0.3129 - val_loss: 0.7186 - val_root_mean_squared_error: 0.3604\n",
      "Epoch 58/100\n",
      "1000/1000 [==============================] - 1s 1ms/step - loss: 0.6499 - root_mean_squared_error: 0.3135 - val_loss: 0.7192 - val_root_mean_squared_error: 0.3608\n",
      "Epoch 59/100\n",
      "1000/1000 [==============================] - 1s 1ms/step - loss: 0.6491 - root_mean_squared_error: 0.3130 - val_loss: 0.7190 - val_root_mean_squared_error: 0.3606\n",
      "Epoch 60/100\n",
      "1000/1000 [==============================] - 1s 1ms/step - loss: 0.6498 - root_mean_squared_error: 0.3134 - val_loss: 0.7190 - val_root_mean_squared_error: 0.3606\n",
      "Epoch 61/100\n",
      "1000/1000 [==============================] - 1s 1ms/step - loss: 0.6482 - root_mean_squared_error: 0.3120 - val_loss: 0.7186 - val_root_mean_squared_error: 0.3603\n",
      "Epoch 62/100\n",
      "1000/1000 [==============================] - 1s 1ms/step - loss: 0.6512 - root_mean_squared_error: 0.3142 - val_loss: 0.7193 - val_root_mean_squared_error: 0.3609\n",
      "Epoch 63/100\n",
      "1000/1000 [==============================] - 1s 1ms/step - loss: 0.6511 - root_mean_squared_error: 0.3144 - val_loss: 0.7212 - val_root_mean_squared_error: 0.3621\n",
      "Epoch 64/100\n",
      "1000/1000 [==============================] - 1s 1ms/step - loss: 0.6474 - root_mean_squared_error: 0.3117 - val_loss: 0.7200 - val_root_mean_squared_error: 0.3613\n",
      "Epoch 65/100\n",
      "1000/1000 [==============================] - 1s 1ms/step - loss: 0.6510 - root_mean_squared_error: 0.3143 - val_loss: 0.7210 - val_root_mean_squared_error: 0.3619\n",
      "Epoch 66/100\n",
      "1000/1000 [==============================] - 1s 1ms/step - loss: 0.6507 - root_mean_squared_error: 0.3141 - val_loss: 0.7224 - val_root_mean_squared_error: 0.3628\n",
      "Epoch 67/100\n",
      "1000/1000 [==============================] - 1s 1ms/step - loss: 0.6500 - root_mean_squared_error: 0.3135 - val_loss: 0.7213 - val_root_mean_squared_error: 0.3621\n",
      "Epoch 68/100\n",
      "1000/1000 [==============================] - 1s 1ms/step - loss: 0.6490 - root_mean_squared_error: 0.3129 - val_loss: 0.7213 - val_root_mean_squared_error: 0.3621\n",
      "Epoch 69/100\n",
      "1000/1000 [==============================] - 1s 1ms/step - loss: 0.6502 - root_mean_squared_error: 0.3137 - val_loss: 0.7202 - val_root_mean_squared_error: 0.3614\n",
      "Epoch 70/100\n",
      "1000/1000 [==============================] - 1s 1ms/step - loss: 0.6488 - root_mean_squared_error: 0.3126 - val_loss: 0.7208 - val_root_mean_squared_error: 0.3617\n",
      "Epoch 71/100\n",
      "1000/1000 [==============================] - 1s 1ms/step - loss: 0.6495 - root_mean_squared_error: 0.3132 - val_loss: 0.7223 - val_root_mean_squared_error: 0.3626\n",
      "Epoch 72/100\n",
      "1000/1000 [==============================] - 1s 1ms/step - loss: 0.6489 - root_mean_squared_error: 0.3129 - val_loss: 0.7206 - val_root_mean_squared_error: 0.3615\n",
      "Epoch 73/100\n",
      "1000/1000 [==============================] - 1s 1ms/step - loss: 0.6516 - root_mean_squared_error: 0.3147 - val_loss: 0.7218 - val_root_mean_squared_error: 0.3623\n",
      "Epoch 74/100\n",
      "1000/1000 [==============================] - 1s 1ms/step - loss: 0.6483 - root_mean_squared_error: 0.3124 - val_loss: 0.7220 - val_root_mean_squared_error: 0.3626\n",
      "Epoch 75/100\n",
      "1000/1000 [==============================] - 1s 1ms/step - loss: 0.6476 - root_mean_squared_error: 0.3119 - val_loss: 0.7211 - val_root_mean_squared_error: 0.3621\n",
      "Epoch 76/100\n",
      "1000/1000 [==============================] - 1s 1ms/step - loss: 0.6499 - root_mean_squared_error: 0.3135 - val_loss: 0.7194 - val_root_mean_squared_error: 0.3610\n",
      "Epoch 77/100\n",
      "1000/1000 [==============================] - 1s 1ms/step - loss: 0.6488 - root_mean_squared_error: 0.3126 - val_loss: 0.7195 - val_root_mean_squared_error: 0.3611\n",
      "Epoch 78/100\n",
      "1000/1000 [==============================] - 1s 1ms/step - loss: 0.6498 - root_mean_squared_error: 0.3133 - val_loss: 0.7199 - val_root_mean_squared_error: 0.3612\n",
      "Epoch 79/100\n",
      "1000/1000 [==============================] - 1s 1ms/step - loss: 0.6505 - root_mean_squared_error: 0.3140 - val_loss: 0.7200 - val_root_mean_squared_error: 0.3613\n",
      "Epoch 80/100\n",
      "1000/1000 [==============================] - 1s 1ms/step - loss: 0.6494 - root_mean_squared_error: 0.3132 - val_loss: 0.7173 - val_root_mean_squared_error: 0.3595\n",
      "Epoch 81/100\n",
      "1000/1000 [==============================] - 1s 1ms/step - loss: 0.6494 - root_mean_squared_error: 0.3132 - val_loss: 0.7181 - val_root_mean_squared_error: 0.3600\n",
      "Epoch 82/100\n",
      "1000/1000 [==============================] - 1s 1ms/step - loss: 0.6484 - root_mean_squared_error: 0.3124 - val_loss: 0.7190 - val_root_mean_squared_error: 0.3605\n",
      "Epoch 83/100\n",
      "1000/1000 [==============================] - 1s 1ms/step - loss: 0.6494 - root_mean_squared_error: 0.3131 - val_loss: 0.7189 - val_root_mean_squared_error: 0.3604\n",
      "Epoch 84/100\n",
      "1000/1000 [==============================] - 1s 1ms/step - loss: 0.6492 - root_mean_squared_error: 0.3131 - val_loss: 0.7187 - val_root_mean_squared_error: 0.3604\n",
      "Epoch 85/100\n",
      "1000/1000 [==============================] - 1s 1ms/step - loss: 0.6503 - root_mean_squared_error: 0.3138 - val_loss: 0.7183 - val_root_mean_squared_error: 0.3601\n",
      "Epoch 86/100\n",
      "1000/1000 [==============================] - 1s 1ms/step - loss: 0.6469 - root_mean_squared_error: 0.3112 - val_loss: 0.7174 - val_root_mean_squared_error: 0.3595\n",
      "Epoch 87/100\n",
      "1000/1000 [==============================] - 1s 1ms/step - loss: 0.6497 - root_mean_squared_error: 0.3132 - val_loss: 0.7169 - val_root_mean_squared_error: 0.3594\n",
      "Epoch 88/100\n",
      "1000/1000 [==============================] - 1s 1ms/step - loss: 0.6512 - root_mean_squared_error: 0.3144 - val_loss: 0.7170 - val_root_mean_squared_error: 0.3594\n",
      "Epoch 89/100\n",
      "1000/1000 [==============================] - 1s 1ms/step - loss: 0.6508 - root_mean_squared_error: 0.3142 - val_loss: 0.7175 - val_root_mean_squared_error: 0.3598\n",
      "Epoch 90/100\n",
      "1000/1000 [==============================] - 1s 1ms/step - loss: 0.6493 - root_mean_squared_error: 0.3131 - val_loss: 0.7176 - val_root_mean_squared_error: 0.3598\n",
      "Epoch 91/100\n",
      "1000/1000 [==============================] - 1s 1ms/step - loss: 0.6483 - root_mean_squared_error: 0.3122 - val_loss: 0.7186 - val_root_mean_squared_error: 0.3605\n",
      "Epoch 92/100\n",
      "1000/1000 [==============================] - 1s 1ms/step - loss: 0.6490 - root_mean_squared_error: 0.3126 - val_loss: 0.7185 - val_root_mean_squared_error: 0.3604\n",
      "Epoch 93/100\n",
      "1000/1000 [==============================] - 1s 1ms/step - loss: 0.6492 - root_mean_squared_error: 0.3131 - val_loss: 0.7199 - val_root_mean_squared_error: 0.3612\n",
      "Epoch 94/100\n",
      "1000/1000 [==============================] - 1s 1ms/step - loss: 0.6493 - root_mean_squared_error: 0.3130 - val_loss: 0.7191 - val_root_mean_squared_error: 0.3607\n",
      "Epoch 95/100\n",
      "1000/1000 [==============================] - 1s 1ms/step - loss: 0.6465 - root_mean_squared_error: 0.3109 - val_loss: 0.7199 - val_root_mean_squared_error: 0.3612\n",
      "Epoch 96/100\n",
      "1000/1000 [==============================] - 1s 1ms/step - loss: 0.6497 - root_mean_squared_error: 0.3135 - val_loss: 0.7194 - val_root_mean_squared_error: 0.3609\n",
      "Epoch 97/100\n",
      "1000/1000 [==============================] - 1s 1ms/step - loss: 0.6490 - root_mean_squared_error: 0.3128 - val_loss: 0.7196 - val_root_mean_squared_error: 0.3610\n",
      "Epoch 98/100\n",
      "1000/1000 [==============================] - 1s 1ms/step - loss: 0.6503 - root_mean_squared_error: 0.3138 - val_loss: 0.7205 - val_root_mean_squared_error: 0.3616\n",
      "Epoch 99/100\n",
      "1000/1000 [==============================] - 1s 1ms/step - loss: 0.6480 - root_mean_squared_error: 0.3121 - val_loss: 0.7180 - val_root_mean_squared_error: 0.3600\n",
      "Epoch 100/100\n",
      "1000/1000 [==============================] - 1s 1ms/step - loss: 0.6493 - root_mean_squared_error: 0.3132 - val_loss: 0.7187 - val_root_mean_squared_error: 0.3604\n"
     ]
    }
   ],
   "source": [
    "# Memulai training\n",
    " \n",
    "history = model.fit(\n",
    "    x = x_train,\n",
    "    y = y_train,\n",
    "    batch_size = 8,\n",
    "    epochs = 100,\n",
    "    validation_data = (x_val, y_val)\n",
    ")"
   ]
  },
  {
   "cell_type": "markdown",
   "metadata": {},
   "source": [
    "mengambil user sample untuk melihat hasil rekomendasi"
   ]
  },
  {
   "cell_type": "code",
   "execution_count": 56,
   "metadata": {},
   "outputs": [],
   "source": [
    "resto_df = data_tourism_with_id\n",
    "df = data_tourism_rating\n",
    " \n",
    "# Mengambil sample user\n",
    "user_id = df.User_Id.sample(1).iloc[0]\n",
    "resto_visited_by_user = df[df.User_Id == user_id]"
   ]
  },
  {
   "cell_type": "markdown",
   "metadata": {},
   "source": [
    "membuat inisiasi terhadap tempat yang belum dikunjungi oleh user"
   ]
  },
  {
   "cell_type": "code",
   "execution_count": 57,
   "metadata": {},
   "outputs": [],
   "source": [
    "resto_not_visited = resto_df[~resto_df['Place_Id'].isin(resto_visited_by_user.Place_Id.values)]['Place_Id']\n",
    "resto_not_visited = list(\n",
    "    set(resto_not_visited)\n",
    "    .intersection(set(resto_to_resto_encoded.keys()))\n",
    ")\n",
    " \n",
    "resto_not_visited = [[resto_to_resto_encoded.get(x)] for x in resto_not_visited]\n",
    "user_encoder = user_to_user_encoded.get(user_id)\n",
    "user_resto_array = np.hstack(\n",
    "    ([[user_encoder]] * len(resto_not_visited), resto_not_visited)\n",
    ")"
   ]
  },
  {
   "cell_type": "markdown",
   "metadata": {},
   "source": [
    "melakukan predict terhadap resto yang belum dikunju oleh user "
   ]
  },
  {
   "cell_type": "code",
   "execution_count": 58,
   "metadata": {},
   "outputs": [],
   "source": [
    "ratings = model.predict(user_resto_array).flatten()"
   ]
  },
  {
   "cell_type": "markdown",
   "metadata": {},
   "source": [
    "10 rating tertinggi dari hasil prediksi"
   ]
  },
  {
   "cell_type": "code",
   "execution_count": null,
   "metadata": {},
   "outputs": [],
   "source": [
    "top_ratings_indices = ratings.argsort()[-10:][::-1]\n",
    "recommended_resto_ids = [\n",
    "    resto_encoded_to_resto.get(resto_not_visited[x][0]) for x in top_ratings_indices\n",
    "]"
   ]
  },
  {
   "cell_type": "markdown",
   "metadata": {},
   "source": [
    "hasil"
   ]
  },
  {
   "cell_type": "code",
   "execution_count": 59,
   "metadata": {},
   "outputs": [
    {
     "name": "stdout",
     "output_type": "stream",
     "text": [
      "Showing recommendations for users: 107\n",
      "===========================\n",
      "Resto with high ratings from user\n",
      "--------------------------------\n",
      "Seribu Batu Songgo Langit\n",
      "Pantai Depok Jogja\n",
      "Gunung Papandayan\n",
      "Taman Lalu Lintas Ade Irma Suryani Nasution\n",
      "Museum Mandala Wangsit Siliwangi\n",
      "--------------------------------\n",
      "Top 10 resto recommendation\n",
      "--------------------------------\n",
      "Monumen Nasional\n",
      "Atlantis Water Adventure\n",
      "Museum Bank Indonesia\n",
      "Wisata Agro Edukatif Istana Susu Cibugary\n",
      "The World Landmarks - Merapi Park Yogyakarta\n",
      "Air Terjun Kedung Pedut\n",
      "Pantai Baron\n",
      "Pintoe Langit Dahromo\n",
      "Tafso Barn\n",
      "Keraton Surabaya\n"
     ]
    }
   ],
   "source": [
    "print('Showing recommendations for users: {}'.format(user_id))\n",
    "print('===' * 9)\n",
    "print('Resto with high ratings from user')\n",
    "print('----' * 8)\n",
    "\n",
    "top_resto_user = (\n",
    "    resto_visited_by_user.sort_values(\n",
    "        by = 'Place_Ratings',\n",
    "        ascending=False\n",
    "    )\n",
    "    .head(5)\n",
    "    .Place_Id.values\n",
    ")\n",
    "\n",
    "resto_df_rows = resto_df[resto_df['Place_Id'].isin(top_resto_user)]\n",
    "for row in resto_df_rows.itertuples():\n",
    "    print(row.Place_Name)\n",
    " \n",
    "print('----' * 8)\n",
    "print('Top 10 resto recommendation')\n",
    "print('----' * 8)\n",
    "\n",
    "recommended_resto = resto_df[resto_df['Place_Id'].isin(recommended_resto_ids)]\n",
    "for row in recommended_resto.itertuples():\n",
    "    print(row.Place_Name)"
   ]
  },
  {
   "cell_type": "markdown",
   "metadata": {},
   "source": [
    "### Evaluasi Metric"
   ]
  },
  {
   "cell_type": "code",
   "execution_count": 60,
   "metadata": {},
   "outputs": [
    {
     "data": {
      "image/png": "[encoded data removed]",
      "text/plain": [
       "<Figure size 432x288 with 1 Axes>"
      ]
     },
     "metadata": {
      "needs_background": "light"
     },
     "output_type": "display_data"
    }
   ],
   "source": [
    "plt.plot(history.history['root_mean_squared_error'])\n",
    "plt.plot(history.history['val_root_mean_squared_error'])\n",
    "plt.title('model_metrics')\n",
    "plt.ylabel('root_mean_squared_error')\n",
    "plt.xlabel('epoch')\n",
    "plt.legend(['train', 'test'], loc='upper left')\n",
    "plt.show()"
   ]
  },
  {
   "cell_type": "markdown",
   "metadata": {},
   "source": [
    "hasil evaluasi metric dengan menggunakan root mean squared error pada collaborative filtering"
   ]
  },
  {
   "cell_type": "code",
   "execution_count": 61,
   "metadata": {},
   "outputs": [
    {
     "data": {
      "text/plain": [
       "[['Pantai Kukup', 0.5659440531411729],\n",
       " ['Pantai Timang', 0.5185433503874808],\n",
       " ['Pantai Drini', 0.5034916444153296],\n",
       " ['Pantai Ngandong', 0.48939744234953786],\n",
       " ['Pantai Sundak', 0.4855410205632307],\n",
       " ['Pantai Ngrawe (Mesra)', 0.4655150705971857],\n",
       " ['Pantai Sadranan', 0.44906283441167205],\n",
       " ['Pantai Jungwok', 0.42546650148837023],\n",
       " ['Pantai Cipta', 0.4101023347137378]]"
      ]
     },
     "execution_count": 61,
     "metadata": {},
     "output_type": "execute_result"
    }
   ],
   "source": [
    "recommend_by_content_based_filtering('Pantai Watu Kodok')"
   ]
  },
  {
   "cell_type": "markdown",
   "metadata": {},
   "source": [
    "Hasil evaluasi metric dengan menggunakan cosine similiarity"
   ]
  }
 ],
 "metadata": {
  "kernelspec": {
   "display_name": "Python 3.9.7 ('base')",
   "language": "python",
   "name": "python3"
  },
  "language_info": {
   "codemirror_mode": {
    "name": "ipython",
    "version": 3
   },
   "file_extension": ".py",
   "mimetype": "text/x-python",
   "name": "python",
   "nbconvert_exporter": "python",
   "pygments_lexer": "ipython3",
   "version": "3.9.7"
  },
  "orig_nbformat": 4,
  "vscode": {
   "interpreter": {
    "hash": "ab4cfb695e4995928d8d48b937410e7989a45ba361d6003efd8e9b7b9498f677"
   }
  }
 },
 "nbformat": 4,
 "nbformat_minor": 2
}
